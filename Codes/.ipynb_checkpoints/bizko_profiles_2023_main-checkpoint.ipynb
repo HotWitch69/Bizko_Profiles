{
 "cells": [
  {
   "cell_type": "code",
   "execution_count": 1,
   "metadata": {},
   "outputs": [],
   "source": [
    "# toggle multiple outputs \n",
    "from IPython.core.interactiveshell import InteractiveShell\n",
    "InteractiveShell.ast_node_interactivity = \"all\"\n",
    "\n",
    "# import processing funcs\n",
    "from data_proc_ntbk_funcs import *"
   ]
  },
  {
   "cell_type": "markdown",
   "metadata": {},
   "source": [
    ">**PROXY CRITERIA**\n",
    "- see proxy criteria txt file in this same folder!"
   ]
  },
  {
   "cell_type": "code",
   "execution_count": 4,
   "metadata": {},
   "outputs": [
    {
     "data": {
      "text/plain": [
       "('202310', '202403')"
      ]
     },
     "execution_count": 4,
     "metadata": {},
     "output_type": "execute_result"
    },
    {
     "name": "stdout",
     "output_type": "stream",
     "text": [
      "DatetimeIndex(['2024-03-01 16:26:35.018699'], dtype='datetime64[ns]', freq='MS')\n"
     ]
    },
    {
     "data": {
      "text/html": [
       "<div>\n",
       "<style scoped>\n",
       "    .dataframe tbody tr th:only-of-type {\n",
       "        vertical-align: middle;\n",
       "    }\n",
       "\n",
       "    .dataframe tbody tr th {\n",
       "        vertical-align: top;\n",
       "    }\n",
       "\n",
       "    .dataframe thead th {\n",
       "        text-align: right;\n",
       "    }\n",
       "</style>\n",
       "<table border=\"1\" class=\"dataframe\">\n",
       "  <thead>\n",
       "    <tr style=\"text-align: right;\">\n",
       "      <th></th>\n",
       "      <th>Filename</th>\n",
       "      <th>Size (MB):</th>\n",
       "    </tr>\n",
       "  </thead>\n",
       "  <tbody>\n",
       "    <tr>\n",
       "      <th>0</th>\n",
       "      <td>DEPO_DS_202403.parquet</td>\n",
       "      <td>738.46mb</td>\n",
       "    </tr>\n",
       "  </tbody>\n",
       "</table>\n",
       "</div>"
      ],
      "text/plain": [
       "                 Filename Size (MB):\n",
       "0  DEPO_DS_202403.parquet   738.46mb"
      ]
     },
     "metadata": {},
     "output_type": "display_data"
    },
    {
     "name": "stdout",
     "output_type": "stream",
     "text": [
      "DatetimeIndex(['2023-10-01 16:26:35.018699', '2023-11-01 16:26:35.018699',\n",
      "               '2023-12-01 16:26:35.018699', '2024-01-01 16:26:35.018699',\n",
      "               '2024-02-01 16:26:35.018699', '2024-03-01 16:26:35.018699'],\n",
      "              dtype='datetime64[ns]', freq='MS')\n"
     ]
    },
    {
     "data": {
      "text/html": [
       "<div>\n",
       "<style scoped>\n",
       "    .dataframe tbody tr th:only-of-type {\n",
       "        vertical-align: middle;\n",
       "    }\n",
       "\n",
       "    .dataframe tbody tr th {\n",
       "        vertical-align: top;\n",
       "    }\n",
       "\n",
       "    .dataframe thead th {\n",
       "        text-align: right;\n",
       "    }\n",
       "</style>\n",
       "<table border=\"1\" class=\"dataframe\">\n",
       "  <thead>\n",
       "    <tr style=\"text-align: right;\">\n",
       "      <th></th>\n",
       "      <th>Filename</th>\n",
       "      <th>Size (MB):</th>\n",
       "    </tr>\n",
       "  </thead>\n",
       "  <tbody>\n",
       "    <tr>\n",
       "      <th>0</th>\n",
       "      <td>NG_F_202310_ppm.parquet</td>\n",
       "      <td>521.85mb</td>\n",
       "    </tr>\n",
       "    <tr>\n",
       "      <th>1</th>\n",
       "      <td>NG_F_202311_ppm.parquet</td>\n",
       "      <td>801.75mb</td>\n",
       "    </tr>\n",
       "    <tr>\n",
       "      <th>2</th>\n",
       "      <td>NG_F_202312_ppm.parquet</td>\n",
       "      <td>917.49mb</td>\n",
       "    </tr>\n",
       "    <tr>\n",
       "      <th>3</th>\n",
       "      <td>NG_F_202401_ppm.parquet</td>\n",
       "      <td>844.19mb</td>\n",
       "    </tr>\n",
       "    <tr>\n",
       "      <th>4</th>\n",
       "      <td>NG_F_202402_ppm.parquet</td>\n",
       "      <td>759.73mb</td>\n",
       "    </tr>\n",
       "    <tr>\n",
       "      <th>5</th>\n",
       "      <td>NG_F_202403_ppm.parquet</td>\n",
       "      <td>840.12mb</td>\n",
       "    </tr>\n",
       "  </tbody>\n",
       "</table>\n",
       "</div>"
      ],
      "text/plain": [
       "                  Filename Size (MB):\n",
       "0  NG_F_202310_ppm.parquet   521.85mb\n",
       "1  NG_F_202311_ppm.parquet   801.75mb\n",
       "2  NG_F_202312_ppm.parquet   917.49mb\n",
       "3  NG_F_202401_ppm.parquet   844.19mb\n",
       "4  NG_F_202402_ppm.parquet   759.73mb\n",
       "5  NG_F_202403_ppm.parquet   840.12mb"
      ]
     },
     "metadata": {},
     "output_type": "display_data"
    },
    {
     "name": "stdout",
     "output_type": "stream",
     "text": [
      "DatetimeIndex(['2023-10-01 16:26:35.018699', '2023-11-01 16:26:35.018699',\n",
      "               '2023-12-01 16:26:35.018699', '2024-01-01 16:26:35.018699',\n",
      "               '2024-02-01 16:26:35.018699', '2024-03-01 16:26:35.018699'],\n",
      "              dtype='datetime64[ns]', freq='MS')\n"
     ]
    },
    {
     "data": {
      "text/html": [
       "<div>\n",
       "<style scoped>\n",
       "    .dataframe tbody tr th:only-of-type {\n",
       "        vertical-align: middle;\n",
       "    }\n",
       "\n",
       "    .dataframe tbody tr th {\n",
       "        vertical-align: top;\n",
       "    }\n",
       "\n",
       "    .dataframe thead th {\n",
       "        text-align: right;\n",
       "    }\n",
       "</style>\n",
       "<table border=\"1\" class=\"dataframe\">\n",
       "  <thead>\n",
       "    <tr style=\"text-align: right;\">\n",
       "      <th></th>\n",
       "      <th>Filename</th>\n",
       "      <th>Size (MB):</th>\n",
       "    </tr>\n",
       "  </thead>\n",
       "  <tbody>\n",
       "    <tr>\n",
       "      <th>0</th>\n",
       "      <td>INSTAPAY_OUTGOING_202310.parquet</td>\n",
       "      <td>159.55mb</td>\n",
       "    </tr>\n",
       "    <tr>\n",
       "      <th>1</th>\n",
       "      <td>INSTAPAY_OUTGOING_202311.parquet</td>\n",
       "      <td>167.95mb</td>\n",
       "    </tr>\n",
       "    <tr>\n",
       "      <th>2</th>\n",
       "      <td>INSTAPAY_OUTGOING_202312.parquet</td>\n",
       "      <td>142.59mb</td>\n",
       "    </tr>\n",
       "    <tr>\n",
       "      <th>3</th>\n",
       "      <td>INSTAPAY_OUTGOING_202401.parquet</td>\n",
       "      <td>196.59mb</td>\n",
       "    </tr>\n",
       "    <tr>\n",
       "      <th>4</th>\n",
       "      <td>INSTAPAY_OUTGOING_202402.parquet</td>\n",
       "      <td>208.12mb</td>\n",
       "    </tr>\n",
       "    <tr>\n",
       "      <th>5</th>\n",
       "      <td>INSTAPAY_OUTGOING_202403.parquet</td>\n",
       "      <td>130.77mb</td>\n",
       "    </tr>\n",
       "  </tbody>\n",
       "</table>\n",
       "</div>"
      ],
      "text/plain": [
       "                           Filename Size (MB):\n",
       "0  INSTAPAY_OUTGOING_202310.parquet   159.55mb\n",
       "1  INSTAPAY_OUTGOING_202311.parquet   167.95mb\n",
       "2  INSTAPAY_OUTGOING_202312.parquet   142.59mb\n",
       "3  INSTAPAY_OUTGOING_202401.parquet   196.59mb\n",
       "4  INSTAPAY_OUTGOING_202402.parquet   208.12mb\n",
       "5  INSTAPAY_OUTGOING_202403.parquet   130.77mb"
      ]
     },
     "metadata": {},
     "output_type": "display_data"
    },
    {
     "name": "stdout",
     "output_type": "stream",
     "text": [
      "DatetimeIndex(['2023-10-01 16:26:35.018699', '2023-11-01 16:26:35.018699',\n",
      "               '2023-12-01 16:26:35.018699', '2024-01-01 16:26:35.018699',\n",
      "               '2024-02-01 16:26:35.018699', '2024-03-01 16:26:35.018699'],\n",
      "              dtype='datetime64[ns]', freq='MS')\n"
     ]
    },
    {
     "data": {
      "text/html": [
       "<div>\n",
       "<style scoped>\n",
       "    .dataframe tbody tr th:only-of-type {\n",
       "        vertical-align: middle;\n",
       "    }\n",
       "\n",
       "    .dataframe tbody tr th {\n",
       "        vertical-align: top;\n",
       "    }\n",
       "\n",
       "    .dataframe thead th {\n",
       "        text-align: right;\n",
       "    }\n",
       "</style>\n",
       "<table border=\"1\" class=\"dataframe\">\n",
       "  <thead>\n",
       "    <tr style=\"text-align: right;\">\n",
       "      <th></th>\n",
       "      <th>Filename</th>\n",
       "      <th>Size (MB):</th>\n",
       "    </tr>\n",
       "  </thead>\n",
       "  <tbody>\n",
       "    <tr>\n",
       "      <th>0</th>\n",
       "      <td>INSTAPAY_INCOMING_202310.parquet</td>\n",
       "      <td>171.29mb</td>\n",
       "    </tr>\n",
       "    <tr>\n",
       "      <th>1</th>\n",
       "      <td>INSTAPAY_INCOMING_202311.parquet</td>\n",
       "      <td>171.78mb</td>\n",
       "    </tr>\n",
       "    <tr>\n",
       "      <th>2</th>\n",
       "      <td>INSTAPAY_INCOMING_202312.parquet</td>\n",
       "      <td>200.21mb</td>\n",
       "    </tr>\n",
       "    <tr>\n",
       "      <th>3</th>\n",
       "      <td>INSTAPAY_INCOMING_202401.parquet</td>\n",
       "      <td>181.51mb</td>\n",
       "    </tr>\n",
       "    <tr>\n",
       "      <th>4</th>\n",
       "      <td>INSTAPAY_INCOMING_202402.parquet</td>\n",
       "      <td>180.39mb</td>\n",
       "    </tr>\n",
       "    <tr>\n",
       "      <th>5</th>\n",
       "      <td>INSTAPAY_INCOMING_202403.parquet</td>\n",
       "      <td>181.59mb</td>\n",
       "    </tr>\n",
       "  </tbody>\n",
       "</table>\n",
       "</div>"
      ],
      "text/plain": [
       "                           Filename Size (MB):\n",
       "0  INSTAPAY_INCOMING_202310.parquet   171.29mb\n",
       "1  INSTAPAY_INCOMING_202311.parquet   171.78mb\n",
       "2  INSTAPAY_INCOMING_202312.parquet   200.21mb\n",
       "3  INSTAPAY_INCOMING_202401.parquet   181.51mb\n",
       "4  INSTAPAY_INCOMING_202402.parquet   180.39mb\n",
       "5  INSTAPAY_INCOMING_202403.parquet   181.59mb"
      ]
     },
     "metadata": {},
     "output_type": "display_data"
    },
    {
     "name": "stdout",
     "output_type": "stream",
     "text": [
      "DatetimeIndex(['2023-10-01 16:26:35.018699', '2023-11-01 16:26:35.018699',\n",
      "               '2023-12-01 16:26:35.018699', '2024-01-01 16:26:35.018699',\n",
      "               '2024-02-01 16:26:35.018699', '2024-03-01 16:26:35.018699'],\n",
      "              dtype='datetime64[ns]', freq='MS')\n"
     ]
    },
    {
     "data": {
      "text/html": [
       "<div>\n",
       "<style scoped>\n",
       "    .dataframe tbody tr th:only-of-type {\n",
       "        vertical-align: middle;\n",
       "    }\n",
       "\n",
       "    .dataframe tbody tr th {\n",
       "        vertical-align: top;\n",
       "    }\n",
       "\n",
       "    .dataframe thead th {\n",
       "        text-align: right;\n",
       "    }\n",
       "</style>\n",
       "<table border=\"1\" class=\"dataframe\">\n",
       "  <thead>\n",
       "    <tr style=\"text-align: right;\">\n",
       "      <th></th>\n",
       "      <th>Filename</th>\n",
       "      <th>Size (MB):</th>\n",
       "    </tr>\n",
       "  </thead>\n",
       "  <tbody>\n",
       "    <tr>\n",
       "      <th>0</th>\n",
       "      <td>cleaned_buds_ej_2023_10.parquet</td>\n",
       "      <td>259.26mb</td>\n",
       "    </tr>\n",
       "    <tr>\n",
       "      <th>1</th>\n",
       "      <td>cleaned_buds_ej_2023_11.parquet</td>\n",
       "      <td>241.76mb</td>\n",
       "    </tr>\n",
       "    <tr>\n",
       "      <th>2</th>\n",
       "      <td>cleaned_buds_ej_2023_12.parquet</td>\n",
       "      <td>249.06mb</td>\n",
       "    </tr>\n",
       "    <tr>\n",
       "      <th>3</th>\n",
       "      <td>cleaned_buds_ej_2024_01.parquet</td>\n",
       "      <td>270.84mb</td>\n",
       "    </tr>\n",
       "  </tbody>\n",
       "</table>\n",
       "</div>"
      ],
      "text/plain": [
       "                          Filename Size (MB):\n",
       "0  cleaned_buds_ej_2023_10.parquet   259.26mb\n",
       "1  cleaned_buds_ej_2023_11.parquet   241.76mb\n",
       "2  cleaned_buds_ej_2023_12.parquet   249.06mb\n",
       "3  cleaned_buds_ej_2024_01.parquet   270.84mb"
      ]
     },
     "metadata": {},
     "output_type": "display_data"
    },
    {
     "name": "stdout",
     "output_type": "stream",
     "text": [
      "DatetimeIndex(['2023-10-01 16:26:35.018699', '2023-11-01 16:26:35.018699',\n",
      "               '2023-12-01 16:26:35.018699', '2024-01-01 16:26:35.018699',\n",
      "               '2024-02-01 16:26:35.018699', '2024-03-01 16:26:35.018699'],\n",
      "              dtype='datetime64[ns]', freq='MS')\n"
     ]
    },
    {
     "data": {
      "text/html": [
       "<div>\n",
       "<style scoped>\n",
       "    .dataframe tbody tr th:only-of-type {\n",
       "        vertical-align: middle;\n",
       "    }\n",
       "\n",
       "    .dataframe tbody tr th {\n",
       "        vertical-align: top;\n",
       "    }\n",
       "\n",
       "    .dataframe thead th {\n",
       "        text-align: right;\n",
       "    }\n",
       "</style>\n",
       "<table border=\"1\" class=\"dataframe\">\n",
       "  <thead>\n",
       "    <tr style=\"text-align: right;\">\n",
       "      <th></th>\n",
       "      <th>Filename</th>\n",
       "      <th>Size (MB):</th>\n",
       "    </tr>\n",
       "  </thead>\n",
       "  <tbody>\n",
       "    <tr>\n",
       "      <th>0</th>\n",
       "      <td>enrollment_202310.parquet</td>\n",
       "      <td>45.35mb</td>\n",
       "    </tr>\n",
       "    <tr>\n",
       "      <th>1</th>\n",
       "      <td>enrollment_202311.parquet</td>\n",
       "      <td>84.03mb</td>\n",
       "    </tr>\n",
       "    <tr>\n",
       "      <th>2</th>\n",
       "      <td>enrollment_202312.parquet</td>\n",
       "      <td>86.48mb</td>\n",
       "    </tr>\n",
       "    <tr>\n",
       "      <th>3</th>\n",
       "      <td>enrollment_202401.parquet</td>\n",
       "      <td>82.44mb</td>\n",
       "    </tr>\n",
       "    <tr>\n",
       "      <th>4</th>\n",
       "      <td>enrollment_202402.parquet</td>\n",
       "      <td>82.23mb</td>\n",
       "    </tr>\n",
       "    <tr>\n",
       "      <th>5</th>\n",
       "      <td>enrollment_202403.parquet</td>\n",
       "      <td>79.31mb</td>\n",
       "    </tr>\n",
       "  </tbody>\n",
       "</table>\n",
       "</div>"
      ],
      "text/plain": [
       "                    Filename Size (MB):\n",
       "0  enrollment_202310.parquet    45.35mb\n",
       "1  enrollment_202311.parquet    84.03mb\n",
       "2  enrollment_202312.parquet    86.48mb\n",
       "3  enrollment_202401.parquet    82.44mb\n",
       "4  enrollment_202402.parquet    82.23mb\n",
       "5  enrollment_202403.parquet    79.31mb"
      ]
     },
     "metadata": {},
     "output_type": "display_data"
    }
   ],
   "source": [
    "## SET-UP CELL\n",
    "#-------------------------------------------------------------------------------------------\n",
    "\n",
    "# declare paths \n",
    "proj_path = r'C:\\Users\\ndtcrisologo\\Desktop\\BTDA Projects\\Beams\\[DE&T] Bizko Target Market Sizing'\n",
    "ngf_path = r's3://bpiprodda-sagemaker-strg/DATASETS/REGULAR_DATA/NG/NG_FIN/'\n",
    "outpay_path = r's3://bpiprodda-sagemaker-strg/DATASETS/REGULAR_DATA/NG/INSTAPAY/INSTAPAY_OUTGOING/'\n",
    "ipay_path = r's3://bpiprodda-sagemaker-strg/DATASETS/REGULAR_DATA/NG/INSTAPAY/INSTAPAY_INCOMING/'\n",
    "ngnf_path = r's3://bpiprodda-sagemaker-strg/DATASETS/REGULAR_DATA/NG/NG_NONFIN/'\n",
    "ppm_path = r's3://bpiprodda-sagemaker-strg/DATASETS/REGULAR_DATA/CLIENT_SEGMENTS/PPM_CSTSMY/'\n",
    "bantay_path = r'C:\\Users\\ndtcrisologo\\OneDrive - bpi.com.ph\\Documents\\ADHOC DATA\\Bantay\\Final Output'\n",
    "bantay_cube_path = r'C:\\Users\\ndtcrisologo\\OneDrive - bpi.com.ph\\Documents\\ADHOC DATA\\Bantay\\Codes and Run Info\\Raw Outliers'\n",
    "sc_path = r's3://bpiprodda-sagemaker-strg/DATASETS/REGULAR_DATA/CLIENT_SEGMENTS/CST_SCORECARD/'\n",
    "cstsmy_path = r's3://bpiprodda-sagemaker-strg/DATASETS/REGULAR_DATA/CLIENT_SEGMENTS/CSTSMY/'\n",
    "subseg_path = r's3://bpiprodda-sagemaker-strg/DATASETS/REGULAR_DATA/CLIENT_SEGMENTS/CST_SUBSEGMEGA/'\n",
    "ndb_path = r's3://bpiprodda-sagemaker-strg/DATASETS/REGULAR_DATA/CLIENT_INFO/NDB/'\n",
    "bb_hier_path = r's3://bpiprodda-sagemaker-strg/DATASETS/REGULAR_DATA/CLIENT_INFO/RELA2/'\n",
    "cb_hier_path = r's3://bpiprodda-sagemaker-strg/DATASETS/REGULAR_DATA/CLIENT_INFO/RELA2/'\n",
    "ccd_conso_path = r's3://bpiprodda-sagemaker-strg/DATASETS/REGULAR_DATA/CREDIT_CARDS/CC_CONSO/CONSO_CUST_ALL/'\n",
    "loans_path = r's3://bpiprodda-sagemaker-strg/DATASETS/REGULAR_DATA/LOANS/ACXS/'\n",
    "dba_path = r'C:\\Users\\ndtcrisologo\\Desktop\\BTDA Projects\\Beams\\[DE&T] Bizko Target Market Sizing\\rmrscsm'\n",
    "inter_path = r'C:\\Users\\ndtcrisologo\\Desktop\\BTDA Projects\\Beams\\[DE&T] Bizko Target Market Sizing\\Intermediary Datasets' # intermediary datasets repo\n",
    "feats_path = r'C:\\Users\\ndtcrisologo\\Desktop\\BTDA Projects\\Beams\\[DE&T] Bizko Target Market Sizing\\Feature Sets' # for storing proxy feature sets\n",
    "ari_buds_path = r'C:\\Users\\ndtcrisologo\\OneDrive - bpi.com.ph\\Cleaned_BUDS - Intermediary Dataset for Flock'\n",
    "alldepo_path = r's3://bpiprodda-sagemaker-strg/DATASETS/REGULAR_DATA/DEPOSITS/ALL_DEPO_DS/'\n",
    "prod_path = r's3://bpiprodda-sagemaker-strg/DATASETS/REGULAR_DATA/PROFITABILITY/CLIENT_PROFITABILITY/'\n",
    "ave12_path = r's3://bpiprodda-sagemaker-strg/DATASETS/REGULAR_DATA/FUNDS/CST_FUNDS_AVE12_MTDADB/'\n",
    "br_path = r's3://bpiprodda-sagemaker-strg/DATASETS/REGULAR_DATA/CLIENT_INFO/BR_CODE/'\n",
    "hier_path = r'C:\\Users\\ndtcrisologo\\OneDrive - bpi.com.ph\\Documents\\REGULAR_DATA\\REFERENCE\\BRANCH_HIERARCHY'\n",
    "bizko_enrol_path = r's3://bpiprodda-sagemaker-strg/DATASETS/REGULAR_DATA/CORPORATE_AND_BUSINESS_BANK/BIZKO/SUBSCRIPTIONS/'\n",
    "out_path = r'C:\\Users\\ndtcrisologo\\Desktop\\BTDA Projects\\Beams\\[DE&T] Bizko Target Market Sizing\\Outputs'\n",
    "enrol_path = r's3://bpiprodda-sagemaker-strg/DATASETS/REGULAR_DATA/PRODUCTS_AND_CHANNELS/CHANNEL_ENROLLMENT/'\n",
    "\n",
    "# declare file formats for those that require ranges\n",
    "ngf_frmt = 'NG_F_%Y%m_ppm.parquet'\n",
    "ngnf_frmt = 'NG_NF_%Y%m_ppm.parquet'\n",
    "outpay_frmt = 'INSTAPAY_OUTGOING_%Y%m.parquet'\n",
    "ipay_frmt = 'INSTAPAY_INCOMING_%Y%m.parquet'\n",
    "cstsmy_frmt = 'cstsmy_%Y%m.parquet'\n",
    "ari_buds_frmt = 'cleaned_buds_ej_%Y_%m.parquet'\n",
    "alldepo_frmt = 'DEPO_DS_%Y%m.parquet'\n",
    "enrol_frmt = 'enrollment_%Y%m.parquet'\n",
    "\n",
    "\n",
    "# declare file formats for those where only the latest is needed\n",
    "sc_frmt = 'cst_scorecard_*_b.parquet'\n",
    "#cstsmy_frmt = 'cstsmy_*.parquet'\n",
    "subseg_frmt = 'cst_subseg_mega_??????.parquet'\n",
    "ndb_frmt = 'NDB_*.parquet'\n",
    "bb_hier_frmt = 'businessbank_rela2_*.csv'\n",
    "cb_hier_frmt = 'ccsg_group_list_*.csv'\n",
    "dba_frmt = 'mask_rmrcsm_*.sas7bdat'\n",
    "hier_frmt = 'BRANCH_HIERARCHY_*.parquet'\n",
    "br_frmt = 'BRCODE_*.parquet'\n",
    "bizko_enrol_frmt = 'subscr_ytd_*.parquet'\n",
    "clientprod_frmt = 'client_prod_adb_prod_*.parquet'\n",
    "ave12_frmt = 'ave12_mtdadb_*.parquet'\n",
    "\n",
    "\n",
    "\n",
    "## PROPER\n",
    "#------------------------------------------------------------------------------------\n",
    "# get dates (6 month scope as of 8/15/2023)\n",
    "end = datetime.today() - relativedelta(months=2) # - 2 since they want us to\n",
    "start = end-relativedelta(months=5)\n",
    "start_str = start.strftime('%Y%m')\n",
    "end_str = end.strftime('%Y%m')\n",
    "start_str, end_str\n",
    "\n",
    "# get file ranges\n",
    "adb_files = get_files(end, 1, alldepo_path, alldepo_frmt)\n",
    "ngf_files = get_files(end, 6, ngf_path, ngf_frmt)\n",
    "outsta_files = get_files(end, 6, outpay_path, outpay_frmt)\n",
    "insta_files = get_files(end, 6, ipay_path, ipay_frmt)\n",
    "buds_files = get_files(end, 6, ari_buds_path, ari_buds_frmt)\n",
    "enrol_files = get_files(end, 6, enrol_path, enrol_frmt)\n",
    "#ngnf_files = get_files(6, ngnf_path, ngnf_frmt)\n",
    "\n",
    "# declare savenames\n",
    "buds_savename = f\"buds_inter_df_{start_str}_{end_str}.parquet\"\n",
    "pyrl_savename = f\"pyrl_inter_df_{start_str}_{end_str}.parquet\"\n",
    "invoice_savename = f\"invoice_inter_df_{start_str}_{end_str}.parquet\"\n",
    "bpay_savename = f\"bpay_inter_df_{start_str}_{end_str}.parquet\"\n",
    "#inquiry_savename = f\"inquiry_inter_df_{start_str}_{end_str}.parquet\"\n",
    "\n",
    "# declare savenames for proxy feature sets\n",
    "buds_feats_savename = f\"buds_feats_{start_str}_{end_str}.parquet\"\n",
    "pyrl_feats_savename = f\"pyrl_feats_{start_str}_{end_str}.parquet\"\n",
    "invoice_feats_savename = f\"invoice_feats_{start_str}_{end_str}.parquet\"\n",
    "bpay_feats_savename = f\"bpay_feats_{start_str}_{end_str}.parquet\"\n",
    "inquiry_feats_savename = f\"inquiry_feats_{start_str}_{end_str}.parquet\"\n",
    "\n",
    "# declare FINAL output savename\n",
    "final_savename = f\"bizko_profiles_{end_str}.xlsx\""
   ]
  },
  {
   "cell_type": "code",
   "execution_count": 1,
   "metadata": {},
   "outputs": [],
   "source": [
    "ref_path = r'C:\\Users\\ndtcrisologo\\OneDrive - bpi.com.ph\\Documents\\REFERENCE\\PRODUCT_REF'"
   ]
  },
  {
   "cell_type": "code",
   "execution_count": 10,
   "metadata": {},
   "outputs": [
    {
     "data": {
      "text/plain": [
       "Index(['MEASURE_PERIOD', 'VERSION', 'PD_ID', 'CBG_PD_ID', 'CORP_ID', 'ORG',\n",
       "       'CCY', 'BDW_CCY', 'SRC_SYS', 'PPM_DESC', 'NEW_PROD_GROUP', 'PROD_GROUP',\n",
       "       'CBG_PROD_BRAND', 'CBG_PRODUCT_NAME', 'UNIQUE_DESC', 'CBG_PROD_TYPE',\n",
       "       'PPM_PROD_TYPE_OLD', 'PROD_CAT', 'PROD_TYPE', 'PROD_TYPE_2',\n",
       "       'PROD_TYPE_3', 'PROD_LINE', 'VAR21', 'PROD_TYPE_SCPD',\n",
       "       'PRODUCT_TYPE_RM', 'ACCOUNT_SUBTYPE_IN_FDS', 'ASSET_CLASS',\n",
       "       'PROD_TYPE_AMTG', 'FUND_NAME', 'PROD_TYPE_RBG', 'PROD_TYPE_CCSG',\n",
       "       'PROD_TYPE_SUGAR_CRM', 'VAR31', 'WITH_DST', 'CURR_CODE'],\n",
       "      dtype='object')"
      ]
     },
     "execution_count": 10,
     "metadata": {},
     "output_type": "execute_result"
    }
   ],
   "source": [
    "temp = pd.read_parquet(os.path.join(ref_path, max(os.listdir(ref_path))))\n",
    "temp.columns"
   ]
  },
  {
   "cell_type": "code",
   "execution_count": 24,
   "metadata": {},
   "outputs": [
    {
     "data": {
      "text/html": [
       "<div>\n",
       "<style scoped>\n",
       "    .dataframe tbody tr th:only-of-type {\n",
       "        vertical-align: middle;\n",
       "    }\n",
       "\n",
       "    .dataframe tbody tr th {\n",
       "        vertical-align: top;\n",
       "    }\n",
       "\n",
       "    .dataframe thead th {\n",
       "        text-align: right;\n",
       "    }\n",
       "</style>\n",
       "<table border=\"1\" class=\"dataframe\">\n",
       "  <thead>\n",
       "    <tr style=\"text-align: right;\">\n",
       "      <th></th>\n",
       "      <th>MEASURE_PERIOD</th>\n",
       "      <th>VERSION</th>\n",
       "      <th>PD_ID</th>\n",
       "      <th>CBG_PD_ID</th>\n",
       "      <th>CORP_ID</th>\n",
       "      <th>ORG</th>\n",
       "      <th>CCY</th>\n",
       "      <th>BDW_CCY</th>\n",
       "      <th>SRC_SYS</th>\n",
       "      <th>PPM_DESC</th>\n",
       "      <th>...</th>\n",
       "      <th>ACCOUNT_SUBTYPE_IN_FDS</th>\n",
       "      <th>ASSET_CLASS</th>\n",
       "      <th>PROD_TYPE_AMTG</th>\n",
       "      <th>FUND_NAME</th>\n",
       "      <th>PROD_TYPE_RBG</th>\n",
       "      <th>PROD_TYPE_CCSG</th>\n",
       "      <th>PROD_TYPE_SUGAR_CRM</th>\n",
       "      <th>VAR31</th>\n",
       "      <th>WITH_DST</th>\n",
       "      <th>CURR_CODE</th>\n",
       "    </tr>\n",
       "  </thead>\n",
       "  <tbody>\n",
       "    <tr>\n",
       "      <th>2235</th>\n",
       "      <td>2023-12-31</td>\n",
       "      <td>01-04-2024</td>\n",
       "      <td>0243</td>\n",
       "      <td>243</td>\n",
       "      <td>01</td>\n",
       "      <td>None</td>\n",
       "      <td>101</td>\n",
       "      <td>PHP</td>\n",
       "      <td>ST</td>\n",
       "      <td>Saver-Plus Debit Card</td>\n",
       "      <td>...</td>\n",
       "      <td>None</td>\n",
       "      <td>None</td>\n",
       "      <td>None</td>\n",
       "      <td>None</td>\n",
       "      <td>Peso Build-Up</td>\n",
       "      <td>Peso Build-Up</td>\n",
       "      <td>Peso Build-Up</td>\n",
       "      <td>Statement</td>\n",
       "      <td>NO</td>\n",
       "      <td>PHP</td>\n",
       "    </tr>\n",
       "    <tr>\n",
       "      <th>2236</th>\n",
       "      <td>2023-12-31</td>\n",
       "      <td>01-04-2024</td>\n",
       "      <td>0243</td>\n",
       "      <td>243</td>\n",
       "      <td>01</td>\n",
       "      <td>None</td>\n",
       "      <td>001</td>\n",
       "      <td>PHP</td>\n",
       "      <td>ST</td>\n",
       "      <td>Saver-Plus Debit Card</td>\n",
       "      <td>...</td>\n",
       "      <td>None</td>\n",
       "      <td>None</td>\n",
       "      <td>None</td>\n",
       "      <td>None</td>\n",
       "      <td>Peso Build-Up</td>\n",
       "      <td>Peso Build-Up</td>\n",
       "      <td>Peso Build-Up</td>\n",
       "      <td>Statement</td>\n",
       "      <td>NO</td>\n",
       "      <td>PHP</td>\n",
       "    </tr>\n",
       "    <tr>\n",
       "      <th>2237</th>\n",
       "      <td>2023-12-31</td>\n",
       "      <td>01-04-2024</td>\n",
       "      <td>0243</td>\n",
       "      <td>243</td>\n",
       "      <td>02</td>\n",
       "      <td>None</td>\n",
       "      <td>101</td>\n",
       "      <td>PHP</td>\n",
       "      <td>ST</td>\n",
       "      <td>Saver-Plus Debit Card</td>\n",
       "      <td>...</td>\n",
       "      <td>None</td>\n",
       "      <td>None</td>\n",
       "      <td>None</td>\n",
       "      <td>None</td>\n",
       "      <td>Peso Build-Up</td>\n",
       "      <td>Peso Build-Up</td>\n",
       "      <td>Peso Build-Up</td>\n",
       "      <td>Statement</td>\n",
       "      <td>NO</td>\n",
       "      <td>PHP</td>\n",
       "    </tr>\n",
       "    <tr>\n",
       "      <th>2238</th>\n",
       "      <td>2023-12-31</td>\n",
       "      <td>01-04-2024</td>\n",
       "      <td>0243</td>\n",
       "      <td>243</td>\n",
       "      <td>02</td>\n",
       "      <td>None</td>\n",
       "      <td>001</td>\n",
       "      <td>PHP</td>\n",
       "      <td>ST</td>\n",
       "      <td>Saver-Plus Debit Card</td>\n",
       "      <td>...</td>\n",
       "      <td>None</td>\n",
       "      <td>None</td>\n",
       "      <td>None</td>\n",
       "      <td>None</td>\n",
       "      <td>Peso Build-Up</td>\n",
       "      <td>Peso Build-Up</td>\n",
       "      <td>Peso Build-Up</td>\n",
       "      <td>Statement</td>\n",
       "      <td>NO</td>\n",
       "      <td>PHP</td>\n",
       "    </tr>\n",
       "  </tbody>\n",
       "</table>\n",
       "<p>4 rows × 35 columns</p>\n",
       "</div>"
      ],
      "text/plain": [
       "     MEASURE_PERIOD     VERSION PD_ID CBG_PD_ID CORP_ID   ORG  CCY BDW_CCY  \\\n",
       "2235     2023-12-31  01-04-2024  0243       243      01  None  101     PHP   \n",
       "2236     2023-12-31  01-04-2024  0243       243      01  None  001     PHP   \n",
       "2237     2023-12-31  01-04-2024  0243       243      02  None  101     PHP   \n",
       "2238     2023-12-31  01-04-2024  0243       243      02  None  001     PHP   \n",
       "\n",
       "     SRC_SYS               PPM_DESC  ... ACCOUNT_SUBTYPE_IN_FDS ASSET_CLASS  \\\n",
       "2235      ST  Saver-Plus Debit Card  ...                   None        None   \n",
       "2236      ST  Saver-Plus Debit Card  ...                   None        None   \n",
       "2237      ST  Saver-Plus Debit Card  ...                   None        None   \n",
       "2238      ST  Saver-Plus Debit Card  ...                   None        None   \n",
       "\n",
       "     PROD_TYPE_AMTG FUND_NAME  PROD_TYPE_RBG PROD_TYPE_CCSG  \\\n",
       "2235           None      None  Peso Build-Up  Peso Build-Up   \n",
       "2236           None      None  Peso Build-Up  Peso Build-Up   \n",
       "2237           None      None  Peso Build-Up  Peso Build-Up   \n",
       "2238           None      None  Peso Build-Up  Peso Build-Up   \n",
       "\n",
       "     PROD_TYPE_SUGAR_CRM      VAR31 WITH_DST CURR_CODE  \n",
       "2235       Peso Build-Up  Statement       NO       PHP  \n",
       "2236       Peso Build-Up  Statement       NO       PHP  \n",
       "2237       Peso Build-Up  Statement       NO       PHP  \n",
       "2238       Peso Build-Up  Statement       NO       PHP  \n",
       "\n",
       "[4 rows x 35 columns]"
      ]
     },
     "execution_count": 24,
     "metadata": {},
     "output_type": "execute_result"
    }
   ],
   "source": [
    "temp.loc[temp.PD_ID=='0243']"
   ]
  },
  {
   "cell_type": "markdown",
   "metadata": {},
   "source": [
    "# Process Proxy Datasets"
   ]
  },
  {
   "cell_type": "markdown",
   "metadata": {},
   "source": [
    "**JTBD List**\n",
    "1) *Store money in branch & Receive money through branch **(Branch invoice proxy)***\n",
    "2) *Pay employees through NG **(NG Payroll proxy)***\n",
    "3) *Receive money through NG **(NG Invoice proxy)***\n"
   ]
  },
  {
   "cell_type": "markdown",
   "metadata": {},
   "source": [
    "### 1) Store Money in Branch (Branch deposit proxy) and Receive money through branch (Branch invoice proxy)"
   ]
  },
  {
   "cell_type": "code",
   "execution_count": 4,
   "metadata": {},
   "outputs": [
    {
     "name": "stdout",
     "output_type": "stream",
     "text": [
      "Edge: 2024-01-01 00:00:00\n"
     ]
    },
    {
     "data": {
      "application/vnd.jupyter.widget-view+json": {
       "model_id": "ca2bae9bc61d4bcab4219929f8206338",
       "version_major": 2,
       "version_minor": 0
      },
      "text/plain": [
       "  0%|          | 0/4 [00:00<?, ?it/s]"
      ]
     },
     "metadata": {},
     "output_type": "display_data"
    },
    {
     "data": {
      "text/plain": [
       "59"
      ]
     },
     "execution_count": 4,
     "metadata": {},
     "output_type": "execute_result"
    },
    {
     "data": {
      "text/plain": [
       "0"
      ]
     },
     "execution_count": 4,
     "metadata": {},
     "output_type": "execute_result"
    }
   ],
   "source": [
    "# set buds cols to use \n",
    "buds_cols = ['BRANCH','TRAN_NAME','AR_ID','CST_ID','MARKET_SEGMENT','TRAN_AMOUNT','BUSINESS_DATE']\n",
    "\n",
    "# produce concatenated buds deposits data\n",
    "buds_df = proc_buds(ari_buds_path, buds_files, verbose=True)\n",
    "\n",
    "# write inter file\n",
    "buds_df.to_parquet(os.path.join(inter_path, buds_savename))\n",
    "del buds_df\n",
    "gc.collect()\n",
    "gc.collect()"
   ]
  },
  {
   "cell_type": "code",
   "execution_count": 5,
   "metadata": {},
   "outputs": [
    {
     "data": {
      "text/html": [
       "<div>\n",
       "<style scoped>\n",
       "    .dataframe tbody tr th:only-of-type {\n",
       "        vertical-align: middle;\n",
       "    }\n",
       "\n",
       "    .dataframe tbody tr th {\n",
       "        vertical-align: top;\n",
       "    }\n",
       "\n",
       "    .dataframe thead th {\n",
       "        text-align: right;\n",
       "    }\n",
       "</style>\n",
       "<table border=\"1\" class=\"dataframe\">\n",
       "  <thead>\n",
       "    <tr style=\"text-align: right;\">\n",
       "      <th></th>\n",
       "      <th>BRANCH</th>\n",
       "      <th>TRAN_NAME</th>\n",
       "      <th>AR_ID</th>\n",
       "      <th>CST_ID</th>\n",
       "      <th>MARKET_SEGMENT</th>\n",
       "      <th>TRAN_AMOUNT</th>\n",
       "      <th>BUSINESS_DATE</th>\n",
       "      <th>MONTH</th>\n",
       "    </tr>\n",
       "  </thead>\n",
       "  <tbody>\n",
       "    <tr>\n",
       "      <th>0</th>\n",
       "      <td>1027</td>\n",
       "      <td>SA LATE LOCAL CHECK DEPOSIT</td>\n",
       "      <td>667682640.0</td>\n",
       "      <td>845108910.0</td>\n",
       "      <td>NaN</td>\n",
       "      <td>8500.0</td>\n",
       "      <td>2023-10-02</td>\n",
       "      <td>2023-10-01</td>\n",
       "    </tr>\n",
       "    <tr>\n",
       "      <th>1</th>\n",
       "      <td>354</td>\n",
       "      <td>SA CASH DEPOSIT</td>\n",
       "      <td>617891850.0</td>\n",
       "      <td>716070520.0</td>\n",
       "      <td>NaN</td>\n",
       "      <td>30000.0</td>\n",
       "      <td>2023-10-02</td>\n",
       "      <td>2023-10-01</td>\n",
       "    </tr>\n",
       "    <tr>\n",
       "      <th>2</th>\n",
       "      <td>354</td>\n",
       "      <td>SA LOCAL CHECK DEPOSIT</td>\n",
       "      <td>689384930.0</td>\n",
       "      <td>230054610.0</td>\n",
       "      <td>NaN</td>\n",
       "      <td>15000.0</td>\n",
       "      <td>2023-10-02</td>\n",
       "      <td>2023-10-01</td>\n",
       "    </tr>\n",
       "    <tr>\n",
       "      <th>3</th>\n",
       "      <td>354</td>\n",
       "      <td>CA LOCAL CHECK DEPOSIT</td>\n",
       "      <td>969752630.0</td>\n",
       "      <td>45178410.0</td>\n",
       "      <td>NaN</td>\n",
       "      <td>2750.0</td>\n",
       "      <td>2023-10-02</td>\n",
       "      <td>2023-10-01</td>\n",
       "    </tr>\n",
       "    <tr>\n",
       "      <th>4</th>\n",
       "      <td>434</td>\n",
       "      <td>SA CASH DEPOSIT</td>\n",
       "      <td>857899350.0</td>\n",
       "      <td>294760410.0</td>\n",
       "      <td>NaN</td>\n",
       "      <td>20000.0</td>\n",
       "      <td>2023-10-02</td>\n",
       "      <td>2023-10-01</td>\n",
       "    </tr>\n",
       "  </tbody>\n",
       "</table>\n",
       "</div>"
      ],
      "text/plain": [
       "   BRANCH                    TRAN_NAME        AR_ID       CST_ID  \\\n",
       "0    1027  SA LATE LOCAL CHECK DEPOSIT  667682640.0  845108910.0   \n",
       "1     354              SA CASH DEPOSIT  617891850.0  716070520.0   \n",
       "2     354       SA LOCAL CHECK DEPOSIT  689384930.0  230054610.0   \n",
       "3     354       CA LOCAL CHECK DEPOSIT  969752630.0   45178410.0   \n",
       "4     434              SA CASH DEPOSIT  857899350.0  294760410.0   \n",
       "\n",
       "   MARKET_SEGMENT  TRAN_AMOUNT BUSINESS_DATE      MONTH  \n",
       "0             NaN       8500.0    2023-10-02 2023-10-01  \n",
       "1             NaN      30000.0    2023-10-02 2023-10-01  \n",
       "2             NaN      15000.0    2023-10-02 2023-10-01  \n",
       "3             NaN       2750.0    2023-10-02 2023-10-01  \n",
       "4             NaN      20000.0    2023-10-02 2023-10-01  "
      ]
     },
     "execution_count": 5,
     "metadata": {},
     "output_type": "execute_result"
    },
    {
     "data": {
      "text/plain": [
       "(7590116, 8)"
      ]
     },
     "execution_count": 5,
     "metadata": {},
     "output_type": "execute_result"
    }
   ],
   "source": [
    "# load intermediary data\n",
    "os.chdir(inter_path)\n",
    "buds = pd.read_parquet(max(glob.glob('*buds*.parquet'))).reset_index(drop=True)\n",
    "buds.head()\n",
    "buds.shape"
   ]
  },
  {
   "cell_type": "code",
   "execution_count": 6,
   "metadata": {},
   "outputs": [
    {
     "data": {
      "text/html": [
       "<div>\n",
       "<style scoped>\n",
       "    .dataframe tbody tr th:only-of-type {\n",
       "        vertical-align: middle;\n",
       "    }\n",
       "\n",
       "    .dataframe tbody tr th {\n",
       "        vertical-align: top;\n",
       "    }\n",
       "\n",
       "    .dataframe thead th {\n",
       "        text-align: right;\n",
       "    }\n",
       "</style>\n",
       "<table border=\"1\" class=\"dataframe\">\n",
       "  <thead>\n",
       "    <tr style=\"text-align: right;\">\n",
       "      <th></th>\n",
       "      <th>CST_ID</th>\n",
       "      <th>AR_ID</th>\n",
       "      <th>BRANCH_DEPOSIT_PRESENCE</th>\n",
       "      <th>MONTHLY_UNIQUE_BRANCHES</th>\n",
       "      <th>BRANCH</th>\n",
       "      <th>NO_OF_UNIQUE_BRANCHES</th>\n",
       "      <th>BR_DEPOSIT_JTBD_MANUAL</th>\n",
       "      <th>RECEIVE_JTBD_MANUAL</th>\n",
       "    </tr>\n",
       "  </thead>\n",
       "  <tbody>\n",
       "    <tr>\n",
       "      <th>3511854</th>\n",
       "      <td>74157500.0</td>\n",
       "      <td>364616350.0</td>\n",
       "      <td>19.666667</td>\n",
       "      <td>3.000000</td>\n",
       "      <td>497</td>\n",
       "      <td>5</td>\n",
       "      <td>1</td>\n",
       "      <td>1</td>\n",
       "    </tr>\n",
       "    <tr>\n",
       "      <th>57182602</th>\n",
       "      <td>633160100.0</td>\n",
       "      <td>669436220.0</td>\n",
       "      <td>19.333333</td>\n",
       "      <td>7.666667</td>\n",
       "      <td>137</td>\n",
       "      <td>8</td>\n",
       "      <td>1</td>\n",
       "      <td>1</td>\n",
       "    </tr>\n",
       "    <tr>\n",
       "      <th>14190171</th>\n",
       "      <td>102946320.0</td>\n",
       "      <td>300564550.0</td>\n",
       "      <td>19.333333</td>\n",
       "      <td>37.666667</td>\n",
       "      <td>903</td>\n",
       "      <td>52</td>\n",
       "      <td>1</td>\n",
       "      <td>1</td>\n",
       "    </tr>\n",
       "    <tr>\n",
       "      <th>52333339</th>\n",
       "      <td>529410200.0</td>\n",
       "      <td>131651420.0</td>\n",
       "      <td>19.333333</td>\n",
       "      <td>34.333333</td>\n",
       "      <td>187</td>\n",
       "      <td>43</td>\n",
       "      <td>1</td>\n",
       "      <td>1</td>\n",
       "    </tr>\n",
       "    <tr>\n",
       "      <th>10917975</th>\n",
       "      <td>102289400.0</td>\n",
       "      <td>355266900.0</td>\n",
       "      <td>19.333333</td>\n",
       "      <td>324.000000</td>\n",
       "      <td>99</td>\n",
       "      <td>444</td>\n",
       "      <td>1</td>\n",
       "      <td>1</td>\n",
       "    </tr>\n",
       "  </tbody>\n",
       "</table>\n",
       "</div>"
      ],
      "text/plain": [
       "               CST_ID        AR_ID  BRANCH_DEPOSIT_PRESENCE  \\\n",
       "3511854    74157500.0  364616350.0                19.666667   \n",
       "57182602  633160100.0  669436220.0                19.333333   \n",
       "14190171  102946320.0  300564550.0                19.333333   \n",
       "52333339  529410200.0  131651420.0                19.333333   \n",
       "10917975  102289400.0  355266900.0                19.333333   \n",
       "\n",
       "          MONTHLY_UNIQUE_BRANCHES  BRANCH  NO_OF_UNIQUE_BRANCHES  \\\n",
       "3511854                  3.000000     497                      5   \n",
       "57182602                 7.666667     137                      8   \n",
       "14190171                37.666667     903                     52   \n",
       "52333339                34.333333     187                     43   \n",
       "10917975               324.000000      99                    444   \n",
       "\n",
       "          BR_DEPOSIT_JTBD_MANUAL  RECEIVE_JTBD_MANUAL  \n",
       "3511854                        1                    1  \n",
       "57182602                       1                    1  \n",
       "14190171                       1                    1  \n",
       "52333339                       1                    1  \n",
       "10917975                       1                    1  "
      ]
     },
     "execution_count": 6,
     "metadata": {},
     "output_type": "execute_result"
    },
    {
     "data": {
      "text/plain": [
       "(1637360, 8)"
      ]
     },
     "execution_count": 6,
     "metadata": {},
     "output_type": "execute_result"
    },
    {
     "data": {
      "text/plain": [
       "0"
      ]
     },
     "execution_count": 6,
     "metadata": {},
     "output_type": "execute_result"
    },
    {
     "data": {
      "text/plain": [
       "0"
      ]
     },
     "execution_count": 6,
     "metadata": {},
     "output_type": "execute_result"
    }
   ],
   "source": [
    "# process data and save\n",
    "br = get_buds_features(buds)\n",
    "br.head()\n",
    "br.shape\n",
    "\n",
    "# write\n",
    "br.to_parquet(os.path.join(feats_path, buds_feats_savename))\n",
    "del br\n",
    "gc.collect()\n",
    "gc.collect()"
   ]
  },
  {
   "cell_type": "markdown",
   "metadata": {},
   "source": [
    "### 2) NG Payroll Proxy"
   ]
  },
  {
   "cell_type": "code",
   "execution_count": 7,
   "metadata": {},
   "outputs": [
    {
     "name": "stdout",
     "output_type": "stream",
     "text": [
      "Successfully Read and Processed: C:\\Users\\ndtcrisologo\\OneDrive - bpi.com.ph\\Documents\\REGULAR_DATA\\NG\\NG_FIN\\NG_F_202310_ppm.parquet\n",
      "Successfully Read and Processed: C:\\Users\\ndtcrisologo\\OneDrive - bpi.com.ph\\Documents\\REGULAR_DATA\\NG\\NG_FIN\\NG_F_202311_ppm.parquet\n",
      "Successfully Read and Processed: C:\\Users\\ndtcrisologo\\OneDrive - bpi.com.ph\\Documents\\REGULAR_DATA\\NG\\NG_FIN\\NG_F_202312_ppm.parquet\n",
      "Successfully Read and Processed: C:\\Users\\ndtcrisologo\\OneDrive - bpi.com.ph\\Documents\\REGULAR_DATA\\NG\\NG_FIN\\NG_F_202401_ppm.parquet\n",
      "Successfully Read and Processed: C:\\Users\\ndtcrisologo\\OneDrive - bpi.com.ph\\Documents\\REGULAR_DATA\\NG\\NG_FIN\\NG_F_202402_ppm.parquet\n",
      "Successfully Read and Processed: C:\\Users\\ndtcrisologo\\OneDrive - bpi.com.ph\\Documents\\REGULAR_DATA\\NG\\NG_FIN\\NG_F_202403_ppm.parquet\n",
      "Completed Concatenation for ng fin!\n"
     ]
    },
    {
     "data": {
      "text/plain": [
       "(21804325, 5)"
      ]
     },
     "execution_count": 7,
     "metadata": {},
     "output_type": "execute_result"
    },
    {
     "name": "stdout",
     "output_type": "stream",
     "text": [
      "Successfully Read and Processed: C:\\Users\\ndtcrisologo\\OneDrive - bpi.com.ph\\Documents\\REGULAR_DATA\\NG\\INSTAPAY\\INSTAPAY_OUTGOING\\INSTAPAY_OUTGOING_202310.parquet\n",
      "Successfully Read and Processed: C:\\Users\\ndtcrisologo\\OneDrive - bpi.com.ph\\Documents\\REGULAR_DATA\\NG\\INSTAPAY\\INSTAPAY_OUTGOING\\INSTAPAY_OUTGOING_202311.parquet\n",
      "Successfully Read and Processed: C:\\Users\\ndtcrisologo\\OneDrive - bpi.com.ph\\Documents\\REGULAR_DATA\\NG\\INSTAPAY\\INSTAPAY_OUTGOING\\INSTAPAY_OUTGOING_202312.parquet\n",
      "Successfully Read and Processed: C:\\Users\\ndtcrisologo\\OneDrive - bpi.com.ph\\Documents\\REGULAR_DATA\\NG\\INSTAPAY\\INSTAPAY_OUTGOING\\INSTAPAY_OUTGOING_202401.parquet\n",
      "Successfully Read and Processed: C:\\Users\\ndtcrisologo\\OneDrive - bpi.com.ph\\Documents\\REGULAR_DATA\\NG\\INSTAPAY\\INSTAPAY_OUTGOING\\INSTAPAY_OUTGOING_202402.parquet\n",
      "Successfully Read and Processed: C:\\Users\\ndtcrisologo\\OneDrive - bpi.com.ph\\Documents\\REGULAR_DATA\\NG\\INSTAPAY\\INSTAPAY_OUTGOING\\INSTAPAY_OUTGOING_202403.parquet\n",
      "Completed Concatenation for outstapay!\n"
     ]
    },
    {
     "data": {
      "text/plain": [
       "(30689209, 5)"
      ]
     },
     "execution_count": 7,
     "metadata": {},
     "output_type": "execute_result"
    },
    {
     "data": {
      "text/html": [
       "<div>\n",
       "<style scoped>\n",
       "    .dataframe tbody tr th:only-of-type {\n",
       "        vertical-align: middle;\n",
       "    }\n",
       "\n",
       "    .dataframe tbody tr th {\n",
       "        vertical-align: top;\n",
       "    }\n",
       "\n",
       "    .dataframe thead th {\n",
       "        text-align: right;\n",
       "    }\n",
       "</style>\n",
       "<table border=\"1\" class=\"dataframe\">\n",
       "  <thead>\n",
       "    <tr style=\"text-align: right;\">\n",
       "      <th></th>\n",
       "      <th>CST_ID</th>\n",
       "      <th>SRC_ARID</th>\n",
       "      <th>BENE_CUST_ID</th>\n",
       "      <th>TRAN_TYPE</th>\n",
       "      <th>MONTH</th>\n",
       "    </tr>\n",
       "  </thead>\n",
       "  <tbody>\n",
       "    <tr>\n",
       "      <th>0</th>\n",
       "      <td>243655000.0</td>\n",
       "      <td>525878440.0</td>\n",
       "      <td>790246510.0</td>\n",
       "      <td>FT TO ANYONE</td>\n",
       "      <td>10</td>\n",
       "    </tr>\n",
       "    <tr>\n",
       "      <th>1</th>\n",
       "      <td>252855000.0</td>\n",
       "      <td>923572500.0</td>\n",
       "      <td>222591500.0</td>\n",
       "      <td>FT TO ANYONE (QR)</td>\n",
       "      <td>10</td>\n",
       "    </tr>\n",
       "    <tr>\n",
       "      <th>2</th>\n",
       "      <td>252855000.0</td>\n",
       "      <td>923572500.0</td>\n",
       "      <td>50519410.0</td>\n",
       "      <td>FT 3RD PARTY</td>\n",
       "      <td>10</td>\n",
       "    </tr>\n",
       "    <tr>\n",
       "      <th>3</th>\n",
       "      <td>252855000.0</td>\n",
       "      <td>923572500.0</td>\n",
       "      <td>50519410.0</td>\n",
       "      <td>FT 3RD PARTY</td>\n",
       "      <td>10</td>\n",
       "    </tr>\n",
       "    <tr>\n",
       "      <th>4</th>\n",
       "      <td>591265000.0</td>\n",
       "      <td>NaN</td>\n",
       "      <td>217497800.0</td>\n",
       "      <td>FT 3RD PARTY</td>\n",
       "      <td>10</td>\n",
       "    </tr>\n",
       "  </tbody>\n",
       "</table>\n",
       "</div>"
      ],
      "text/plain": [
       "        CST_ID     SRC_ARID  BENE_CUST_ID          TRAN_TYPE  MONTH\n",
       "0  243655000.0  525878440.0   790246510.0       FT TO ANYONE     10\n",
       "1  252855000.0  923572500.0   222591500.0  FT TO ANYONE (QR)     10\n",
       "2  252855000.0  923572500.0    50519410.0       FT 3RD PARTY     10\n",
       "3  252855000.0  923572500.0    50519410.0       FT 3RD PARTY     10\n",
       "4  591265000.0          NaN   217497800.0       FT 3RD PARTY     10"
      ]
     },
     "execution_count": 7,
     "metadata": {},
     "output_type": "execute_result"
    },
    {
     "data": {
      "text/plain": [
       "(52493534, 5)"
      ]
     },
     "execution_count": 7,
     "metadata": {},
     "output_type": "execute_result"
    }
   ],
   "source": [
    "# # Declare tran types to use\n",
    "payroll_typs = [#'INTER BANK FUNDS TRANSFER', # the phantom ids for benes would be instapay \n",
    "                #'INTER BANK FUNDS TRANSFER (QR)',\n",
    "                #'BATCH FUNDS TRANSFER' # CHECK THIS FIRST\n",
    "                'FT 3RD PARTY', \n",
    "                'FT 3RD PARTY (QR)',\n",
    "                'FT TO ANYONE',\n",
    "                'FT TO ANYONE (QR)',\n",
    "                'FT TO ANYONE FOR PAYROLL', # APPLY CHANNEL FILTER FIRST (remove BEAMS channel but might have to remove the whole column nalang)\n",
    "                #'PESONET TRANSFER' # ibft but big amounts \n",
    "                ]\n",
    "                #'E-WALLET MAYA UN-ENROLLED',\n",
    "                #'E-WALLET PMAYA UN-ENROLLED',\n",
    "                #'E-WALLET BPI VYBE UN-ENROLLED'] #note cant use ewallet since they use aggregators (CST_ID there would be the aggregator)\n",
    "\n",
    "# get concatenated ng fin dataset \n",
    "ng_pyrl = proc_ng(sc_path, ngf_files, payroll_typs)\n",
    "ng_pyrl.shape\n",
    "\n",
    "# process outstapay data\n",
    "outsta_pyrl = proc_outstapay(sc_path, outsta_files, verbose=True)\n",
    "outsta_pyrl.shape\n",
    "\n",
    "# merge both into single df and add tags\n",
    "pyrl_df = pd.concat([ng_pyrl, outsta_pyrl], axis=0, ignore_index=True).rename(columns={'SRC_CUST_ID':'CST_ID'})\n",
    "                #.merge(tags, on='CST_ID', how='left').reset_index(drop=True)\n",
    "pyrl_df.head()\n",
    "pyrl_df.shape\n",
    "\n",
    "# write\n",
    "pyrl_df.to_parquet(os.path.join(inter_path, pyrl_savename))\n",
    "\n",
    "# free up space\n",
    "del ng_pyrl, outsta_pyrl, pyrl_df\n",
    "garbc()\n"
   ]
  },
  {
   "cell_type": "code",
   "execution_count": 8,
   "metadata": {},
   "outputs": [
    {
     "data": {
      "text/html": [
       "<div>\n",
       "<style scoped>\n",
       "    .dataframe tbody tr th:only-of-type {\n",
       "        vertical-align: middle;\n",
       "    }\n",
       "\n",
       "    .dataframe tbody tr th {\n",
       "        vertical-align: top;\n",
       "    }\n",
       "\n",
       "    .dataframe thead th {\n",
       "        text-align: right;\n",
       "    }\n",
       "</style>\n",
       "<table border=\"1\" class=\"dataframe\">\n",
       "  <thead>\n",
       "    <tr style=\"text-align: right;\">\n",
       "      <th></th>\n",
       "      <th>CST_ID</th>\n",
       "      <th>SRC_ARID</th>\n",
       "      <th>BENE_CUST_ID</th>\n",
       "      <th>TRAN_TYPE</th>\n",
       "      <th>MONTH</th>\n",
       "    </tr>\n",
       "  </thead>\n",
       "  <tbody>\n",
       "    <tr>\n",
       "      <th>0</th>\n",
       "      <td>243655000.0</td>\n",
       "      <td>525878440.0</td>\n",
       "      <td>790246510.0</td>\n",
       "      <td>FT TO ANYONE</td>\n",
       "      <td>10</td>\n",
       "    </tr>\n",
       "    <tr>\n",
       "      <th>1</th>\n",
       "      <td>252855000.0</td>\n",
       "      <td>923572500.0</td>\n",
       "      <td>222591500.0</td>\n",
       "      <td>FT TO ANYONE (QR)</td>\n",
       "      <td>10</td>\n",
       "    </tr>\n",
       "    <tr>\n",
       "      <th>2</th>\n",
       "      <td>252855000.0</td>\n",
       "      <td>923572500.0</td>\n",
       "      <td>50519410.0</td>\n",
       "      <td>FT 3RD PARTY</td>\n",
       "      <td>10</td>\n",
       "    </tr>\n",
       "    <tr>\n",
       "      <th>3</th>\n",
       "      <td>252855000.0</td>\n",
       "      <td>923572500.0</td>\n",
       "      <td>50519410.0</td>\n",
       "      <td>FT 3RD PARTY</td>\n",
       "      <td>10</td>\n",
       "    </tr>\n",
       "    <tr>\n",
       "      <th>4</th>\n",
       "      <td>591265000.0</td>\n",
       "      <td>NaN</td>\n",
       "      <td>217497800.0</td>\n",
       "      <td>FT 3RD PARTY</td>\n",
       "      <td>10</td>\n",
       "    </tr>\n",
       "  </tbody>\n",
       "</table>\n",
       "</div>"
      ],
      "text/plain": [
       "        CST_ID     SRC_ARID  BENE_CUST_ID          TRAN_TYPE  MONTH\n",
       "0  243655000.0  525878440.0   790246510.0       FT TO ANYONE     10\n",
       "1  252855000.0  923572500.0   222591500.0  FT TO ANYONE (QR)     10\n",
       "2  252855000.0  923572500.0    50519410.0       FT 3RD PARTY     10\n",
       "3  252855000.0  923572500.0    50519410.0       FT 3RD PARTY     10\n",
       "4  591265000.0          NaN   217497800.0       FT 3RD PARTY     10"
      ]
     },
     "execution_count": 8,
     "metadata": {},
     "output_type": "execute_result"
    },
    {
     "data": {
      "text/plain": [
       "(52493534, 5)"
      ]
     },
     "execution_count": 8,
     "metadata": {},
     "output_type": "execute_result"
    }
   ],
   "source": [
    "# load intermediary data\n",
    "os.chdir(inter_path)\n",
    "pyrl = pd.read_parquet(max(glob.glob('*pyrl_inter*.parquet'))).reset_index(drop=True)\n",
    "pyrl.head()\n",
    "pyrl.shape"
   ]
  },
  {
   "cell_type": "code",
   "execution_count": 9,
   "metadata": {},
   "outputs": [
    {
     "name": "stdout",
     "output_type": "stream",
     "text": [
      "nan rows to drop: AR_ID                        0\n",
      "MEAN_TRAN_TO_UNIQ_BENE       0\n",
      "TOT_UNIQ_BENE_OMNIPRESENT    0\n",
      "dtype: int64\n"
     ]
    },
    {
     "data": {
      "text/html": [
       "<div>\n",
       "<style scoped>\n",
       "    .dataframe tbody tr th:only-of-type {\n",
       "        vertical-align: middle;\n",
       "    }\n",
       "\n",
       "    .dataframe tbody tr th {\n",
       "        vertical-align: top;\n",
       "    }\n",
       "\n",
       "    .dataframe thead th {\n",
       "        text-align: right;\n",
       "    }\n",
       "</style>\n",
       "<table border=\"1\" class=\"dataframe\">\n",
       "  <thead>\n",
       "    <tr style=\"text-align: right;\">\n",
       "      <th></th>\n",
       "      <th>MEAN_TRAN_TO_UNIQ_BENE</th>\n",
       "      <th>TOT_UNIQ_BENE_OMNIPRESENT</th>\n",
       "      <th>PAYROLL_NG_PROXY_FLAG</th>\n",
       "    </tr>\n",
       "    <tr>\n",
       "      <th>AR_ID</th>\n",
       "      <th></th>\n",
       "      <th></th>\n",
       "      <th></th>\n",
       "    </tr>\n",
       "  </thead>\n",
       "  <tbody>\n",
       "    <tr>\n",
       "      <th>230.0</th>\n",
       "      <td>1.0</td>\n",
       "      <td>0.0</td>\n",
       "      <td>0</td>\n",
       "    </tr>\n",
       "    <tr>\n",
       "      <th>250.0</th>\n",
       "      <td>1.0</td>\n",
       "      <td>0.0</td>\n",
       "      <td>0</td>\n",
       "    </tr>\n",
       "    <tr>\n",
       "      <th>540.0</th>\n",
       "      <td>1.0</td>\n",
       "      <td>0.0</td>\n",
       "      <td>0</td>\n",
       "    </tr>\n",
       "    <tr>\n",
       "      <th>1150.0</th>\n",
       "      <td>3.0</td>\n",
       "      <td>0.0</td>\n",
       "      <td>0</td>\n",
       "    </tr>\n",
       "    <tr>\n",
       "      <th>1210.0</th>\n",
       "      <td>1.0</td>\n",
       "      <td>0.0</td>\n",
       "      <td>0</td>\n",
       "    </tr>\n",
       "  </tbody>\n",
       "</table>\n",
       "</div>"
      ],
      "text/plain": [
       "        MEAN_TRAN_TO_UNIQ_BENE  TOT_UNIQ_BENE_OMNIPRESENT  \\\n",
       "AR_ID                                                       \n",
       "230.0                      1.0                        0.0   \n",
       "250.0                      1.0                        0.0   \n",
       "540.0                      1.0                        0.0   \n",
       "1150.0                     3.0                        0.0   \n",
       "1210.0                     1.0                        0.0   \n",
       "\n",
       "        PAYROLL_NG_PROXY_FLAG  \n",
       "AR_ID                          \n",
       "230.0                       0  \n",
       "250.0                       0  \n",
       "540.0                       0  \n",
       "1150.0                      0  \n",
       "1210.0                      0  "
      ]
     },
     "execution_count": 9,
     "metadata": {},
     "output_type": "execute_result"
    },
    {
     "data": {
      "text/plain": [
       "(2992343, 3)"
      ]
     },
     "execution_count": 9,
     "metadata": {},
     "output_type": "execute_result"
    }
   ],
   "source": [
    "# process features\n",
    "pyrl = get_pyrl_features(pyrl)\\\n",
    "        .pipe(lambda x: x.assign(PAYROLL_NG_PROXY_FLAG=np.where(((x.TOT_UNIQ_BENE_OMNIPRESENT>=2 ) | ((x.TOT_UNIQ_BENE_OMNIPRESENT<2) & (x.MEAN_TRAN_TO_UNIQ_BENE>=4))),\n",
    "                                     1, \n",
    "                                        0)))\n",
    "pyrl.head()\n",
    "pyrl.shape\n",
    "\n",
    "# write\n",
    "pyrl.to_parquet(os.path.join(feats_path, pyrl_feats_savename))"
   ]
  },
  {
   "cell_type": "markdown",
   "metadata": {},
   "source": [
    "### 3) NG Invoice Proxy"
   ]
  },
  {
   "cell_type": "code",
   "execution_count": 10,
   "metadata": {},
   "outputs": [
    {
     "name": "stdout",
     "output_type": "stream",
     "text": [
      "Completed Concatenation for ng fin!\n"
     ]
    },
    {
     "data": {
      "text/plain": [
       "(21804331, 5)"
      ]
     },
     "execution_count": 10,
     "metadata": {},
     "output_type": "execute_result"
    },
    {
     "name": "stdout",
     "output_type": "stream",
     "text": [
      "Successfully Read and Processed: C:\\Users\\ndtcrisologo\\OneDrive - bpi.com.ph\\Documents\\REGULAR_DATA\\NG\\INSTAPAY\\INSTAPAY_INCOMING\\INSTAPAY_INCOMING_202310.parquet\n",
      "Successfully Read and Processed: C:\\Users\\ndtcrisologo\\OneDrive - bpi.com.ph\\Documents\\REGULAR_DATA\\NG\\INSTAPAY\\INSTAPAY_INCOMING\\INSTAPAY_INCOMING_202311.parquet\n",
      "Successfully Read and Processed: C:\\Users\\ndtcrisologo\\OneDrive - bpi.com.ph\\Documents\\REGULAR_DATA\\NG\\INSTAPAY\\INSTAPAY_INCOMING\\INSTAPAY_INCOMING_202312.parquet\n",
      "Successfully Read and Processed: C:\\Users\\ndtcrisologo\\OneDrive - bpi.com.ph\\Documents\\REGULAR_DATA\\NG\\INSTAPAY\\INSTAPAY_INCOMING\\INSTAPAY_INCOMING_202401.parquet\n",
      "Successfully Read and Processed: C:\\Users\\ndtcrisologo\\OneDrive - bpi.com.ph\\Documents\\REGULAR_DATA\\NG\\INSTAPAY\\INSTAPAY_INCOMING\\INSTAPAY_INCOMING_202402.parquet\n",
      "Successfully Read and Processed: C:\\Users\\ndtcrisologo\\OneDrive - bpi.com.ph\\Documents\\REGULAR_DATA\\NG\\INSTAPAY\\INSTAPAY_INCOMING\\INSTAPAY_INCOMING_202403.parquet\n",
      "Completed Concatenation for instapay!\n"
     ]
    },
    {
     "data": {
      "text/plain": [
       "(31905017, 5)"
      ]
     },
     "execution_count": 10,
     "metadata": {},
     "output_type": "execute_result"
    },
    {
     "data": {
      "text/html": [
       "<div>\n",
       "<style scoped>\n",
       "    .dataframe tbody tr th:only-of-type {\n",
       "        vertical-align: middle;\n",
       "    }\n",
       "\n",
       "    .dataframe tbody tr th {\n",
       "        vertical-align: top;\n",
       "    }\n",
       "\n",
       "    .dataframe thead th {\n",
       "        text-align: right;\n",
       "    }\n",
       "</style>\n",
       "<table border=\"1\" class=\"dataframe\">\n",
       "  <thead>\n",
       "    <tr style=\"text-align: right;\">\n",
       "      <th></th>\n",
       "      <th>SRC_CUST_ID</th>\n",
       "      <th>BENE_ARID</th>\n",
       "      <th>CST_ID</th>\n",
       "      <th>TRAN_TYPE</th>\n",
       "      <th>MONTH</th>\n",
       "      <th>TXN_AMOUNT</th>\n",
       "    </tr>\n",
       "  </thead>\n",
       "  <tbody>\n",
       "    <tr>\n",
       "      <th>0</th>\n",
       "      <td>243655000.0</td>\n",
       "      <td>7785420.0</td>\n",
       "      <td>790246510.0</td>\n",
       "      <td>FT TO ANYONE</td>\n",
       "      <td>10</td>\n",
       "      <td>NaN</td>\n",
       "    </tr>\n",
       "    <tr>\n",
       "      <th>1</th>\n",
       "      <td>252855000.0</td>\n",
       "      <td>231693550.0</td>\n",
       "      <td>222591500.0</td>\n",
       "      <td>FT TO ANYONE (QR)</td>\n",
       "      <td>10</td>\n",
       "      <td>NaN</td>\n",
       "    </tr>\n",
       "    <tr>\n",
       "      <th>2</th>\n",
       "      <td>252855000.0</td>\n",
       "      <td>245430440.0</td>\n",
       "      <td>50519410.0</td>\n",
       "      <td>FT 3RD PARTY</td>\n",
       "      <td>10</td>\n",
       "      <td>NaN</td>\n",
       "    </tr>\n",
       "    <tr>\n",
       "      <th>3</th>\n",
       "      <td>252855000.0</td>\n",
       "      <td>245430440.0</td>\n",
       "      <td>50519410.0</td>\n",
       "      <td>FT 3RD PARTY</td>\n",
       "      <td>10</td>\n",
       "      <td>NaN</td>\n",
       "    </tr>\n",
       "    <tr>\n",
       "      <th>4</th>\n",
       "      <td>591265000.0</td>\n",
       "      <td>273664330.0</td>\n",
       "      <td>217497800.0</td>\n",
       "      <td>FT 3RD PARTY</td>\n",
       "      <td>10</td>\n",
       "      <td>NaN</td>\n",
       "    </tr>\n",
       "  </tbody>\n",
       "</table>\n",
       "</div>"
      ],
      "text/plain": [
       "   SRC_CUST_ID    BENE_ARID       CST_ID          TRAN_TYPE  MONTH  TXN_AMOUNT\n",
       "0  243655000.0    7785420.0  790246510.0       FT TO ANYONE     10         NaN\n",
       "1  252855000.0  231693550.0  222591500.0  FT TO ANYONE (QR)     10         NaN\n",
       "2  252855000.0  245430440.0   50519410.0       FT 3RD PARTY     10         NaN\n",
       "3  252855000.0  245430440.0   50519410.0       FT 3RD PARTY     10         NaN\n",
       "4  591265000.0  273664330.0  217497800.0       FT 3RD PARTY     10         NaN"
      ]
     },
     "execution_count": 10,
     "metadata": {},
     "output_type": "execute_result"
    },
    {
     "data": {
      "text/plain": [
       "(53709348, 6)"
      ]
     },
     "execution_count": 10,
     "metadata": {},
     "output_type": "execute_result"
    }
   ],
   "source": [
    "# process NG Fin incoming txns\n",
    "ng_sales = proc_ng(sc_path, ngf_files, payroll_typs, verbose=False, proxy='Invoice')\n",
    "ng_sales.shape\n",
    "\n",
    "# process instapay incoming txns\n",
    "insta_sales = proc_instapay(sc_path, insta_files, verbose=True)\n",
    "insta_sales.shape\n",
    "\n",
    "# merge into single file and add tags\n",
    "sales_df = pd.concat([ng_sales, insta_sales], axis=0, ignore_index=True).rename(columns={'BENE_CUST_ID':'CST_ID'})\n",
    "                #.merge(tags, on='CST_ID', how='left').reset_index(drop=True)\n",
    "sales_df.head()\n",
    "sales_df.shape\n",
    "\n",
    "# write\n",
    "sales_df.to_parquet(os.path.join(inter_path, invoice_savename))\n",
    "\n",
    "# free up space\n",
    "del ng_sales, insta_sales, sales_df\n",
    "garbc()"
   ]
  },
  {
   "cell_type": "code",
   "execution_count": 11,
   "metadata": {},
   "outputs": [
    {
     "data": {
      "text/html": [
       "<div>\n",
       "<style scoped>\n",
       "    .dataframe tbody tr th:only-of-type {\n",
       "        vertical-align: middle;\n",
       "    }\n",
       "\n",
       "    .dataframe tbody tr th {\n",
       "        vertical-align: top;\n",
       "    }\n",
       "\n",
       "    .dataframe thead th {\n",
       "        text-align: right;\n",
       "    }\n",
       "</style>\n",
       "<table border=\"1\" class=\"dataframe\">\n",
       "  <thead>\n",
       "    <tr style=\"text-align: right;\">\n",
       "      <th></th>\n",
       "      <th>SRC_CUST_ID</th>\n",
       "      <th>BENE_ARID</th>\n",
       "      <th>CST_ID</th>\n",
       "      <th>TRAN_TYPE</th>\n",
       "      <th>MONTH</th>\n",
       "      <th>TXN_AMOUNT</th>\n",
       "    </tr>\n",
       "  </thead>\n",
       "  <tbody>\n",
       "    <tr>\n",
       "      <th>0</th>\n",
       "      <td>243655000.0</td>\n",
       "      <td>7785420.0</td>\n",
       "      <td>790246510.0</td>\n",
       "      <td>FT TO ANYONE</td>\n",
       "      <td>10</td>\n",
       "      <td>NaN</td>\n",
       "    </tr>\n",
       "    <tr>\n",
       "      <th>1</th>\n",
       "      <td>252855000.0</td>\n",
       "      <td>231693550.0</td>\n",
       "      <td>222591500.0</td>\n",
       "      <td>FT TO ANYONE (QR)</td>\n",
       "      <td>10</td>\n",
       "      <td>NaN</td>\n",
       "    </tr>\n",
       "    <tr>\n",
       "      <th>2</th>\n",
       "      <td>252855000.0</td>\n",
       "      <td>245430440.0</td>\n",
       "      <td>50519410.0</td>\n",
       "      <td>FT 3RD PARTY</td>\n",
       "      <td>10</td>\n",
       "      <td>NaN</td>\n",
       "    </tr>\n",
       "    <tr>\n",
       "      <th>3</th>\n",
       "      <td>252855000.0</td>\n",
       "      <td>245430440.0</td>\n",
       "      <td>50519410.0</td>\n",
       "      <td>FT 3RD PARTY</td>\n",
       "      <td>10</td>\n",
       "      <td>NaN</td>\n",
       "    </tr>\n",
       "    <tr>\n",
       "      <th>4</th>\n",
       "      <td>591265000.0</td>\n",
       "      <td>273664330.0</td>\n",
       "      <td>217497800.0</td>\n",
       "      <td>FT 3RD PARTY</td>\n",
       "      <td>10</td>\n",
       "      <td>NaN</td>\n",
       "    </tr>\n",
       "  </tbody>\n",
       "</table>\n",
       "</div>"
      ],
      "text/plain": [
       "   SRC_CUST_ID    BENE_ARID       CST_ID          TRAN_TYPE  MONTH  TXN_AMOUNT\n",
       "0  243655000.0    7785420.0  790246510.0       FT TO ANYONE     10         NaN\n",
       "1  252855000.0  231693550.0  222591500.0  FT TO ANYONE (QR)     10         NaN\n",
       "2  252855000.0  245430440.0   50519410.0       FT 3RD PARTY     10         NaN\n",
       "3  252855000.0  245430440.0   50519410.0       FT 3RD PARTY     10         NaN\n",
       "4  591265000.0  273664330.0  217497800.0       FT 3RD PARTY     10         NaN"
      ]
     },
     "execution_count": 11,
     "metadata": {},
     "output_type": "execute_result"
    },
    {
     "data": {
      "text/plain": [
       "(53709348, 6)"
      ]
     },
     "execution_count": 11,
     "metadata": {},
     "output_type": "execute_result"
    }
   ],
   "source": [
    "# load intermediary data\n",
    "os.chdir(inter_path)\n",
    "inv = pd.read_parquet(max(glob.glob('*invoice_inter*.parquet'))).reset_index(drop=True)\n",
    "inv.head()\n",
    "inv.shape"
   ]
  },
  {
   "cell_type": "code",
   "execution_count": 12,
   "metadata": {},
   "outputs": [
    {
     "name": "stdout",
     "output_type": "stream",
     "text": [
      "nan rows to drop: BENE_ARID                 0\n",
      "MEAN_MTH_INVOICE_COUNT    0\n",
      "MEAN_MTH_UNIQ_SENDERS     0\n",
      "dtype: int64\n"
     ]
    },
    {
     "data": {
      "text/html": [
       "<div>\n",
       "<style scoped>\n",
       "    .dataframe tbody tr th:only-of-type {\n",
       "        vertical-align: middle;\n",
       "    }\n",
       "\n",
       "    .dataframe tbody tr th {\n",
       "        vertical-align: top;\n",
       "    }\n",
       "\n",
       "    .dataframe thead th {\n",
       "        text-align: right;\n",
       "    }\n",
       "</style>\n",
       "<table border=\"1\" class=\"dataframe\">\n",
       "  <thead>\n",
       "    <tr style=\"text-align: right;\">\n",
       "      <th></th>\n",
       "      <th>MEAN_MTH_INVOICE_COUNT</th>\n",
       "      <th>MEAN_MTH_UNIQ_SENDERS</th>\n",
       "      <th>INVOICE_NG_PROXY_FLAG</th>\n",
       "    </tr>\n",
       "    <tr>\n",
       "      <th>AR_ID</th>\n",
       "      <th></th>\n",
       "      <th></th>\n",
       "      <th></th>\n",
       "    </tr>\n",
       "  </thead>\n",
       "  <tbody>\n",
       "    <tr>\n",
       "      <th>230.0</th>\n",
       "      <td>1.000000</td>\n",
       "      <td>1.0</td>\n",
       "      <td>0</td>\n",
       "    </tr>\n",
       "    <tr>\n",
       "      <th>250.0</th>\n",
       "      <td>1.500000</td>\n",
       "      <td>1.5</td>\n",
       "      <td>0</td>\n",
       "    </tr>\n",
       "    <tr>\n",
       "      <th>540.0</th>\n",
       "      <td>1.500000</td>\n",
       "      <td>1.5</td>\n",
       "      <td>0</td>\n",
       "    </tr>\n",
       "    <tr>\n",
       "      <th>1150.0</th>\n",
       "      <td>3.333333</td>\n",
       "      <td>2.5</td>\n",
       "      <td>0</td>\n",
       "    </tr>\n",
       "    <tr>\n",
       "      <th>1210.0</th>\n",
       "      <td>3.000000</td>\n",
       "      <td>1.0</td>\n",
       "      <td>0</td>\n",
       "    </tr>\n",
       "  </tbody>\n",
       "</table>\n",
       "</div>"
      ],
      "text/plain": [
       "        MEAN_MTH_INVOICE_COUNT  MEAN_MTH_UNIQ_SENDERS  INVOICE_NG_PROXY_FLAG\n",
       "AR_ID                                                                       \n",
       "230.0                 1.000000                    1.0                      0\n",
       "250.0                 1.500000                    1.5                      0\n",
       "540.0                 1.500000                    1.5                      0\n",
       "1150.0                3.333333                    2.5                      0\n",
       "1210.0                3.000000                    1.0                      0"
      ]
     },
     "execution_count": 12,
     "metadata": {},
     "output_type": "execute_result"
    },
    {
     "data": {
      "text/plain": [
       "(3848259, 3)"
      ]
     },
     "execution_count": 12,
     "metadata": {},
     "output_type": "execute_result"
    }
   ],
   "source": [
    "# process feats and then add flag based on Dec 2022 Bizko Target Market Study\n",
    "inv = get_invoice_features(inv)\\\n",
    "        .pipe(lambda x:x.assign(INVOICE_NG_PROXY_FLAG=np.where((x.MEAN_MTH_INVOICE_COUNT>=10),\n",
    "                                     1, \n",
    "                                        0)))\n",
    "inv.head()\n",
    "inv.shape"
   ]
  },
  {
   "cell_type": "code",
   "execution_count": 13,
   "metadata": {},
   "outputs": [],
   "source": [
    "# write \n",
    "inv.to_parquet(os.path.join(feats_path, invoice_feats_savename))"
   ]
  },
  {
   "cell_type": "markdown",
   "metadata": {},
   "source": [
    "> **Combining NG Proxy flags**"
   ]
  },
  {
   "cell_type": "code",
   "execution_count": 14,
   "metadata": {},
   "outputs": [],
   "source": [
    "# load flags\n",
    "os.chdir(feats_path)\n",
    "pyrl = pd.read_parquet(max(glob.glob('pyrl*.parquet')))\n",
    "inv = pd.read_parquet(max(glob.glob('invoice*.parquet')))"
   ]
  },
  {
   "cell_type": "code",
   "execution_count": 15,
   "metadata": {},
   "outputs": [
    {
     "data": {
      "text/html": [
       "<div>\n",
       "<style scoped>\n",
       "    .dataframe tbody tr th:only-of-type {\n",
       "        vertical-align: middle;\n",
       "    }\n",
       "\n",
       "    .dataframe tbody tr th {\n",
       "        vertical-align: top;\n",
       "    }\n",
       "\n",
       "    .dataframe thead th {\n",
       "        text-align: right;\n",
       "    }\n",
       "</style>\n",
       "<table border=\"1\" class=\"dataframe\">\n",
       "  <thead>\n",
       "    <tr style=\"text-align: right;\">\n",
       "      <th></th>\n",
       "      <th>CST_ID</th>\n",
       "      <th>AR_ID</th>\n",
       "      <th>BENE_CUST_ID</th>\n",
       "      <th>TRAN_TYPE</th>\n",
       "      <th>MONTH</th>\n",
       "      <th>PAYROLL_NG_PROXY_FLAG</th>\n",
       "    </tr>\n",
       "  </thead>\n",
       "  <tbody>\n",
       "    <tr>\n",
       "      <th>0</th>\n",
       "      <td>243655000.0</td>\n",
       "      <td>525878440.0</td>\n",
       "      <td>790246510.0</td>\n",
       "      <td>FT TO ANYONE</td>\n",
       "      <td>10</td>\n",
       "      <td>1.0</td>\n",
       "    </tr>\n",
       "    <tr>\n",
       "      <th>1</th>\n",
       "      <td>252855000.0</td>\n",
       "      <td>923572500.0</td>\n",
       "      <td>222591500.0</td>\n",
       "      <td>FT TO ANYONE (QR)</td>\n",
       "      <td>10</td>\n",
       "      <td>1.0</td>\n",
       "    </tr>\n",
       "    <tr>\n",
       "      <th>2</th>\n",
       "      <td>252855000.0</td>\n",
       "      <td>923572500.0</td>\n",
       "      <td>50519410.0</td>\n",
       "      <td>FT 3RD PARTY</td>\n",
       "      <td>10</td>\n",
       "      <td>1.0</td>\n",
       "    </tr>\n",
       "    <tr>\n",
       "      <th>3</th>\n",
       "      <td>252855000.0</td>\n",
       "      <td>923572500.0</td>\n",
       "      <td>50519410.0</td>\n",
       "      <td>FT 3RD PARTY</td>\n",
       "      <td>10</td>\n",
       "      <td>1.0</td>\n",
       "    </tr>\n",
       "    <tr>\n",
       "      <th>4</th>\n",
       "      <td>591265000.0</td>\n",
       "      <td>NaN</td>\n",
       "      <td>217497800.0</td>\n",
       "      <td>FT 3RD PARTY</td>\n",
       "      <td>10</td>\n",
       "      <td>NaN</td>\n",
       "    </tr>\n",
       "  </tbody>\n",
       "</table>\n",
       "</div>"
      ],
      "text/plain": [
       "        CST_ID        AR_ID  BENE_CUST_ID          TRAN_TYPE  MONTH  \\\n",
       "0  243655000.0  525878440.0   790246510.0       FT TO ANYONE     10   \n",
       "1  252855000.0  923572500.0   222591500.0  FT TO ANYONE (QR)     10   \n",
       "2  252855000.0  923572500.0    50519410.0       FT 3RD PARTY     10   \n",
       "3  252855000.0  923572500.0    50519410.0       FT 3RD PARTY     10   \n",
       "4  591265000.0          NaN   217497800.0       FT 3RD PARTY     10   \n",
       "\n",
       "   PAYROLL_NG_PROXY_FLAG  \n",
       "0                    1.0  \n",
       "1                    1.0  \n",
       "2                    1.0  \n",
       "3                    1.0  \n",
       "4                    NaN  "
      ]
     },
     "execution_count": 15,
     "metadata": {},
     "output_type": "execute_result"
    },
    {
     "data": {
      "text/html": [
       "<div>\n",
       "<style scoped>\n",
       "    .dataframe tbody tr th:only-of-type {\n",
       "        vertical-align: middle;\n",
       "    }\n",
       "\n",
       "    .dataframe tbody tr th {\n",
       "        vertical-align: top;\n",
       "    }\n",
       "\n",
       "    .dataframe thead th {\n",
       "        text-align: right;\n",
       "    }\n",
       "</style>\n",
       "<table border=\"1\" class=\"dataframe\">\n",
       "  <thead>\n",
       "    <tr style=\"text-align: right;\">\n",
       "      <th></th>\n",
       "      <th>SRC_CUST_ID</th>\n",
       "      <th>AR_ID</th>\n",
       "      <th>CST_ID</th>\n",
       "      <th>TRAN_TYPE</th>\n",
       "      <th>MONTH</th>\n",
       "      <th>TXN_AMOUNT</th>\n",
       "      <th>INVOICE_NG_PROXY_FLAG</th>\n",
       "    </tr>\n",
       "  </thead>\n",
       "  <tbody>\n",
       "    <tr>\n",
       "      <th>0</th>\n",
       "      <td>243655000.0</td>\n",
       "      <td>7785420.0</td>\n",
       "      <td>790246510.0</td>\n",
       "      <td>FT TO ANYONE</td>\n",
       "      <td>10</td>\n",
       "      <td>NaN</td>\n",
       "      <td>0</td>\n",
       "    </tr>\n",
       "    <tr>\n",
       "      <th>1</th>\n",
       "      <td>252855000.0</td>\n",
       "      <td>231693550.0</td>\n",
       "      <td>222591500.0</td>\n",
       "      <td>FT TO ANYONE (QR)</td>\n",
       "      <td>10</td>\n",
       "      <td>NaN</td>\n",
       "      <td>0</td>\n",
       "    </tr>\n",
       "    <tr>\n",
       "      <th>2</th>\n",
       "      <td>252855000.0</td>\n",
       "      <td>245430440.0</td>\n",
       "      <td>50519410.0</td>\n",
       "      <td>FT 3RD PARTY</td>\n",
       "      <td>10</td>\n",
       "      <td>NaN</td>\n",
       "      <td>0</td>\n",
       "    </tr>\n",
       "    <tr>\n",
       "      <th>3</th>\n",
       "      <td>252855000.0</td>\n",
       "      <td>245430440.0</td>\n",
       "      <td>50519410.0</td>\n",
       "      <td>FT 3RD PARTY</td>\n",
       "      <td>10</td>\n",
       "      <td>NaN</td>\n",
       "      <td>0</td>\n",
       "    </tr>\n",
       "    <tr>\n",
       "      <th>4</th>\n",
       "      <td>591265000.0</td>\n",
       "      <td>273664330.0</td>\n",
       "      <td>217497800.0</td>\n",
       "      <td>FT 3RD PARTY</td>\n",
       "      <td>10</td>\n",
       "      <td>NaN</td>\n",
       "      <td>0</td>\n",
       "    </tr>\n",
       "  </tbody>\n",
       "</table>\n",
       "</div>"
      ],
      "text/plain": [
       "   SRC_CUST_ID        AR_ID       CST_ID          TRAN_TYPE  MONTH  \\\n",
       "0  243655000.0    7785420.0  790246510.0       FT TO ANYONE     10   \n",
       "1  252855000.0  231693550.0  222591500.0  FT TO ANYONE (QR)     10   \n",
       "2  252855000.0  245430440.0   50519410.0       FT 3RD PARTY     10   \n",
       "3  252855000.0  245430440.0   50519410.0       FT 3RD PARTY     10   \n",
       "4  591265000.0  273664330.0  217497800.0       FT 3RD PARTY     10   \n",
       "\n",
       "   TXN_AMOUNT  INVOICE_NG_PROXY_FLAG  \n",
       "0         NaN                      0  \n",
       "1         NaN                      0  \n",
       "2         NaN                      0  \n",
       "3         NaN                      0  \n",
       "4         NaN                      0  "
      ]
     },
     "execution_count": 15,
     "metadata": {},
     "output_type": "execute_result"
    },
    {
     "name": "stdout",
     "output_type": "stream",
     "text": [
      "Final NG Proxy Flags DF\n"
     ]
    },
    {
     "data": {
      "text/html": [
       "<div>\n",
       "<style scoped>\n",
       "    .dataframe tbody tr th:only-of-type {\n",
       "        vertical-align: middle;\n",
       "    }\n",
       "\n",
       "    .dataframe tbody tr th {\n",
       "        vertical-align: top;\n",
       "    }\n",
       "\n",
       "    .dataframe thead th {\n",
       "        text-align: right;\n",
       "    }\n",
       "</style>\n",
       "<table border=\"1\" class=\"dataframe\">\n",
       "  <thead>\n",
       "    <tr style=\"text-align: right;\">\n",
       "      <th></th>\n",
       "      <th>CST_ID</th>\n",
       "      <th>PAYROLL_NG_PROXY_FLAG</th>\n",
       "      <th>INVOICE_NG_PROXY_FLAG</th>\n",
       "    </tr>\n",
       "  </thead>\n",
       "  <tbody>\n",
       "    <tr>\n",
       "      <th>0</th>\n",
       "      <td>243655000.0</td>\n",
       "      <td>1.0</td>\n",
       "      <td>0.0</td>\n",
       "    </tr>\n",
       "    <tr>\n",
       "      <th>1</th>\n",
       "      <td>252855000.0</td>\n",
       "      <td>1.0</td>\n",
       "      <td>0.0</td>\n",
       "    </tr>\n",
       "    <tr>\n",
       "      <th>2</th>\n",
       "      <td>401465000.0</td>\n",
       "      <td>1.0</td>\n",
       "      <td>1.0</td>\n",
       "    </tr>\n",
       "    <tr>\n",
       "      <th>3</th>\n",
       "      <td>766765000.0</td>\n",
       "      <td>1.0</td>\n",
       "      <td>0.0</td>\n",
       "    </tr>\n",
       "    <tr>\n",
       "      <th>4</th>\n",
       "      <td>450875000.0</td>\n",
       "      <td>1.0</td>\n",
       "      <td>1.0</td>\n",
       "    </tr>\n",
       "    <tr>\n",
       "      <th>...</th>\n",
       "      <td>...</td>\n",
       "      <td>...</td>\n",
       "      <td>...</td>\n",
       "    </tr>\n",
       "    <tr>\n",
       "      <th>267195</th>\n",
       "      <td>334368810.0</td>\n",
       "      <td>0.0</td>\n",
       "      <td>1.0</td>\n",
       "    </tr>\n",
       "    <tr>\n",
       "      <th>267196</th>\n",
       "      <td>399878900.0</td>\n",
       "      <td>0.0</td>\n",
       "      <td>1.0</td>\n",
       "    </tr>\n",
       "    <tr>\n",
       "      <th>267197</th>\n",
       "      <td>824281600.0</td>\n",
       "      <td>0.0</td>\n",
       "      <td>1.0</td>\n",
       "    </tr>\n",
       "    <tr>\n",
       "      <th>267198</th>\n",
       "      <td>330295500.0</td>\n",
       "      <td>0.0</td>\n",
       "      <td>1.0</td>\n",
       "    </tr>\n",
       "    <tr>\n",
       "      <th>267199</th>\n",
       "      <td>963873420.0</td>\n",
       "      <td>0.0</td>\n",
       "      <td>1.0</td>\n",
       "    </tr>\n",
       "  </tbody>\n",
       "</table>\n",
       "<p>267200 rows × 3 columns</p>\n",
       "</div>"
      ],
      "text/plain": [
       "             CST_ID  PAYROLL_NG_PROXY_FLAG  INVOICE_NG_PROXY_FLAG\n",
       "0       243655000.0                    1.0                    0.0\n",
       "1       252855000.0                    1.0                    0.0\n",
       "2       401465000.0                    1.0                    1.0\n",
       "3       766765000.0                    1.0                    0.0\n",
       "4       450875000.0                    1.0                    1.0\n",
       "...             ...                    ...                    ...\n",
       "267195  334368810.0                    0.0                    1.0\n",
       "267196  399878900.0                    0.0                    1.0\n",
       "267197  824281600.0                    0.0                    1.0\n",
       "267198  330295500.0                    0.0                    1.0\n",
       "267199  963873420.0                    0.0                    1.0\n",
       "\n",
       "[267200 rows x 3 columns]"
      ]
     },
     "execution_count": 15,
     "metadata": {},
     "output_type": "execute_result"
    },
    {
     "data": {
      "text/plain": [
       "0"
      ]
     },
     "execution_count": 15,
     "metadata": {},
     "output_type": "execute_result"
    },
    {
     "data": {
      "text/plain": [
       "0"
      ]
     },
     "execution_count": 15,
     "metadata": {},
     "output_type": "execute_result"
    }
   ],
   "source": [
    "# get inter data \n",
    "os.chdir(inter_path)\n",
    "pyrl_inter = pd.read_parquet(max(glob.glob('pyrl_inter*.parquet'))).reset_index(drop=True).rename(columns={'SRC_ARID':'AR_ID'})\n",
    "inv_inter = pd.read_parquet(max(glob.glob('invoice_inter*.parquet'))).reset_index(drop=True).rename(columns={'BENE_ARID':'AR_ID'})\n",
    "\n",
    "# load flags\n",
    "os.chdir(feats_path)\n",
    "pyrl = pd.read_parquet(max(glob.glob('pyrl*.parquet'))).reset_index()\n",
    "inv = pd.read_parquet(max(glob.glob('invoice*.parquet'))).reset_index()\n",
    "\n",
    "# merge intermediary datasets with their respective processed flagsa \n",
    "pyrl_jtbd = pyrl_inter.merge(pyrl.reset_index()[['AR_ID','PAYROLL_NG_PROXY_FLAG']], on='AR_ID', how='left')\n",
    "inv_jtbd = inv_inter.merge(inv.reset_index()[['AR_ID','INVOICE_NG_PROXY_FLAG']], on='AR_ID', how='left')\n",
    "pyrl_jtbd.head()\n",
    "inv_jtbd.head()\n",
    "\n",
    "# merge all NG proxy flags (CST_ID level now)\n",
    "ng_flags =  pd.merge(pyrl_jtbd.query(\"PAYROLL_NG_PROXY_FLAG==1\").drop_duplicates('CST_ID')[['CST_ID', 'PAYROLL_NG_PROXY_FLAG']].reset_index(drop=True),\n",
    "                        inv_jtbd.query(\"INVOICE_NG_PROXY_FLAG==1\").drop_duplicates('CST_ID')[['CST_ID', 'INVOICE_NG_PROXY_FLAG']].reset_index(drop=True),\n",
    "                        on='CST_ID', how='outer').fillna(0)\n",
    "print(f\"Final NG Proxy Flags DF\")\n",
    "ng_flags\n",
    "\n",
    "# all ng flags savename\n",
    "all_ng_feats_savename = f\"all_ng_feats_df_{start_str}_{end_str}.parquet\"\n",
    "ng_flags.to_parquet(os.path.join(feats_path, all_ng_feats_savename))\n",
    "del ng_flags\n",
    "gc.collect()\n",
    "gc.collect()"
   ]
  },
  {
   "cell_type": "markdown",
   "metadata": {},
   "source": [
    "# Getting Final Flags"
   ]
  },
  {
   "cell_type": "code",
   "execution_count": 16,
   "metadata": {},
   "outputs": [
    {
     "data": {
      "text/html": [
       "<div>\n",
       "<style scoped>\n",
       "    .dataframe tbody tr th:only-of-type {\n",
       "        vertical-align: middle;\n",
       "    }\n",
       "\n",
       "    .dataframe tbody tr th {\n",
       "        vertical-align: top;\n",
       "    }\n",
       "\n",
       "    .dataframe thead th {\n",
       "        text-align: right;\n",
       "    }\n",
       "</style>\n",
       "<table border=\"1\" class=\"dataframe\">\n",
       "  <thead>\n",
       "    <tr style=\"text-align: right;\">\n",
       "      <th></th>\n",
       "      <th>CST_ID</th>\n",
       "      <th>PAYROLL_NG_PROXY_FLAG</th>\n",
       "      <th>INVOICE_NG_PROXY_FLAG</th>\n",
       "    </tr>\n",
       "  </thead>\n",
       "  <tbody>\n",
       "    <tr>\n",
       "      <th>0</th>\n",
       "      <td>243655000.0</td>\n",
       "      <td>1.0</td>\n",
       "      <td>0.0</td>\n",
       "    </tr>\n",
       "    <tr>\n",
       "      <th>1</th>\n",
       "      <td>252855000.0</td>\n",
       "      <td>1.0</td>\n",
       "      <td>0.0</td>\n",
       "    </tr>\n",
       "    <tr>\n",
       "      <th>2</th>\n",
       "      <td>401465000.0</td>\n",
       "      <td>1.0</td>\n",
       "      <td>1.0</td>\n",
       "    </tr>\n",
       "    <tr>\n",
       "      <th>3</th>\n",
       "      <td>766765000.0</td>\n",
       "      <td>1.0</td>\n",
       "      <td>0.0</td>\n",
       "    </tr>\n",
       "    <tr>\n",
       "      <th>4</th>\n",
       "      <td>450875000.0</td>\n",
       "      <td>1.0</td>\n",
       "      <td>1.0</td>\n",
       "    </tr>\n",
       "    <tr>\n",
       "      <th>...</th>\n",
       "      <td>...</td>\n",
       "      <td>...</td>\n",
       "      <td>...</td>\n",
       "    </tr>\n",
       "    <tr>\n",
       "      <th>267195</th>\n",
       "      <td>334368810.0</td>\n",
       "      <td>0.0</td>\n",
       "      <td>1.0</td>\n",
       "    </tr>\n",
       "    <tr>\n",
       "      <th>267196</th>\n",
       "      <td>399878900.0</td>\n",
       "      <td>0.0</td>\n",
       "      <td>1.0</td>\n",
       "    </tr>\n",
       "    <tr>\n",
       "      <th>267197</th>\n",
       "      <td>824281600.0</td>\n",
       "      <td>0.0</td>\n",
       "      <td>1.0</td>\n",
       "    </tr>\n",
       "    <tr>\n",
       "      <th>267198</th>\n",
       "      <td>330295500.0</td>\n",
       "      <td>0.0</td>\n",
       "      <td>1.0</td>\n",
       "    </tr>\n",
       "    <tr>\n",
       "      <th>267199</th>\n",
       "      <td>963873420.0</td>\n",
       "      <td>0.0</td>\n",
       "      <td>1.0</td>\n",
       "    </tr>\n",
       "  </tbody>\n",
       "</table>\n",
       "<p>267200 rows × 3 columns</p>\n",
       "</div>"
      ],
      "text/plain": [
       "             CST_ID  PAYROLL_NG_PROXY_FLAG  INVOICE_NG_PROXY_FLAG\n",
       "0       243655000.0                    1.0                    0.0\n",
       "1       252855000.0                    1.0                    0.0\n",
       "2       401465000.0                    1.0                    1.0\n",
       "3       766765000.0                    1.0                    0.0\n",
       "4       450875000.0                    1.0                    1.0\n",
       "...             ...                    ...                    ...\n",
       "267195  334368810.0                    0.0                    1.0\n",
       "267196  399878900.0                    0.0                    1.0\n",
       "267197  824281600.0                    0.0                    1.0\n",
       "267198  330295500.0                    0.0                    1.0\n",
       "267199  963873420.0                    0.0                    1.0\n",
       "\n",
       "[267200 rows x 3 columns]"
      ]
     },
     "execution_count": 16,
     "metadata": {},
     "output_type": "execute_result"
    },
    {
     "data": {
      "text/html": [
       "<div>\n",
       "<style scoped>\n",
       "    .dataframe tbody tr th:only-of-type {\n",
       "        vertical-align: middle;\n",
       "    }\n",
       "\n",
       "    .dataframe tbody tr th {\n",
       "        vertical-align: top;\n",
       "    }\n",
       "\n",
       "    .dataframe thead th {\n",
       "        text-align: right;\n",
       "    }\n",
       "</style>\n",
       "<table border=\"1\" class=\"dataframe\">\n",
       "  <thead>\n",
       "    <tr style=\"text-align: right;\">\n",
       "      <th></th>\n",
       "      <th>CST_ID</th>\n",
       "      <th>AR_ID</th>\n",
       "      <th>BRANCH_DEPOSIT_PRESENCE</th>\n",
       "      <th>MONTHLY_UNIQUE_BRANCHES</th>\n",
       "      <th>BRANCH</th>\n",
       "      <th>NO_OF_UNIQUE_BRANCHES</th>\n",
       "      <th>BR_DEPOSIT_PROXY_FLAG</th>\n",
       "      <th>BR_INVOICE_PROXY_FLAG</th>\n",
       "    </tr>\n",
       "  </thead>\n",
       "  <tbody>\n",
       "    <tr>\n",
       "      <th>3511854</th>\n",
       "      <td>74157500.0</td>\n",
       "      <td>364616350.0</td>\n",
       "      <td>19.666667</td>\n",
       "      <td>3.000000</td>\n",
       "      <td>497</td>\n",
       "      <td>5</td>\n",
       "      <td>1</td>\n",
       "      <td>1</td>\n",
       "    </tr>\n",
       "    <tr>\n",
       "      <th>57182602</th>\n",
       "      <td>633160100.0</td>\n",
       "      <td>669436220.0</td>\n",
       "      <td>19.333333</td>\n",
       "      <td>7.666667</td>\n",
       "      <td>137</td>\n",
       "      <td>8</td>\n",
       "      <td>1</td>\n",
       "      <td>1</td>\n",
       "    </tr>\n",
       "    <tr>\n",
       "      <th>14190171</th>\n",
       "      <td>102946320.0</td>\n",
       "      <td>300564550.0</td>\n",
       "      <td>19.333333</td>\n",
       "      <td>37.666667</td>\n",
       "      <td>903</td>\n",
       "      <td>52</td>\n",
       "      <td>1</td>\n",
       "      <td>1</td>\n",
       "    </tr>\n",
       "    <tr>\n",
       "      <th>52333339</th>\n",
       "      <td>529410200.0</td>\n",
       "      <td>131651420.0</td>\n",
       "      <td>19.333333</td>\n",
       "      <td>34.333333</td>\n",
       "      <td>187</td>\n",
       "      <td>43</td>\n",
       "      <td>1</td>\n",
       "      <td>1</td>\n",
       "    </tr>\n",
       "    <tr>\n",
       "      <th>10917975</th>\n",
       "      <td>102289400.0</td>\n",
       "      <td>355266900.0</td>\n",
       "      <td>19.333333</td>\n",
       "      <td>324.000000</td>\n",
       "      <td>99</td>\n",
       "      <td>444</td>\n",
       "      <td>1</td>\n",
       "      <td>1</td>\n",
       "    </tr>\n",
       "    <tr>\n",
       "      <th>...</th>\n",
       "      <td>...</td>\n",
       "      <td>...</td>\n",
       "      <td>...</td>\n",
       "      <td>...</td>\n",
       "      <td>...</td>\n",
       "      <td>...</td>\n",
       "      <td>...</td>\n",
       "      <td>...</td>\n",
       "    </tr>\n",
       "    <tr>\n",
       "      <th>45243490</th>\n",
       "      <td>394187700.0</td>\n",
       "      <td>433375710.0</td>\n",
       "      <td>0.333333</td>\n",
       "      <td>0.666667</td>\n",
       "      <td>67</td>\n",
       "      <td>2</td>\n",
       "      <td>0</td>\n",
       "      <td>0</td>\n",
       "    </tr>\n",
       "    <tr>\n",
       "      <th>45243464</th>\n",
       "      <td>394182620.0</td>\n",
       "      <td>44471160.0</td>\n",
       "      <td>0.333333</td>\n",
       "      <td>0.333333</td>\n",
       "      <td>810</td>\n",
       "      <td>1</td>\n",
       "      <td>0</td>\n",
       "      <td>0</td>\n",
       "    </tr>\n",
       "    <tr>\n",
       "      <th>45243470</th>\n",
       "      <td>394184010.0</td>\n",
       "      <td>872034650.0</td>\n",
       "      <td>0.333333</td>\n",
       "      <td>0.333333</td>\n",
       "      <td>90</td>\n",
       "      <td>1</td>\n",
       "      <td>0</td>\n",
       "      <td>0</td>\n",
       "    </tr>\n",
       "    <tr>\n",
       "      <th>45243477</th>\n",
       "      <td>394184520.0</td>\n",
       "      <td>292787950.0</td>\n",
       "      <td>0.333333</td>\n",
       "      <td>0.333333</td>\n",
       "      <td>9</td>\n",
       "      <td>1</td>\n",
       "      <td>0</td>\n",
       "      <td>0</td>\n",
       "    </tr>\n",
       "    <tr>\n",
       "      <th>78757968</th>\n",
       "      <td>999999800.0</td>\n",
       "      <td>357030330.0</td>\n",
       "      <td>0.333333</td>\n",
       "      <td>0.333333</td>\n",
       "      <td>846</td>\n",
       "      <td>1</td>\n",
       "      <td>0</td>\n",
       "      <td>0</td>\n",
       "    </tr>\n",
       "  </tbody>\n",
       "</table>\n",
       "<p>1637360 rows × 8 columns</p>\n",
       "</div>"
      ],
      "text/plain": [
       "               CST_ID        AR_ID  BRANCH_DEPOSIT_PRESENCE  \\\n",
       "3511854    74157500.0  364616350.0                19.666667   \n",
       "57182602  633160100.0  669436220.0                19.333333   \n",
       "14190171  102946320.0  300564550.0                19.333333   \n",
       "52333339  529410200.0  131651420.0                19.333333   \n",
       "10917975  102289400.0  355266900.0                19.333333   \n",
       "...               ...          ...                      ...   \n",
       "45243490  394187700.0  433375710.0                 0.333333   \n",
       "45243464  394182620.0   44471160.0                 0.333333   \n",
       "45243470  394184010.0  872034650.0                 0.333333   \n",
       "45243477  394184520.0  292787950.0                 0.333333   \n",
       "78757968  999999800.0  357030330.0                 0.333333   \n",
       "\n",
       "          MONTHLY_UNIQUE_BRANCHES  BRANCH  NO_OF_UNIQUE_BRANCHES  \\\n",
       "3511854                  3.000000     497                      5   \n",
       "57182602                 7.666667     137                      8   \n",
       "14190171                37.666667     903                     52   \n",
       "52333339                34.333333     187                     43   \n",
       "10917975               324.000000      99                    444   \n",
       "...                           ...     ...                    ...   \n",
       "45243490                 0.666667      67                      2   \n",
       "45243464                 0.333333     810                      1   \n",
       "45243470                 0.333333      90                      1   \n",
       "45243477                 0.333333       9                      1   \n",
       "78757968                 0.333333     846                      1   \n",
       "\n",
       "          BR_DEPOSIT_PROXY_FLAG  BR_INVOICE_PROXY_FLAG  \n",
       "3511854                       1                      1  \n",
       "57182602                      1                      1  \n",
       "14190171                      1                      1  \n",
       "52333339                      1                      1  \n",
       "10917975                      1                      1  \n",
       "...                         ...                    ...  \n",
       "45243490                      0                      0  \n",
       "45243464                      0                      0  \n",
       "45243470                      0                      0  \n",
       "45243477                      0                      0  \n",
       "78757968                      0                      0  \n",
       "\n",
       "[1637360 rows x 8 columns]"
      ]
     },
     "execution_count": 16,
     "metadata": {},
     "output_type": "execute_result"
    }
   ],
   "source": [
    "# load feature dataframes\n",
    "os.chdir(feats_path)\n",
    "ng = pd.read_parquet(f\"all_ng_feats_df_{start_str}_{end_str}.parquet\")\n",
    "buds = pd.read_parquet(f'buds_feats_{start_str}_{end_str}.parquet').rename(columns={'BR_DEPOSIT_JTBD_MANUAL':'BR_DEPOSIT_PROXY_FLAG',\n",
    "                                                                            'RECEIVE_JTBD_MANUAL':'BR_INVOICE_PROXY_FLAG'})\n",
    "ng\n",
    "buds"
   ]
  },
  {
   "cell_type": "code",
   "execution_count": 17,
   "metadata": {},
   "outputs": [
    {
     "data": {
      "text/html": [
       "<div>\n",
       "<style scoped>\n",
       "    .dataframe tbody tr th:only-of-type {\n",
       "        vertical-align: middle;\n",
       "    }\n",
       "\n",
       "    .dataframe tbody tr th {\n",
       "        vertical-align: top;\n",
       "    }\n",
       "\n",
       "    .dataframe thead th {\n",
       "        text-align: right;\n",
       "    }\n",
       "</style>\n",
       "<table border=\"1\" class=\"dataframe\">\n",
       "  <thead>\n",
       "    <tr style=\"text-align: right;\">\n",
       "      <th></th>\n",
       "      <th>PAYROLL_NG_PROXY_FLAG</th>\n",
       "      <th>INVOICE_NG_PROXY_FLAG</th>\n",
       "      <th>BR_DEPOSIT_PROXY_FLAG</th>\n",
       "      <th>BR_INVOICE_PROXY_FLAG</th>\n",
       "      <th>TARGET_FLAG_LENIENT</th>\n",
       "    </tr>\n",
       "    <tr>\n",
       "      <th>CST_ID</th>\n",
       "      <th></th>\n",
       "      <th></th>\n",
       "      <th></th>\n",
       "      <th></th>\n",
       "      <th></th>\n",
       "    </tr>\n",
       "  </thead>\n",
       "  <tbody>\n",
       "    <tr>\n",
       "      <th>243655000.0</th>\n",
       "      <td>1.0</td>\n",
       "      <td>0.0</td>\n",
       "      <td>0.0</td>\n",
       "      <td>0.0</td>\n",
       "      <td>1</td>\n",
       "    </tr>\n",
       "    <tr>\n",
       "      <th>252855000.0</th>\n",
       "      <td>1.0</td>\n",
       "      <td>0.0</td>\n",
       "      <td>0.0</td>\n",
       "      <td>0.0</td>\n",
       "      <td>1</td>\n",
       "    </tr>\n",
       "    <tr>\n",
       "      <th>401465000.0</th>\n",
       "      <td>1.0</td>\n",
       "      <td>1.0</td>\n",
       "      <td>0.0</td>\n",
       "      <td>0.0</td>\n",
       "      <td>1</td>\n",
       "    </tr>\n",
       "    <tr>\n",
       "      <th>766765000.0</th>\n",
       "      <td>1.0</td>\n",
       "      <td>0.0</td>\n",
       "      <td>0.0</td>\n",
       "      <td>0.0</td>\n",
       "      <td>1</td>\n",
       "    </tr>\n",
       "    <tr>\n",
       "      <th>450875000.0</th>\n",
       "      <td>1.0</td>\n",
       "      <td>1.0</td>\n",
       "      <td>0.0</td>\n",
       "      <td>0.0</td>\n",
       "      <td>1</td>\n",
       "    </tr>\n",
       "    <tr>\n",
       "      <th>...</th>\n",
       "      <td>...</td>\n",
       "      <td>...</td>\n",
       "      <td>...</td>\n",
       "      <td>...</td>\n",
       "      <td>...</td>\n",
       "    </tr>\n",
       "    <tr>\n",
       "      <th>394187700.0</th>\n",
       "      <td>0.0</td>\n",
       "      <td>0.0</td>\n",
       "      <td>0.0</td>\n",
       "      <td>0.0</td>\n",
       "      <td>0</td>\n",
       "    </tr>\n",
       "    <tr>\n",
       "      <th>394182620.0</th>\n",
       "      <td>0.0</td>\n",
       "      <td>0.0</td>\n",
       "      <td>0.0</td>\n",
       "      <td>0.0</td>\n",
       "      <td>0</td>\n",
       "    </tr>\n",
       "    <tr>\n",
       "      <th>394184010.0</th>\n",
       "      <td>0.0</td>\n",
       "      <td>0.0</td>\n",
       "      <td>0.0</td>\n",
       "      <td>0.0</td>\n",
       "      <td>0</td>\n",
       "    </tr>\n",
       "    <tr>\n",
       "      <th>394184520.0</th>\n",
       "      <td>0.0</td>\n",
       "      <td>0.0</td>\n",
       "      <td>0.0</td>\n",
       "      <td>0.0</td>\n",
       "      <td>0</td>\n",
       "    </tr>\n",
       "    <tr>\n",
       "      <th>999999800.0</th>\n",
       "      <td>0.0</td>\n",
       "      <td>0.0</td>\n",
       "      <td>0.0</td>\n",
       "      <td>0.0</td>\n",
       "      <td>0</td>\n",
       "    </tr>\n",
       "  </tbody>\n",
       "</table>\n",
       "<p>1795206 rows × 5 columns</p>\n",
       "</div>"
      ],
      "text/plain": [
       "             PAYROLL_NG_PROXY_FLAG  INVOICE_NG_PROXY_FLAG  \\\n",
       "CST_ID                                                      \n",
       "243655000.0                    1.0                    0.0   \n",
       "252855000.0                    1.0                    0.0   \n",
       "401465000.0                    1.0                    1.0   \n",
       "766765000.0                    1.0                    0.0   \n",
       "450875000.0                    1.0                    1.0   \n",
       "...                            ...                    ...   \n",
       "394187700.0                    0.0                    0.0   \n",
       "394182620.0                    0.0                    0.0   \n",
       "394184010.0                    0.0                    0.0   \n",
       "394184520.0                    0.0                    0.0   \n",
       "999999800.0                    0.0                    0.0   \n",
       "\n",
       "             BR_DEPOSIT_PROXY_FLAG  BR_INVOICE_PROXY_FLAG  TARGET_FLAG_LENIENT  \n",
       "CST_ID                                                                          \n",
       "243655000.0                    0.0                    0.0                    1  \n",
       "252855000.0                    0.0                    0.0                    1  \n",
       "401465000.0                    0.0                    0.0                    1  \n",
       "766765000.0                    0.0                    0.0                    1  \n",
       "450875000.0                    0.0                    0.0                    1  \n",
       "...                            ...                    ...                  ...  \n",
       "394187700.0                    0.0                    0.0                    0  \n",
       "394182620.0                    0.0                    0.0                    0  \n",
       "394184010.0                    0.0                    0.0                    0  \n",
       "394184520.0                    0.0                    0.0                    0  \n",
       "999999800.0                    0.0                    0.0                    0  \n",
       "\n",
       "[1795206 rows x 5 columns]"
      ]
     },
     "execution_count": 17,
     "metadata": {},
     "output_type": "execute_result"
    },
    {
     "data": {
      "text/plain": [
       "PAYROLL_NG_PROXY_FLAG    168725.0\n",
       "INVOICE_NG_PROXY_FLAG    121471.0\n",
       "BR_DEPOSIT_PROXY_FLAG    118751.0\n",
       "BR_INVOICE_PROXY_FLAG     30312.0\n",
       "TARGET_FLAG_LENIENT      379330.0\n",
       "dtype: float64"
      ]
     },
     "execution_count": 17,
     "metadata": {},
     "output_type": "execute_result"
    }
   ],
   "source": [
    "# merge them\n",
    "final = ng.merge(buds[['CST_ID']+[col for col in buds.columns if 'FLAG' in col]], on='CST_ID', how='outer').fillna(0).set_index('CST_ID')\\\n",
    "            .pipe(lambda x: x.assign(SUM_ALL=x.sum(axis=1)))\\\n",
    "                .pipe(lambda x: x.assign(TARGET_FLAG_LENIENT=np.where(x.SUM_ALL>=1, 1, 0)))\\\n",
    "                    .drop(columns=['SUM_ALL'])\n",
    "final\n",
    "\n",
    "# check flags\n",
    "final.sum(axis=0)"
   ]
  },
  {
   "cell_type": "code",
   "execution_count": 18,
   "metadata": {},
   "outputs": [
    {
     "data": {
      "text/html": [
       "<div>\n",
       "<style scoped>\n",
       "    .dataframe tbody tr th:only-of-type {\n",
       "        vertical-align: middle;\n",
       "    }\n",
       "\n",
       "    .dataframe tbody tr th {\n",
       "        vertical-align: top;\n",
       "    }\n",
       "\n",
       "    .dataframe thead th {\n",
       "        text-align: right;\n",
       "    }\n",
       "</style>\n",
       "<table border=\"1\" class=\"dataframe\">\n",
       "  <thead>\n",
       "    <tr style=\"text-align: right;\">\n",
       "      <th></th>\n",
       "      <th>CST_ID</th>\n",
       "      <th>cl_id_grp</th>\n",
       "      <th>cl_id4</th>\n",
       "      <th>scorecard_id</th>\n",
       "    </tr>\n",
       "  </thead>\n",
       "  <tbody>\n",
       "    <tr>\n",
       "      <th>0</th>\n",
       "      <td>20.0</td>\n",
       "      <td>b.Retail</td>\n",
       "      <td>d1.Core Mass</td>\n",
       "      <td>BASE_EXISTING</td>\n",
       "    </tr>\n",
       "    <tr>\n",
       "      <th>1</th>\n",
       "      <td>100.0</td>\n",
       "      <td>b.Retail</td>\n",
       "      <td>b1.Gold</td>\n",
       "      <td>BASE_EXISTING</td>\n",
       "    </tr>\n",
       "    <tr>\n",
       "      <th>2</th>\n",
       "      <td>320.0</td>\n",
       "      <td>b.Retail</td>\n",
       "      <td>d1.Core Mass</td>\n",
       "      <td>BASE_EXISTING</td>\n",
       "    </tr>\n",
       "    <tr>\n",
       "      <th>3</th>\n",
       "      <td>420.0</td>\n",
       "      <td>b.Retail</td>\n",
       "      <td>d1.Core Mass</td>\n",
       "      <td>BASE_EXISTING</td>\n",
       "    </tr>\n",
       "    <tr>\n",
       "      <th>4</th>\n",
       "      <td>610.0</td>\n",
       "      <td>b.Retail</td>\n",
       "      <td>b3.Next</td>\n",
       "      <td>BASE_EXISTING</td>\n",
       "    </tr>\n",
       "  </tbody>\n",
       "</table>\n",
       "</div>"
      ],
      "text/plain": [
       "   CST_ID cl_id_grp        cl_id4   scorecard_id\n",
       "0    20.0  b.Retail  d1.Core Mass  BASE_EXISTING\n",
       "1   100.0  b.Retail       b1.Gold  BASE_EXISTING\n",
       "2   320.0  b.Retail  d1.Core Mass  BASE_EXISTING\n",
       "3   420.0  b.Retail  d1.Core Mass  BASE_EXISTING\n",
       "4   610.0  b.Retail       b3.Next  BASE_EXISTING"
      ]
     },
     "execution_count": 18,
     "metadata": {},
     "output_type": "execute_result"
    },
    {
     "data": {
      "text/html": [
       "<div>\n",
       "<style scoped>\n",
       "    .dataframe tbody tr th:only-of-type {\n",
       "        vertical-align: middle;\n",
       "    }\n",
       "\n",
       "    .dataframe tbody tr th {\n",
       "        vertical-align: top;\n",
       "    }\n",
       "\n",
       "    .dataframe thead th {\n",
       "        text-align: right;\n",
       "    }\n",
       "</style>\n",
       "<table border=\"1\" class=\"dataframe\">\n",
       "  <thead>\n",
       "    <tr style=\"text-align: right;\">\n",
       "      <th></th>\n",
       "      <th>CST_ID</th>\n",
       "      <th>MEASURE_PERIOD</th>\n",
       "      <th>CST_AGE</th>\n",
       "      <th>CST_TENURE</th>\n",
       "      <th>BRTH_DT</th>\n",
       "      <th>CST_SINCE</th>\n",
       "      <th>GENDER</th>\n",
       "      <th>IDV_OCP_TYP_ID</th>\n",
       "      <th>AGE</th>\n",
       "      <th>TENURE</th>\n",
       "    </tr>\n",
       "  </thead>\n",
       "  <tbody>\n",
       "    <tr>\n",
       "      <th>0</th>\n",
       "      <td>10.0</td>\n",
       "      <td>2024-03-31</td>\n",
       "      <td>31.0</td>\n",
       "      <td>12</td>\n",
       "      <td>1993-05-23</td>\n",
       "      <td>2010-03-29</td>\n",
       "      <td>FEMALE</td>\n",
       "      <td>UNVERIFIED</td>\n",
       "      <td>31.0</td>\n",
       "      <td>14.0</td>\n",
       "    </tr>\n",
       "    <tr>\n",
       "      <th>1</th>\n",
       "      <td>20.0</td>\n",
       "      <td>2024-03-31</td>\n",
       "      <td>36.0</td>\n",
       "      <td>73</td>\n",
       "      <td>1988-05-04</td>\n",
       "      <td>2018-03-07</td>\n",
       "      <td>FEMALE</td>\n",
       "      <td>EMPLOYED</td>\n",
       "      <td>36.0</td>\n",
       "      <td>6.0</td>\n",
       "    </tr>\n",
       "    <tr>\n",
       "      <th>2</th>\n",
       "      <td>100.0</td>\n",
       "      <td>2024-03-31</td>\n",
       "      <td>55.0</td>\n",
       "      <td>381</td>\n",
       "      <td>1969-05-26</td>\n",
       "      <td>1992-07-17</td>\n",
       "      <td>FEMALE</td>\n",
       "      <td>OFW</td>\n",
       "      <td>55.0</td>\n",
       "      <td>31.0</td>\n",
       "    </tr>\n",
       "    <tr>\n",
       "      <th>3</th>\n",
       "      <td>110.0</td>\n",
       "      <td>2024-03-31</td>\n",
       "      <td>51.0</td>\n",
       "      <td>14</td>\n",
       "      <td>1973-05-21</td>\n",
       "      <td>2011-02-28</td>\n",
       "      <td>FEMALE</td>\n",
       "      <td>HOUSEWIFE</td>\n",
       "      <td>51.0</td>\n",
       "      <td>13.0</td>\n",
       "    </tr>\n",
       "    <tr>\n",
       "      <th>4</th>\n",
       "      <td>120.0</td>\n",
       "      <td>2024-03-31</td>\n",
       "      <td>37.0</td>\n",
       "      <td>27</td>\n",
       "      <td>1987-03-19</td>\n",
       "      <td>2018-12-20</td>\n",
       "      <td>MALE</td>\n",
       "      <td>UNVERIFIED</td>\n",
       "      <td>37.0</td>\n",
       "      <td>5.0</td>\n",
       "    </tr>\n",
       "  </tbody>\n",
       "</table>\n",
       "</div>"
      ],
      "text/plain": [
       "   CST_ID MEASURE_PERIOD  CST_AGE CST_TENURE    BRTH_DT   CST_SINCE  GENDER  \\\n",
       "0    10.0     2024-03-31     31.0         12 1993-05-23  2010-03-29  FEMALE   \n",
       "1    20.0     2024-03-31     36.0         73 1988-05-04  2018-03-07  FEMALE   \n",
       "2   100.0     2024-03-31     55.0        381 1969-05-26  1992-07-17  FEMALE   \n",
       "3   110.0     2024-03-31     51.0         14 1973-05-21  2011-02-28  FEMALE   \n",
       "4   120.0     2024-03-31     37.0         27 1987-03-19  2018-12-20    MALE   \n",
       "\n",
       "  IDV_OCP_TYP_ID   AGE  TENURE  \n",
       "0     UNVERIFIED  31.0    14.0  \n",
       "1       EMPLOYED  36.0     6.0  \n",
       "2            OFW  55.0    31.0  \n",
       "3      HOUSEWIFE  51.0    13.0  \n",
       "4     UNVERIFIED  37.0     5.0  "
      ]
     },
     "execution_count": 18,
     "metadata": {},
     "output_type": "execute_result"
    }
   ],
   "source": [
    "# load sc and cstsmy (process also age and cst column)\n",
    "sc = pd.read_parquet(os.path.join(sc_path, max(os.listdir(sc_path))), columns=['CST_ID','cl_id_grp','cl_id4','scorecard_id'])\\\n",
    "        \n",
    "cs = pd.read_parquet(os.path.join(cstsmy_path, max(os.listdir(cstsmy_path))), columns=['CST_ID','MEASURE_PERIOD','CST_AGE','CST_TENURE','BRTH_DT','CST_SINCE','IDV_GENDER_ID', 'IDV_OCP_TYP_ID'])\\\n",
    "            .rename(columns={'IDV_GENDER_ID':'GENDER'})\n",
    "\n",
    "# process age and cst column\n",
    "cs['AGE'] = ((datetime.today() - cs.BRTH_DT).astype('timedelta64[Y]')).fillna(cs.CST_AGE)\n",
    "cs['TENURE'] = ((datetime.today() - cs.CST_SINCE.astype('datetime64[ns]')).astype('timedelta64[Y]')).fillna(cs.CST_TENURE)\n",
    "\n",
    "# check\n",
    "sc.head()\n",
    "cs.head()"
   ]
  },
  {
   "cell_type": "code",
   "execution_count": 19,
   "metadata": {},
   "outputs": [
    {
     "data": {
      "text/html": [
       "<div>\n",
       "<style scoped>\n",
       "    .dataframe tbody tr th:only-of-type {\n",
       "        vertical-align: middle;\n",
       "    }\n",
       "\n",
       "    .dataframe tbody tr th {\n",
       "        vertical-align: top;\n",
       "    }\n",
       "\n",
       "    .dataframe thead th {\n",
       "        text-align: right;\n",
       "    }\n",
       "</style>\n",
       "<table border=\"1\" class=\"dataframe\">\n",
       "  <thead>\n",
       "    <tr style=\"text-align: right;\">\n",
       "      <th></th>\n",
       "      <th>CST_ID</th>\n",
       "      <th>GENDER</th>\n",
       "      <th>TENURE</th>\n",
       "      <th>AGE</th>\n",
       "      <th>IDV_OCP_TYP_ID</th>\n",
       "      <th>PAYROLL_NG_PROXY_FLAG</th>\n",
       "      <th>INVOICE_NG_PROXY_FLAG</th>\n",
       "      <th>BR_DEPOSIT_PROXY_FLAG</th>\n",
       "      <th>BR_INVOICE_PROXY_FLAG</th>\n",
       "      <th>TARGET_FLAG_LENIENT</th>\n",
       "      <th>SEGMENT_GRP</th>\n",
       "      <th>SEGMENT</th>\n",
       "      <th>scorecard_id</th>\n",
       "    </tr>\n",
       "  </thead>\n",
       "  <tbody>\n",
       "    <tr>\n",
       "      <th>0</th>\n",
       "      <td>10.0</td>\n",
       "      <td>FEMALE</td>\n",
       "      <td>14.0</td>\n",
       "      <td>31.0</td>\n",
       "      <td>UNVERIFIED</td>\n",
       "      <td>NaN</td>\n",
       "      <td>NaN</td>\n",
       "      <td>NaN</td>\n",
       "      <td>NaN</td>\n",
       "      <td>NaN</td>\n",
       "      <td>NaN</td>\n",
       "      <td>NaN</td>\n",
       "      <td>NaN</td>\n",
       "    </tr>\n",
       "    <tr>\n",
       "      <th>1</th>\n",
       "      <td>20.0</td>\n",
       "      <td>FEMALE</td>\n",
       "      <td>6.0</td>\n",
       "      <td>36.0</td>\n",
       "      <td>EMPLOYED</td>\n",
       "      <td>NaN</td>\n",
       "      <td>NaN</td>\n",
       "      <td>NaN</td>\n",
       "      <td>NaN</td>\n",
       "      <td>NaN</td>\n",
       "      <td>b.Retail</td>\n",
       "      <td>d1.Core Mass</td>\n",
       "      <td>BASE_EXISTING</td>\n",
       "    </tr>\n",
       "    <tr>\n",
       "      <th>2</th>\n",
       "      <td>100.0</td>\n",
       "      <td>FEMALE</td>\n",
       "      <td>31.0</td>\n",
       "      <td>55.0</td>\n",
       "      <td>OFW</td>\n",
       "      <td>NaN</td>\n",
       "      <td>NaN</td>\n",
       "      <td>NaN</td>\n",
       "      <td>NaN</td>\n",
       "      <td>NaN</td>\n",
       "      <td>b.Retail</td>\n",
       "      <td>b1.Gold</td>\n",
       "      <td>BASE_EXISTING</td>\n",
       "    </tr>\n",
       "    <tr>\n",
       "      <th>3</th>\n",
       "      <td>110.0</td>\n",
       "      <td>FEMALE</td>\n",
       "      <td>13.0</td>\n",
       "      <td>51.0</td>\n",
       "      <td>HOUSEWIFE</td>\n",
       "      <td>NaN</td>\n",
       "      <td>NaN</td>\n",
       "      <td>NaN</td>\n",
       "      <td>NaN</td>\n",
       "      <td>NaN</td>\n",
       "      <td>NaN</td>\n",
       "      <td>NaN</td>\n",
       "      <td>NaN</td>\n",
       "    </tr>\n",
       "    <tr>\n",
       "      <th>4</th>\n",
       "      <td>120.0</td>\n",
       "      <td>MALE</td>\n",
       "      <td>5.0</td>\n",
       "      <td>37.0</td>\n",
       "      <td>UNVERIFIED</td>\n",
       "      <td>NaN</td>\n",
       "      <td>NaN</td>\n",
       "      <td>NaN</td>\n",
       "      <td>NaN</td>\n",
       "      <td>NaN</td>\n",
       "      <td>NaN</td>\n",
       "      <td>NaN</td>\n",
       "      <td>NaN</td>\n",
       "    </tr>\n",
       "  </tbody>\n",
       "</table>\n",
       "</div>"
      ],
      "text/plain": [
       "   CST_ID  GENDER  TENURE   AGE IDV_OCP_TYP_ID  PAYROLL_NG_PROXY_FLAG  \\\n",
       "0    10.0  FEMALE    14.0  31.0     UNVERIFIED                    NaN   \n",
       "1    20.0  FEMALE     6.0  36.0       EMPLOYED                    NaN   \n",
       "2   100.0  FEMALE    31.0  55.0            OFW                    NaN   \n",
       "3   110.0  FEMALE    13.0  51.0      HOUSEWIFE                    NaN   \n",
       "4   120.0    MALE     5.0  37.0     UNVERIFIED                    NaN   \n",
       "\n",
       "   INVOICE_NG_PROXY_FLAG  BR_DEPOSIT_PROXY_FLAG  BR_INVOICE_PROXY_FLAG  \\\n",
       "0                    NaN                    NaN                    NaN   \n",
       "1                    NaN                    NaN                    NaN   \n",
       "2                    NaN                    NaN                    NaN   \n",
       "3                    NaN                    NaN                    NaN   \n",
       "4                    NaN                    NaN                    NaN   \n",
       "\n",
       "   TARGET_FLAG_LENIENT SEGMENT_GRP       SEGMENT   scorecard_id  \n",
       "0                  NaN         NaN           NaN            NaN  \n",
       "1                  NaN    b.Retail  d1.Core Mass  BASE_EXISTING  \n",
       "2                  NaN    b.Retail       b1.Gold  BASE_EXISTING  \n",
       "3                  NaN         NaN           NaN            NaN  \n",
       "4                  NaN         NaN           NaN            NaN  "
      ]
     },
     "execution_count": 19,
     "metadata": {},
     "output_type": "execute_result"
    }
   ],
   "source": [
    "# merge final\n",
    "out = cs[['CST_ID','GENDER','TENURE','AGE','IDV_OCP_TYP_ID']].merge(final.query(\"TARGET_FLAG_LENIENT==1\").filter(regex='FLAG').reset_index(), on='CST_ID',how='outer')\\\n",
    "        .merge(sc[['CST_ID','cl_id_grp','cl_id4', 'scorecard_id']], on='CST_ID', how='left').rename(columns={'cl_id4':'SEGMENT', 'cl_id_grp':'SEGMENT_GRP'})\n",
    "# merge the remaining \n",
    "out.head()"
   ]
  },
  {
   "cell_type": "code",
   "execution_count": 20,
   "metadata": {},
   "outputs": [
    {
     "data": {
      "text/plain": [
       "0"
      ]
     },
     "execution_count": 20,
     "metadata": {},
     "output_type": "execute_result"
    }
   ],
   "source": [
    "out.CST_ID.duplicated().sum()"
   ]
  },
  {
   "cell_type": "code",
   "execution_count": 21,
   "metadata": {},
   "outputs": [
    {
     "name": "stdout",
     "output_type": "stream",
     "text": [
      "Filtering out non-retail clients...\n",
      "Removing attrited clients.....\n",
      "Num clients PRE attrited purge: 11088710\n",
      "Num clients POST attrited purge: 10868752\n",
      "Number of self-employed from latest CSTSMY: 613507\n",
      "Adding self employed tagging.....\n",
      "Employment distribution:\n"
     ]
    },
    {
     "data": {
      "text/plain": [
       "SELF_EMPLOYED    613507\n",
       "SIDE_HUSTLER     306985\n",
       "Name: EMPLOYMENT_FLAG, dtype: int64"
      ]
     },
     "execution_count": 21,
     "metadata": {},
     "output_type": "execute_result"
    },
    {
     "name": "stdout",
     "output_type": "stream",
     "text": [
      "Adding DBA tag.....\n"
     ]
    },
    {
     "data": {
      "text/plain": [
       "22"
      ]
     },
     "execution_count": 21,
     "metadata": {},
     "output_type": "execute_result"
    },
    {
     "data": {
      "text/plain": [
       "0"
      ]
     },
     "execution_count": 21,
     "metadata": {},
     "output_type": "execute_result"
    },
    {
     "name": "stdout",
     "output_type": "stream",
     "text": [
      "(920492, 15)\n",
      "Adding 12 MOS AVG ADB.....\n"
     ]
    },
    {
     "data": {
      "text/plain": [
       "0"
      ]
     },
     "execution_count": 21,
     "metadata": {},
     "output_type": "execute_result"
    },
    {
     "data": {
      "text/plain": [
       "0"
      ]
     },
     "execution_count": 21,
     "metadata": {},
     "output_type": "execute_result"
    },
    {
     "name": "stdout",
     "output_type": "stream",
     "text": [
      "(920492, 16)\n",
      "Adding MTD ADB.....\n"
     ]
    },
    {
     "data": {
      "text/plain": [
       "0"
      ]
     },
     "execution_count": 21,
     "metadata": {},
     "output_type": "execute_result"
    },
    {
     "data": {
      "text/plain": [
       "0"
      ]
     },
     "execution_count": 21,
     "metadata": {},
     "output_type": "execute_result"
    },
    {
     "name": "stdout",
     "output_type": "stream",
     "text": [
      "(920492, 17)\n",
      "Adding BOA data.....\n"
     ]
    },
    {
     "data": {
      "text/plain": [
       "0"
      ]
     },
     "execution_count": 21,
     "metadata": {},
     "output_type": "execute_result"
    },
    {
     "data": {
      "text/plain": [
       "0"
      ]
     },
     "execution_count": 21,
     "metadata": {},
     "output_type": "execute_result"
    },
    {
     "name": "stdout",
     "output_type": "stream",
     "text": [
      "(920492, 20)\n",
      "Adding EOL Flag.....\n"
     ]
    },
    {
     "data": {
      "text/plain": [
       "0"
      ]
     },
     "execution_count": 21,
     "metadata": {},
     "output_type": "execute_result"
    },
    {
     "data": {
      "text/plain": [
       "0"
      ]
     },
     "execution_count": 21,
     "metadata": {},
     "output_type": "execute_result"
    },
    {
     "name": "stdout",
     "output_type": "stream",
     "text": [
      "(920492, 21)\n"
     ]
    },
    {
     "data": {
      "text/html": [
       "<div>\n",
       "<style scoped>\n",
       "    .dataframe tbody tr th:only-of-type {\n",
       "        vertical-align: middle;\n",
       "    }\n",
       "\n",
       "    .dataframe tbody tr th {\n",
       "        vertical-align: top;\n",
       "    }\n",
       "\n",
       "    .dataframe thead th {\n",
       "        text-align: right;\n",
       "    }\n",
       "</style>\n",
       "<table border=\"1\" class=\"dataframe\">\n",
       "  <thead>\n",
       "    <tr style=\"text-align: right;\">\n",
       "      <th></th>\n",
       "      <th>CST_ID</th>\n",
       "      <th>GENDER</th>\n",
       "      <th>TENURE</th>\n",
       "      <th>AGE</th>\n",
       "      <th>IDV_OCP_TYP_ID</th>\n",
       "      <th>PAYROLL_NG_PROXY_FLAG</th>\n",
       "      <th>INVOICE_NG_PROXY_FLAG</th>\n",
       "      <th>BR_DEPOSIT_PROXY_FLAG</th>\n",
       "      <th>BR_INVOICE_PROXY_FLAG</th>\n",
       "      <th>TARGET_FLAG_LENIENT</th>\n",
       "      <th>...</th>\n",
       "      <th>SEGMENT</th>\n",
       "      <th>scorecard_id</th>\n",
       "      <th>EMPLOYMENT_FLAG</th>\n",
       "      <th>DBA</th>\n",
       "      <th>AVE12_ADB_MAR23_FEB24</th>\n",
       "      <th>MTD_ADB</th>\n",
       "      <th>BOA</th>\n",
       "      <th>DIVISION</th>\n",
       "      <th>AREA</th>\n",
       "      <th>EOL_FLAG</th>\n",
       "    </tr>\n",
       "  </thead>\n",
       "  <tbody>\n",
       "    <tr>\n",
       "      <th>0</th>\n",
       "      <td>320.0</td>\n",
       "      <td>FEMALE</td>\n",
       "      <td>2.0</td>\n",
       "      <td>68.0</td>\n",
       "      <td>RETIRED</td>\n",
       "      <td>1.0</td>\n",
       "      <td>0.0</td>\n",
       "      <td>0.0</td>\n",
       "      <td>0.0</td>\n",
       "      <td>1.0</td>\n",
       "      <td>...</td>\n",
       "      <td>d1.Core Mass</td>\n",
       "      <td>BASE_EXISTING</td>\n",
       "      <td>SIDE_HUSTLER</td>\n",
       "      <td>0</td>\n",
       "      <td>2847.617086</td>\n",
       "      <td>2565.25</td>\n",
       "      <td>QUIAPO CHURCH</td>\n",
       "      <td>SOUTHERN METRO MANILA</td>\n",
       "      <td>MANILA CENTRAL</td>\n",
       "      <td>1.0</td>\n",
       "    </tr>\n",
       "    <tr>\n",
       "      <th>1</th>\n",
       "      <td>610.0</td>\n",
       "      <td>FEMALE</td>\n",
       "      <td>9.0</td>\n",
       "      <td>26.0</td>\n",
       "      <td>SELFEMPLOYED</td>\n",
       "      <td>NaN</td>\n",
       "      <td>NaN</td>\n",
       "      <td>NaN</td>\n",
       "      <td>NaN</td>\n",
       "      <td>NaN</td>\n",
       "      <td>...</td>\n",
       "      <td>b3.Next</td>\n",
       "      <td>BASE_EXISTING</td>\n",
       "      <td>SELF_EMPLOYED</td>\n",
       "      <td>0</td>\n",
       "      <td>172898.642595</td>\n",
       "      <td>298.55</td>\n",
       "      <td>CAINTA FELIX AVE.</td>\n",
       "      <td>NORTHERN METRO MANILA</td>\n",
       "      <td>RIZAL</td>\n",
       "      <td>1.0</td>\n",
       "    </tr>\n",
       "    <tr>\n",
       "      <th>2</th>\n",
       "      <td>1110.0</td>\n",
       "      <td>MALE</td>\n",
       "      <td>13.0</td>\n",
       "      <td>46.0</td>\n",
       "      <td>SELFEMPLOYED</td>\n",
       "      <td>NaN</td>\n",
       "      <td>NaN</td>\n",
       "      <td>NaN</td>\n",
       "      <td>NaN</td>\n",
       "      <td>NaN</td>\n",
       "      <td>...</td>\n",
       "      <td>d1.Core Mass</td>\n",
       "      <td>BASE_EXISTING</td>\n",
       "      <td>SELF_EMPLOYED</td>\n",
       "      <td>0</td>\n",
       "      <td>NaN</td>\n",
       "      <td>NaN</td>\n",
       "      <td>MALAYBALAY</td>\n",
       "      <td>VISMIN</td>\n",
       "      <td>CDO NORTHERN MINDANAO</td>\n",
       "      <td>0.0</td>\n",
       "    </tr>\n",
       "    <tr>\n",
       "      <th>3</th>\n",
       "      <td>1220.0</td>\n",
       "      <td>FEMALE</td>\n",
       "      <td>4.0</td>\n",
       "      <td>26.0</td>\n",
       "      <td>SELFEMPLOYED</td>\n",
       "      <td>NaN</td>\n",
       "      <td>NaN</td>\n",
       "      <td>NaN</td>\n",
       "      <td>NaN</td>\n",
       "      <td>NaN</td>\n",
       "      <td>...</td>\n",
       "      <td>d1.Core Mass</td>\n",
       "      <td>BASE_EXISTING</td>\n",
       "      <td>SELF_EMPLOYED</td>\n",
       "      <td>0</td>\n",
       "      <td>7541.108499</td>\n",
       "      <td>13608.69</td>\n",
       "      <td>ANGELES FRIENDSHIP</td>\n",
       "      <td>NORTH LUZON</td>\n",
       "      <td>PAMPANGA NORTH</td>\n",
       "      <td>1.0</td>\n",
       "    </tr>\n",
       "    <tr>\n",
       "      <th>4</th>\n",
       "      <td>1300.0</td>\n",
       "      <td>FEMALE</td>\n",
       "      <td>24.0</td>\n",
       "      <td>58.0</td>\n",
       "      <td>SELFEMPLOYED</td>\n",
       "      <td>NaN</td>\n",
       "      <td>NaN</td>\n",
       "      <td>NaN</td>\n",
       "      <td>NaN</td>\n",
       "      <td>NaN</td>\n",
       "      <td>...</td>\n",
       "      <td>d1.Core Mass</td>\n",
       "      <td>BASE_EXISTING</td>\n",
       "      <td>SELF_EMPLOYED</td>\n",
       "      <td>0</td>\n",
       "      <td>8929.407051</td>\n",
       "      <td>1139.07</td>\n",
       "      <td>CALAPAN</td>\n",
       "      <td>SOUTH LUZON</td>\n",
       "      <td>BATANGAS</td>\n",
       "      <td>1.0</td>\n",
       "    </tr>\n",
       "  </tbody>\n",
       "</table>\n",
       "<p>5 rows × 21 columns</p>\n",
       "</div>"
      ],
      "text/plain": [
       "   CST_ID  GENDER  TENURE   AGE IDV_OCP_TYP_ID  PAYROLL_NG_PROXY_FLAG  \\\n",
       "0   320.0  FEMALE     2.0  68.0        RETIRED                    1.0   \n",
       "1   610.0  FEMALE     9.0  26.0   SELFEMPLOYED                    NaN   \n",
       "2  1110.0    MALE    13.0  46.0   SELFEMPLOYED                    NaN   \n",
       "3  1220.0  FEMALE     4.0  26.0   SELFEMPLOYED                    NaN   \n",
       "4  1300.0  FEMALE    24.0  58.0   SELFEMPLOYED                    NaN   \n",
       "\n",
       "   INVOICE_NG_PROXY_FLAG  BR_DEPOSIT_PROXY_FLAG  BR_INVOICE_PROXY_FLAG  \\\n",
       "0                    0.0                    0.0                    0.0   \n",
       "1                    NaN                    NaN                    NaN   \n",
       "2                    NaN                    NaN                    NaN   \n",
       "3                    NaN                    NaN                    NaN   \n",
       "4                    NaN                    NaN                    NaN   \n",
       "\n",
       "   TARGET_FLAG_LENIENT  ...       SEGMENT   scorecard_id EMPLOYMENT_FLAG DBA  \\\n",
       "0                  1.0  ...  d1.Core Mass  BASE_EXISTING    SIDE_HUSTLER   0   \n",
       "1                  NaN  ...       b3.Next  BASE_EXISTING   SELF_EMPLOYED   0   \n",
       "2                  NaN  ...  d1.Core Mass  BASE_EXISTING   SELF_EMPLOYED   0   \n",
       "3                  NaN  ...  d1.Core Mass  BASE_EXISTING   SELF_EMPLOYED   0   \n",
       "4                  NaN  ...  d1.Core Mass  BASE_EXISTING   SELF_EMPLOYED   0   \n",
       "\n",
       "   AVE12_ADB_MAR23_FEB24   MTD_ADB                 BOA               DIVISION  \\\n",
       "0            2847.617086   2565.25       QUIAPO CHURCH  SOUTHERN METRO MANILA   \n",
       "1          172898.642595    298.55   CAINTA FELIX AVE.  NORTHERN METRO MANILA   \n",
       "2                    NaN       NaN          MALAYBALAY                 VISMIN   \n",
       "3            7541.108499  13608.69  ANGELES FRIENDSHIP            NORTH LUZON   \n",
       "4            8929.407051   1139.07             CALAPAN            SOUTH LUZON   \n",
       "\n",
       "                    AREA EOL_FLAG  \n",
       "0         MANILA CENTRAL      1.0  \n",
       "1                  RIZAL      1.0  \n",
       "2  CDO NORTHERN MINDANAO      0.0  \n",
       "3         PAMPANGA NORTH      1.0  \n",
       "4               BATANGAS      1.0  \n",
       "\n",
       "[5 rows x 21 columns]"
      ]
     },
     "execution_count": 21,
     "metadata": {},
     "output_type": "execute_result"
    }
   ],
   "source": [
    "# filter to retail only \n",
    "print(f\"Filtering out non-retail clients...\")\n",
    "out = out.loc[out.SEGMENT_GRP=='b.Retail']\n",
    "\n",
    "# removing attrited clients\n",
    "print(f\"Removing attrited clients.....\")\n",
    "print(f\"Num clients PRE attrited purge: {out.CST_ID.nunique()}\")\n",
    "out = out.pipe(lambda x: x.loc[~x.scorecard_id.str.contains('ATTRITE')])\n",
    "print(f\"Num clients POST attrited purge: {out.CST_ID.nunique()}\")\n",
    "\n",
    "# check distribution of selfemployed for sanity checking before we assign custom\n",
    "print(f\"Number of self-employed from latest CSTSMY: {out.loc[out.IDV_OCP_TYP_ID=='SELFEMPLOYED'].shape[0]}\")\n",
    "\n",
    "# filter to include only self employed and those with wtih side hustler flags (target lenient flag ==1)\n",
    "print('Adding self employed tagging.....') # verbose\n",
    "out = out.query(\"(IDV_OCP_TYP_ID=='SELFEMPLOYED')|(TARGET_FLAG_LENIENT==1)\")\\\n",
    "        .pipe(lambda x: x.assign(EMPLOYMENT_FLAG=np.select([x.IDV_OCP_TYP_ID=='SELFEMPLOYED',\n",
    "                                                            x.TARGET_FLAG_LENIENT==1],\n",
    "                                                            ['SELF_EMPLOYED','SIDE_HUSTLER'], np.nan)))\n",
    "# verbose\n",
    "print(f\"Employment distribution:\")\n",
    "out = out.dropna(subset=['EMPLOYMENT_FLAG']) # REMOVE ALL WHO ARE NOT EITHER SELFEMPLOYED OR SIDE HUSTLERS\n",
    "out.EMPLOYMENT_FLAG.value_counts(dropna=False)\n",
    "\n",
    "# add dba\n",
    "print('Adding DBA tag.....') # verbose\n",
    "dba = pd.read_parquet(max([os.path.join(dba_path, f) for f in os.listdir(dba_path) if 'DBA' in f]))\n",
    "dba_ids = dba.loc[dba.RELA_CD.str.contains('DBA')].CST_ID.tolist()\n",
    "out['DBA'] = np.where(out.CST_ID.isin(dba_ids), 1, 0)\n",
    "del dba\n",
    "gc.collect()\n",
    "gc.collect()\n",
    "print(out.shape)\n",
    "\n",
    "# add 12 mos mean adb\n",
    "print('Adding 12 MOS AVG ADB.....') # verbose\n",
    "#alldepo = pd.read_parquet(os.path.join(alldepo_path, end.strftime(alldepo_frmt)), columns=['CST_ID','AV_DLY_BAL_YTD'])\\\n",
    "                #.rename(columns={'AV_DLY_BAL':'MTD_ADB'})\n",
    "ave12 = pd.read_parquet(max(glob.glob(os.path.join(ave12_path, ave12_frmt))))\\\n",
    "                .pipe(lambda x: x[['CST_ID']+[col for col in x.columns if 'FUNDS_PMT' in col]])\\\n",
    "                        .pipe(lambda x: x.rename(columns={[col for col in x.columns if 'FUNDS_PMT' in col][-1]:[col for col in x.columns if 'FUNDS_PMT' in col][-1].replace('AVE12_FUNDS_PMT','AVE12_ADB')}))\n",
    "out = out.merge(ave12, on='CST_ID', how='left')\n",
    "del ave12\n",
    "gc.collect()\n",
    "gc.collect()\n",
    "print(out.shape)\n",
    "\n",
    "# add mtd adb\n",
    "print('Adding MTD ADB.....') # verbose\n",
    "adb = pd.read_parquet(os.path.join(alldepo_path, end.strftime(alldepo_frmt)), columns=['CST_ID','AV_DLY_BAL'])\\\n",
    "                .rename(columns={'AV_DLY_BAL':'MTD_ADB'})\\\n",
    "                        .groupby(['CST_ID']).agg(MTD_ADB=('MTD_ADB','sum'))\n",
    "out = out.merge(adb, on='CST_ID', how='left')\n",
    "del adb\n",
    "gc.collect()\n",
    "gc.collect()\n",
    "print(out.shape)\n",
    "\n",
    "# add branch of account \n",
    "print('Adding BOA data.....') # verbose\n",
    "br = pd.read_parquet(max(glob.glob(os.path.join(br_path, br_frmt))), columns=['CST_ID','br_code'])\\\n",
    "        .pipe(lambda x: x.rename(columns={col:col.upper() for col in x.columns}))\\\n",
    "                .merge(pd.read_parquet(max(glob.glob(os.path.join(hier_path, hier_frmt))), columns=['BR_CODE','PCC_NAME','DIVISION','AREA']), on='BR_CODE', how='left')\\\n",
    "                    .rename(columns={'PCC_NAME':'BOA'}).reset_index(drop=True)\\\n",
    "                        .drop(columns=['BR_CODE'])\n",
    "out = out.merge(br, on='CST_ID', how='left')\n",
    "del br\n",
    "gc.collect()\n",
    "gc.collect()\n",
    "print(out.shape)\n",
    "\n",
    "\n",
    "# add EOL flag \n",
    "print('Adding EOL Flag.....') # verbose\n",
    "out = out.merge(pd.read_parquet(max(enrol_files), columns=['CST_ID','EOL_FLAG']),\n",
    "                on='CST_ID', how='left')\n",
    "gc.collect()\n",
    "gc.collect()\n",
    "print(out.shape)\n",
    "\n",
    "# check\n",
    "out.head()"
   ]
  },
  {
   "cell_type": "code",
   "execution_count": 22,
   "metadata": {},
   "outputs": [],
   "source": [
    "# save temporarily so i can avoid rerunning tom!\n",
    "out.to_parquet(os.path.join(proj_path, 'intermediary_out.parquet'))"
   ]
  },
  {
   "cell_type": "markdown",
   "metadata": {},
   "source": []
  },
  {
   "cell_type": "code",
   "execution_count": 30,
   "metadata": {},
   "outputs": [
    {
     "data": {
      "text/plain": [
       "223"
      ]
     },
     "execution_count": 30,
     "metadata": {},
     "output_type": "execute_result"
    },
    {
     "data": {
      "text/plain": [
       "0"
      ]
     },
     "execution_count": 30,
     "metadata": {},
     "output_type": "execute_result"
    },
    {
     "data": {
      "text/plain": [
       "0"
      ]
     },
     "execution_count": 30,
     "metadata": {},
     "output_type": "execute_result"
    },
    {
     "data": {
      "text/plain": [
       "0"
      ]
     },
     "execution_count": 30,
     "metadata": {},
     "output_type": "execute_result"
    },
    {
     "data": {
      "text/plain": [
       "0"
      ]
     },
     "execution_count": 30,
     "metadata": {},
     "output_type": "execute_result"
    },
    {
     "data": {
      "text/plain": [
       "0"
      ]
     },
     "execution_count": 30,
     "metadata": {},
     "output_type": "execute_result"
    },
    {
     "data": {
      "text/plain": [
       "0"
      ]
     },
     "execution_count": 30,
     "metadata": {},
     "output_type": "execute_result"
    },
    {
     "data": {
      "text/plain": [
       "0"
      ]
     },
     "execution_count": 30,
     "metadata": {},
     "output_type": "execute_result"
    },
    {
     "data": {
      "text/plain": [
       "0"
      ]
     },
     "execution_count": 30,
     "metadata": {},
     "output_type": "execute_result"
    },
    {
     "data": {
      "text/plain": [
       "0"
      ]
     },
     "execution_count": 30,
     "metadata": {},
     "output_type": "execute_result"
    },
    {
     "data": {
      "text/plain": [
       "0"
      ]
     },
     "execution_count": 30,
     "metadata": {},
     "output_type": "execute_result"
    },
    {
     "data": {
      "text/plain": [
       "0"
      ]
     },
     "execution_count": 30,
     "metadata": {},
     "output_type": "execute_result"
    },
    {
     "data": {
      "text/plain": [
       "0"
      ]
     },
     "execution_count": 30,
     "metadata": {},
     "output_type": "execute_result"
    },
    {
     "data": {
      "text/plain": [
       "0"
      ]
     },
     "execution_count": 30,
     "metadata": {},
     "output_type": "execute_result"
    },
    {
     "data": {
      "text/plain": [
       "0"
      ]
     },
     "execution_count": 30,
     "metadata": {},
     "output_type": "execute_result"
    },
    {
     "data": {
      "text/plain": [
       "0"
      ]
     },
     "execution_count": 30,
     "metadata": {},
     "output_type": "execute_result"
    },
    {
     "data": {
      "text/plain": [
       "0"
      ]
     },
     "execution_count": 30,
     "metadata": {},
     "output_type": "execute_result"
    },
    {
     "data": {
      "text/plain": [
       "0"
      ]
     },
     "execution_count": 30,
     "metadata": {},
     "output_type": "execute_result"
    },
    {
     "data": {
      "text/plain": [
       "0"
      ]
     },
     "execution_count": 30,
     "metadata": {},
     "output_type": "execute_result"
    },
    {
     "data": {
      "text/plain": [
       "0"
      ]
     },
     "execution_count": 30,
     "metadata": {},
     "output_type": "execute_result"
    },
    {
     "data": {
      "text/plain": [
       "0"
      ]
     },
     "execution_count": 30,
     "metadata": {},
     "output_type": "execute_result"
    },
    {
     "data": {
      "text/plain": [
       "0"
      ]
     },
     "execution_count": 30,
     "metadata": {},
     "output_type": "execute_result"
    },
    {
     "data": {
      "text/plain": [
       "0"
      ]
     },
     "execution_count": 30,
     "metadata": {},
     "output_type": "execute_result"
    },
    {
     "data": {
      "text/plain": [
       "0"
      ]
     },
     "execution_count": 30,
     "metadata": {},
     "output_type": "execute_result"
    },
    {
     "data": {
      "text/plain": [
       "0"
      ]
     },
     "execution_count": 30,
     "metadata": {},
     "output_type": "execute_result"
    },
    {
     "data": {
      "text/plain": [
       "0"
      ]
     },
     "execution_count": 30,
     "metadata": {},
     "output_type": "execute_result"
    },
    {
     "data": {
      "text/plain": [
       "0"
      ]
     },
     "execution_count": 30,
     "metadata": {},
     "output_type": "execute_result"
    },
    {
     "data": {
      "text/plain": [
       "0"
      ]
     },
     "execution_count": 30,
     "metadata": {},
     "output_type": "execute_result"
    },
    {
     "data": {
      "text/plain": [
       "0"
      ]
     },
     "execution_count": 30,
     "metadata": {},
     "output_type": "execute_result"
    },
    {
     "data": {
      "text/plain": [
       "0"
      ]
     },
     "execution_count": 30,
     "metadata": {},
     "output_type": "execute_result"
    },
    {
     "data": {
      "text/plain": [
       "0"
      ]
     },
     "execution_count": 30,
     "metadata": {},
     "output_type": "execute_result"
    },
    {
     "data": {
      "text/plain": [
       "0"
      ]
     },
     "execution_count": 30,
     "metadata": {},
     "output_type": "execute_result"
    },
    {
     "data": {
      "text/plain": [
       "0"
      ]
     },
     "execution_count": 30,
     "metadata": {},
     "output_type": "execute_result"
    },
    {
     "data": {
      "text/plain": [
       "0"
      ]
     },
     "execution_count": 30,
     "metadata": {},
     "output_type": "execute_result"
    },
    {
     "data": {
      "text/plain": [
       "0"
      ]
     },
     "execution_count": 30,
     "metadata": {},
     "output_type": "execute_result"
    },
    {
     "data": {
      "text/plain": [
       "0"
      ]
     },
     "execution_count": 30,
     "metadata": {},
     "output_type": "execute_result"
    },
    {
     "data": {
      "text/plain": [
       "0"
      ]
     },
     "execution_count": 30,
     "metadata": {},
     "output_type": "execute_result"
    },
    {
     "data": {
      "text/plain": [
       "0"
      ]
     },
     "execution_count": 30,
     "metadata": {},
     "output_type": "execute_result"
    },
    {
     "data": {
      "text/plain": [
       "0"
      ]
     },
     "execution_count": 30,
     "metadata": {},
     "output_type": "execute_result"
    },
    {
     "data": {
      "text/plain": [
       "0"
      ]
     },
     "execution_count": 30,
     "metadata": {},
     "output_type": "execute_result"
    },
    {
     "data": {
      "text/html": [
       "<div>\n",
       "<style scoped>\n",
       "    .dataframe tbody tr th:only-of-type {\n",
       "        vertical-align: middle;\n",
       "    }\n",
       "\n",
       "    .dataframe tbody tr th {\n",
       "        vertical-align: top;\n",
       "    }\n",
       "\n",
       "    .dataframe thead th {\n",
       "        text-align: right;\n",
       "    }\n",
       "</style>\n",
       "<table border=\"1\" class=\"dataframe\">\n",
       "  <thead>\n",
       "    <tr style=\"text-align: right;\">\n",
       "      <th></th>\n",
       "      <th>CST_ID</th>\n",
       "      <th>AR_ID</th>\n",
       "      <th>BEAMS_CODE</th>\n",
       "      <th>REFERENCE_NUMBER</th>\n",
       "      <th>CHARGE_EFFECTIVITY_DATE</th>\n",
       "      <th>PREMIUM_BASIC</th>\n",
       "      <th>IS_SUBSCRIBED</th>\n",
       "      <th>TYPE_OF_SUBSCRIPTION</th>\n",
       "      <th>PAYMENT_DATE</th>\n",
       "      <th>FINANCING_STATUS</th>\n",
       "    </tr>\n",
       "  </thead>\n",
       "  <tbody>\n",
       "    <tr>\n",
       "      <th>1</th>\n",
       "      <td>441475210.0</td>\n",
       "      <td>856568030.0</td>\n",
       "      <td>SME01012388421</td>\n",
       "      <td>SME-010123-120101-88421</td>\n",
       "      <td>2023-05-28</td>\n",
       "      <td>Basic Monthly</td>\n",
       "      <td>Yes</td>\n",
       "      <td>Monthly</td>\n",
       "      <td>2023-04-28</td>\n",
       "      <td>Expired</td>\n",
       "    </tr>\n",
       "    <tr>\n",
       "      <th>2</th>\n",
       "      <td>NaN</td>\n",
       "      <td>NaN</td>\n",
       "      <td>SME01012388441</td>\n",
       "      <td>SME-010123-172801-88441</td>\n",
       "      <td>2024-04-01</td>\n",
       "      <td>Basic Annual</td>\n",
       "      <td>Yes</td>\n",
       "      <td>Annual</td>\n",
       "      <td>2024-03-01</td>\n",
       "      <td>Expired</td>\n",
       "    </tr>\n",
       "    <tr>\n",
       "      <th>3</th>\n",
       "      <td>NaN</td>\n",
       "      <td>NaN</td>\n",
       "      <td>SME01022388461</td>\n",
       "      <td>SME-010223-115626-88461</td>\n",
       "      <td>2024-04-01</td>\n",
       "      <td>Basic Annual</td>\n",
       "      <td>Yes</td>\n",
       "      <td>Annual</td>\n",
       "      <td>2024-03-01</td>\n",
       "      <td>Expired</td>\n",
       "    </tr>\n",
       "    <tr>\n",
       "      <th>4</th>\n",
       "      <td>755963810.0</td>\n",
       "      <td>950043340.0</td>\n",
       "      <td>SME01022388481</td>\n",
       "      <td>SME-010223-155856-88481</td>\n",
       "      <td>2023-05-28</td>\n",
       "      <td>Premium Monthly</td>\n",
       "      <td>Yes</td>\n",
       "      <td>Monthly</td>\n",
       "      <td>2023-04-28</td>\n",
       "      <td>Expired</td>\n",
       "    </tr>\n",
       "    <tr>\n",
       "      <th>5</th>\n",
       "      <td>422162510.0</td>\n",
       "      <td>632991730.0</td>\n",
       "      <td>SME01022388501</td>\n",
       "      <td>SME-010223-174504-88501</td>\n",
       "      <td>2023-05-28</td>\n",
       "      <td>Premium Monthly</td>\n",
       "      <td>Yes</td>\n",
       "      <td>Monthly</td>\n",
       "      <td>2023-04-28</td>\n",
       "      <td>Expired</td>\n",
       "    </tr>\n",
       "    <tr>\n",
       "      <th>...</th>\n",
       "      <td>...</td>\n",
       "      <td>...</td>\n",
       "      <td>...</td>\n",
       "      <td>...</td>\n",
       "      <td>...</td>\n",
       "      <td>...</td>\n",
       "      <td>...</td>\n",
       "      <td>...</td>\n",
       "      <td>...</td>\n",
       "      <td>...</td>\n",
       "    </tr>\n",
       "    <tr>\n",
       "      <th>19156</th>\n",
       "      <td>NaN</td>\n",
       "      <td>NaN</td>\n",
       "      <td>SME12292399981</td>\n",
       "      <td>SME-122923-083705-99981</td>\n",
       "      <td>2024-03-29</td>\n",
       "      <td>Premium</td>\n",
       "      <td>Yes</td>\n",
       "      <td>Annual</td>\n",
       "      <td>2024-02-29</td>\n",
       "      <td>Active</td>\n",
       "    </tr>\n",
       "    <tr>\n",
       "      <th>19157</th>\n",
       "      <td>480485610.0</td>\n",
       "      <td>298401350.0</td>\n",
       "      <td>SME12302288401</td>\n",
       "      <td>SME-123022-133741-88401</td>\n",
       "      <td>2023-05-13</td>\n",
       "      <td>Premium Month</td>\n",
       "      <td>Yes</td>\n",
       "      <td>Monthly</td>\n",
       "      <td>2023-04-13</td>\n",
       "      <td>Expired</td>\n",
       "    </tr>\n",
       "    <tr>\n",
       "      <th>19158</th>\n",
       "      <td>NaN</td>\n",
       "      <td>NaN</td>\n",
       "      <td>SME12302300901</td>\n",
       "      <td>SME-123023-101605-00901</td>\n",
       "      <td>2024-03-29</td>\n",
       "      <td>Premium</td>\n",
       "      <td>Yes</td>\n",
       "      <td>Annual</td>\n",
       "      <td>2024-02-29</td>\n",
       "      <td>Active</td>\n",
       "    </tr>\n",
       "    <tr>\n",
       "      <th>19159</th>\n",
       "      <td>NaN</td>\n",
       "      <td>NaN</td>\n",
       "      <td>SME12312300921</td>\n",
       "      <td>SME-123123-121514-00921</td>\n",
       "      <td>2024-03-29</td>\n",
       "      <td>Premium</td>\n",
       "      <td>Yes</td>\n",
       "      <td>Annual</td>\n",
       "      <td>2024-02-29</td>\n",
       "      <td>Active</td>\n",
       "    </tr>\n",
       "    <tr>\n",
       "      <th>19160</th>\n",
       "      <td>NaN</td>\n",
       "      <td>NaN</td>\n",
       "      <td>SME12312300941</td>\n",
       "      <td>SME-123123-143201-00941</td>\n",
       "      <td>2024-03-29</td>\n",
       "      <td>Premium</td>\n",
       "      <td>Yes</td>\n",
       "      <td>Annual</td>\n",
       "      <td>2024-02-29</td>\n",
       "      <td>Active</td>\n",
       "    </tr>\n",
       "  </tbody>\n",
       "</table>\n",
       "<p>258905 rows × 10 columns</p>\n",
       "</div>"
      ],
      "text/plain": [
       "            CST_ID        AR_ID      BEAMS_CODE         REFERENCE_NUMBER  \\\n",
       "1      441475210.0  856568030.0  SME01012388421  SME-010123-120101-88421   \n",
       "2              NaN          NaN  SME01012388441  SME-010123-172801-88441   \n",
       "3              NaN          NaN  SME01022388461  SME-010223-115626-88461   \n",
       "4      755963810.0  950043340.0  SME01022388481  SME-010223-155856-88481   \n",
       "5      422162510.0  632991730.0  SME01022388501  SME-010223-174504-88501   \n",
       "...            ...          ...             ...                      ...   \n",
       "19156          NaN          NaN  SME12292399981  SME-122923-083705-99981   \n",
       "19157  480485610.0  298401350.0  SME12302288401  SME-123022-133741-88401   \n",
       "19158          NaN          NaN  SME12302300901  SME-123023-101605-00901   \n",
       "19159          NaN          NaN  SME12312300921  SME-123123-121514-00921   \n",
       "19160          NaN          NaN  SME12312300941  SME-123123-143201-00941   \n",
       "\n",
       "      CHARGE_EFFECTIVITY_DATE    PREMIUM_BASIC IS_SUBSCRIBED  \\\n",
       "1                  2023-05-28    Basic Monthly           Yes   \n",
       "2                  2024-04-01     Basic Annual           Yes   \n",
       "3                  2024-04-01     Basic Annual           Yes   \n",
       "4                  2023-05-28  Premium Monthly           Yes   \n",
       "5                  2023-05-28  Premium Monthly           Yes   \n",
       "...                       ...              ...           ...   \n",
       "19156              2024-03-29          Premium           Yes   \n",
       "19157              2023-05-13    Premium Month           Yes   \n",
       "19158              2024-03-29          Premium           Yes   \n",
       "19159              2024-03-29          Premium           Yes   \n",
       "19160              2024-03-29          Premium           Yes   \n",
       "\n",
       "      TYPE_OF_SUBSCRIPTION PAYMENT_DATE FINANCING_STATUS  \n",
       "1                  Monthly   2023-04-28          Expired  \n",
       "2                   Annual   2024-03-01          Expired  \n",
       "3                   Annual   2024-03-01          Expired  \n",
       "4                  Monthly   2023-04-28          Expired  \n",
       "5                  Monthly   2023-04-28          Expired  \n",
       "...                    ...          ...              ...  \n",
       "19156               Annual   2024-02-29           Active  \n",
       "19157              Monthly   2023-04-13          Expired  \n",
       "19158               Annual   2024-02-29           Active  \n",
       "19159               Annual   2024-02-29           Active  \n",
       "19160               Annual   2024-02-29           Active  \n",
       "\n",
       "[258905 rows x 10 columns]"
      ]
     },
     "execution_count": 30,
     "metadata": {},
     "output_type": "execute_result"
    }
   ],
   "source": [
    "# loop through each bizko enrolment file and merge all for complete history \n",
    "for i, f in enumerate(os.listdir(bizko_enrol_path)):\n",
    "    # read file and make necessary formatting changes \n",
    "    #print(f\"Working on {f}.......\") # verbose\n",
    "    temp =  pd.read_parquet(os.path.join(bizko_enrol_path, f)).dropna(how='all')\\\n",
    "                .rename(columns={'IS_SUBSCRIBE':'IS_SUBSCRIBED','IS_SUBSCRIBED_':'IS_SUBSCRIBED'})\\\n",
    "                    .pipe(lambda x: x.assign(CHARGE_EFFECTIVITY_DATE = [val.split(' ')[0] for val in x.CHARGE_EFFECTIVITY_DATE],\n",
    "                                                        PAYMENT_DATE = [val.split(' ')[0] for val in x.PAYMENT_DATE]))\\\n",
    "                        .pipe(lambda x: x.assign(CHARGE_EFFECTIVITY_DATE = x.CHARGE_EFFECTIVITY_DATE.astype('datetime64'),\n",
    "                                                            PAYMENT_DATE = x.PAYMENT_DATE.astype('datetime64')))\n",
    "    # concat\n",
    "    if i == 0:\n",
    "        bizko_enrol = temp\n",
    "    else:\n",
    "        bizko_enrol = pd.concat([bizko_enrol, temp], axis=0)\n",
    "\n",
    "    # clear space\n",
    "    del temp\n",
    "    gc.collect()\n",
    "    gc.collect()\n",
    "\n",
    "bizko_enrol"
   ]
  },
  {
   "cell_type": "code",
   "execution_count": 31,
   "metadata": {},
   "outputs": [
    {
     "data": {
      "text/plain": [
       "Yes    161350\n",
       "No      97555\n",
       "Name: IS_SUBSCRIBED, dtype: int64"
      ]
     },
     "execution_count": 31,
     "metadata": {},
     "output_type": "execute_result"
    },
    {
     "data": {
      "text/plain": [
       "Expired      173131\n",
       "Active        78262\n",
       "Cancelled      7022\n",
       "NaN             490\n",
       "Name: FINANCING_STATUS, dtype: int64"
      ]
     },
     "execution_count": 31,
     "metadata": {},
     "output_type": "execute_result"
    }
   ],
   "source": [
    "bizko_enrol.IS_SUBSCRIBED.value_counts(dropna=False)\n",
    "bizko_enrol.FINANCING_STATUS.value_counts(dropna=False)"
   ]
  },
  {
   "cell_type": "code",
   "execution_count": 32,
   "metadata": {},
   "outputs": [
    {
     "data": {
      "text/html": [
       "<div>\n",
       "<style scoped>\n",
       "    .dataframe tbody tr th:only-of-type {\n",
       "        vertical-align: middle;\n",
       "    }\n",
       "\n",
       "    .dataframe tbody tr th {\n",
       "        vertical-align: top;\n",
       "    }\n",
       "\n",
       "    .dataframe thead th {\n",
       "        text-align: right;\n",
       "    }\n",
       "</style>\n",
       "<table border=\"1\" class=\"dataframe\">\n",
       "  <thead>\n",
       "    <tr style=\"text-align: right;\">\n",
       "      <th></th>\n",
       "      <th>CST_ID</th>\n",
       "      <th>BIZKO_ENROLLED</th>\n",
       "    </tr>\n",
       "  </thead>\n",
       "  <tbody>\n",
       "    <tr>\n",
       "      <th>5524</th>\n",
       "      <td>69530510.0</td>\n",
       "      <td>1</td>\n",
       "    </tr>\n",
       "    <tr>\n",
       "      <th>3595</th>\n",
       "      <td>551197410.0</td>\n",
       "      <td>1</td>\n",
       "    </tr>\n",
       "    <tr>\n",
       "      <th>7158</th>\n",
       "      <td>630289220.0</td>\n",
       "      <td>1</td>\n",
       "    </tr>\n",
       "    <tr>\n",
       "      <th>8466</th>\n",
       "      <td>36520000.0</td>\n",
       "      <td>1</td>\n",
       "    </tr>\n",
       "    <tr>\n",
       "      <th>9934</th>\n",
       "      <td>60634620.0</td>\n",
       "      <td>1</td>\n",
       "    </tr>\n",
       "  </tbody>\n",
       "</table>\n",
       "</div>"
      ],
      "text/plain": [
       "           CST_ID  BIZKO_ENROLLED\n",
       "5524   69530510.0               1\n",
       "3595  551197410.0               1\n",
       "7158  630289220.0               1\n",
       "8466   36520000.0               1\n",
       "9934   60634620.0               1"
      ]
     },
     "execution_count": 32,
     "metadata": {},
     "output_type": "execute_result"
    },
    {
     "data": {
      "text/plain": [
       "(10242, 2)"
      ]
     },
     "execution_count": 32,
     "metadata": {},
     "output_type": "execute_result"
    },
    {
     "data": {
      "text/plain": [
       "1    10242\n",
       "Name: BIZKO_ENROLLED, dtype: int64"
      ]
     },
     "execution_count": 32,
     "metadata": {},
     "output_type": "execute_result"
    },
    {
     "data": {
      "text/html": [
       "<div>\n",
       "<style scoped>\n",
       "    .dataframe tbody tr th:only-of-type {\n",
       "        vertical-align: middle;\n",
       "    }\n",
       "\n",
       "    .dataframe tbody tr th {\n",
       "        vertical-align: top;\n",
       "    }\n",
       "\n",
       "    .dataframe thead th {\n",
       "        text-align: right;\n",
       "    }\n",
       "</style>\n",
       "<table border=\"1\" class=\"dataframe\">\n",
       "  <thead>\n",
       "    <tr style=\"text-align: right;\">\n",
       "      <th></th>\n",
       "      <th>CST_ID</th>\n",
       "      <th>ENROLMENT_DATE</th>\n",
       "    </tr>\n",
       "  </thead>\n",
       "  <tbody>\n",
       "    <tr>\n",
       "      <th>1927</th>\n",
       "      <td>84731610.0</td>\n",
       "      <td>2022-07-08</td>\n",
       "    </tr>\n",
       "    <tr>\n",
       "      <th>9653</th>\n",
       "      <td>528495520.0</td>\n",
       "      <td>2023-09-20</td>\n",
       "    </tr>\n",
       "    <tr>\n",
       "      <th>8100</th>\n",
       "      <td>455345610.0</td>\n",
       "      <td>2023-03-07</td>\n",
       "    </tr>\n",
       "    <tr>\n",
       "      <th>4937</th>\n",
       "      <td>663609320.0</td>\n",
       "      <td>2022-08-26</td>\n",
       "    </tr>\n",
       "    <tr>\n",
       "      <th>5102</th>\n",
       "      <td>8653510.0</td>\n",
       "      <td>2022-08-29</td>\n",
       "    </tr>\n",
       "  </tbody>\n",
       "</table>\n",
       "</div>"
      ],
      "text/plain": [
       "           CST_ID ENROLMENT_DATE\n",
       "1927   84731610.0     2022-07-08\n",
       "9653  528495520.0     2023-09-20\n",
       "8100  455345610.0     2023-03-07\n",
       "4937  663609320.0     2022-08-26\n",
       "5102    8653510.0     2022-08-29"
      ]
     },
     "execution_count": 32,
     "metadata": {},
     "output_type": "execute_result"
    },
    {
     "data": {
      "text/plain": [
       "(10241, 2)"
      ]
     },
     "execution_count": 32,
     "metadata": {},
     "output_type": "execute_result"
    },
    {
     "data": {
      "text/html": [
       "<div>\n",
       "<style scoped>\n",
       "    .dataframe tbody tr th:only-of-type {\n",
       "        vertical-align: middle;\n",
       "    }\n",
       "\n",
       "    .dataframe tbody tr th {\n",
       "        vertical-align: top;\n",
       "    }\n",
       "\n",
       "    .dataframe thead th {\n",
       "        text-align: right;\n",
       "    }\n",
       "</style>\n",
       "<table border=\"1\" class=\"dataframe\">\n",
       "  <thead>\n",
       "    <tr style=\"text-align: right;\">\n",
       "      <th></th>\n",
       "      <th>CST_ID</th>\n",
       "      <th>EXPIRY_DATE</th>\n",
       "    </tr>\n",
       "  </thead>\n",
       "  <tbody>\n",
       "    <tr>\n",
       "      <th>7478</th>\n",
       "      <td>726269600.0</td>\n",
       "      <td>2023-10-18</td>\n",
       "    </tr>\n",
       "    <tr>\n",
       "      <th>4974</th>\n",
       "      <td>28617910.0</td>\n",
       "      <td>2023-04-20</td>\n",
       "    </tr>\n",
       "    <tr>\n",
       "      <th>838</th>\n",
       "      <td>909171600.0</td>\n",
       "      <td>2022-09-29</td>\n",
       "    </tr>\n",
       "    <tr>\n",
       "      <th>5200</th>\n",
       "      <td>98933320.0</td>\n",
       "      <td>2023-05-07</td>\n",
       "    </tr>\n",
       "    <tr>\n",
       "      <th>948</th>\n",
       "      <td>1247510.0</td>\n",
       "      <td>2022-10-06</td>\n",
       "    </tr>\n",
       "  </tbody>\n",
       "</table>\n",
       "</div>"
      ],
      "text/plain": [
       "           CST_ID EXPIRY_DATE\n",
       "7478  726269600.0  2023-10-18\n",
       "4974   28617910.0  2023-04-20\n",
       "838   909171600.0  2022-09-29\n",
       "5200   98933320.0  2023-05-07\n",
       "948     1247510.0  2022-10-06"
      ]
     },
     "execution_count": 32,
     "metadata": {},
     "output_type": "execute_result"
    },
    {
     "data": {
      "text/plain": [
       "(10241, 2)"
      ]
     },
     "execution_count": 32,
     "metadata": {},
     "output_type": "execute_result"
    },
    {
     "data": {
      "text/html": [
       "<div>\n",
       "<style scoped>\n",
       "    .dataframe tbody tr th:only-of-type {\n",
       "        vertical-align: middle;\n",
       "    }\n",
       "\n",
       "    .dataframe tbody tr th {\n",
       "        vertical-align: top;\n",
       "    }\n",
       "\n",
       "    .dataframe thead th {\n",
       "        text-align: right;\n",
       "    }\n",
       "</style>\n",
       "<table border=\"1\" class=\"dataframe\">\n",
       "  <thead>\n",
       "    <tr style=\"text-align: right;\">\n",
       "      <th></th>\n",
       "      <th>CST_ID</th>\n",
       "      <th>BIZKO_ENROLLED</th>\n",
       "      <th>ENROLMENT_DATE</th>\n",
       "      <th>EXPIRY_DATE</th>\n",
       "    </tr>\n",
       "  </thead>\n",
       "  <tbody>\n",
       "    <tr>\n",
       "      <th>0</th>\n",
       "      <td>200730220.0</td>\n",
       "      <td>1</td>\n",
       "      <td>2021-12-17</td>\n",
       "      <td>2022-01-17</td>\n",
       "    </tr>\n",
       "    <tr>\n",
       "      <th>1</th>\n",
       "      <td>73398900.0</td>\n",
       "      <td>1</td>\n",
       "      <td>2022-01-14</td>\n",
       "      <td>2022-02-14</td>\n",
       "    </tr>\n",
       "    <tr>\n",
       "      <th>2</th>\n",
       "      <td>187041310.0</td>\n",
       "      <td>1</td>\n",
       "      <td>2022-01-20</td>\n",
       "      <td>2022-04-20</td>\n",
       "    </tr>\n",
       "    <tr>\n",
       "      <th>3</th>\n",
       "      <td>99869300.0</td>\n",
       "      <td>1</td>\n",
       "      <td>2022-01-20</td>\n",
       "      <td>2023-01-20</td>\n",
       "    </tr>\n",
       "    <tr>\n",
       "      <th>4</th>\n",
       "      <td>237350200.0</td>\n",
       "      <td>1</td>\n",
       "      <td>2022-01-28</td>\n",
       "      <td>2023-01-28</td>\n",
       "    </tr>\n",
       "  </tbody>\n",
       "</table>\n",
       "</div>"
      ],
      "text/plain": [
       "        CST_ID  BIZKO_ENROLLED ENROLMENT_DATE EXPIRY_DATE\n",
       "0  200730220.0               1     2021-12-17  2022-01-17\n",
       "1   73398900.0               1     2022-01-14  2022-02-14\n",
       "2  187041310.0               1     2022-01-20  2022-04-20\n",
       "3   99869300.0               1     2022-01-20  2023-01-20\n",
       "4  237350200.0               1     2022-01-28  2023-01-28"
      ]
     },
     "execution_count": 32,
     "metadata": {},
     "output_type": "execute_result"
    },
    {
     "data": {
      "text/plain": [
       "(10241, 4)"
      ]
     },
     "execution_count": 32,
     "metadata": {},
     "output_type": "execute_result"
    }
   ],
   "source": [
    "# get bizko enrolled clients\n",
    "subscr = bizko_enrol.sort_values(by='PAYMENT_DATE', ascending=True).drop_duplicates(subset=['CST_ID'], keep='last')\\\n",
    "            [['CST_ID','IS_SUBSCRIBED']].rename(columns={'IS_SUBSCRIBED':'BIZKO_ENROLLED'})\\\n",
    "                .pipe(lambda x: x.assign(BIZKO_ENROLLED=np.where(x.BIZKO_ENROLLED=='Yes',1,0))).reset_index(drop=True)\n",
    "subscr.sample(5)\n",
    "subscr.shape\n",
    "subscr.BIZKO_ENROLLED.value_counts()\n",
    "\n",
    "# sort by payment date\n",
    "payment = bizko_enrol.sort_values(by='PAYMENT_DATE', ascending=True).drop_duplicates(subset=['CST_ID'], keep='first')[['CST_ID','PAYMENT_DATE']]\\\n",
    "                        .rename(columns={'PAYMENT_DATE':'ENROLMENT_DATE'}).dropna(subset=['CST_ID']).reset_index(drop=True)\n",
    "payment.sample(5)\n",
    "payment.shape\n",
    "\n",
    "# month and year of last active subscription (MY ASSUMPTIOON: expiry date is charge effectivity date --- waitin on ms claudine's confirmation on this)\n",
    "expiry = bizko_enrol.sort_values(by='CHARGE_EFFECTIVITY_DATE', ascending=True).drop_duplicates(subset=['CST_ID'], keep='last')[['CST_ID','CHARGE_EFFECTIVITY_DATE']]\\\n",
    "                        .rename(columns={'CHARGE_EFFECTIVITY_DATE':'EXPIRY_DATE'}).dropna(subset=['CST_ID']).reset_index(drop=True)\n",
    "\n",
    "expiry.sample(5)\n",
    "expiry.shape\n",
    "\n",
    "# merge \n",
    "bizko = subscr.reset_index(drop=True)\\\n",
    "                .merge(payment.reset_index(drop=True), on='CST_ID', how='inner')\\\n",
    "                    .merge(expiry.reset_index(drop=True), on='CST_ID', how='inner')\n",
    "bizko.head()\n",
    "bizko.shape"
   ]
  },
  {
   "cell_type": "code",
   "execution_count": 33,
   "metadata": {},
   "outputs": [
    {
     "data": {
      "text/plain": [
       "(920492, 22)"
      ]
     },
     "execution_count": 33,
     "metadata": {},
     "output_type": "execute_result"
    },
    {
     "data": {
      "text/plain": [
       "0"
      ]
     },
     "execution_count": 33,
     "metadata": {},
     "output_type": "execute_result"
    },
    {
     "data": {
      "text/html": [
       "<div>\n",
       "<style scoped>\n",
       "    .dataframe tbody tr th:only-of-type {\n",
       "        vertical-align: middle;\n",
       "    }\n",
       "\n",
       "    .dataframe tbody tr th {\n",
       "        vertical-align: top;\n",
       "    }\n",
       "\n",
       "    .dataframe thead th {\n",
       "        text-align: right;\n",
       "    }\n",
       "</style>\n",
       "<table border=\"1\" class=\"dataframe\">\n",
       "  <thead>\n",
       "    <tr style=\"text-align: right;\">\n",
       "      <th></th>\n",
       "      <th>CST_ID</th>\n",
       "      <th>GENDER</th>\n",
       "      <th>TENURE</th>\n",
       "      <th>AGE</th>\n",
       "      <th>PAYROLL_NG_PROXY_FLAG</th>\n",
       "      <th>INVOICE_NG_PROXY_FLAG</th>\n",
       "      <th>BR_DEPOSIT_PROXY_FLAG</th>\n",
       "      <th>BR_INVOICE_PROXY_FLAG</th>\n",
       "      <th>SEGMENT_GRP</th>\n",
       "      <th>SEGMENT</th>\n",
       "      <th>...</th>\n",
       "      <th>DBA</th>\n",
       "      <th>AVE12_ADB_MAR23_FEB24</th>\n",
       "      <th>MTD_ADB</th>\n",
       "      <th>BOA</th>\n",
       "      <th>DIVISION</th>\n",
       "      <th>AREA</th>\n",
       "      <th>EOL_FLAG</th>\n",
       "      <th>BIZKO_ENROLLED</th>\n",
       "      <th>ENROLMENT_DATE</th>\n",
       "      <th>EXPIRY_DATE</th>\n",
       "    </tr>\n",
       "  </thead>\n",
       "  <tbody>\n",
       "    <tr>\n",
       "      <th>0</th>\n",
       "      <td>320.0</td>\n",
       "      <td>FEMALE</td>\n",
       "      <td>2.0</td>\n",
       "      <td>68.0</td>\n",
       "      <td>1.0</td>\n",
       "      <td>0.0</td>\n",
       "      <td>0.0</td>\n",
       "      <td>0.0</td>\n",
       "      <td>b.Retail</td>\n",
       "      <td>d1.Core Mass</td>\n",
       "      <td>...</td>\n",
       "      <td>0.0</td>\n",
       "      <td>2847.617086</td>\n",
       "      <td>2565.25</td>\n",
       "      <td>QUIAPO CHURCH</td>\n",
       "      <td>SOUTHERN METRO MANILA</td>\n",
       "      <td>MANILA CENTRAL</td>\n",
       "      <td>1.0</td>\n",
       "      <td>0.0</td>\n",
       "      <td>NaT</td>\n",
       "      <td>NaT</td>\n",
       "    </tr>\n",
       "    <tr>\n",
       "      <th>1</th>\n",
       "      <td>610.0</td>\n",
       "      <td>FEMALE</td>\n",
       "      <td>9.0</td>\n",
       "      <td>26.0</td>\n",
       "      <td>NaN</td>\n",
       "      <td>NaN</td>\n",
       "      <td>NaN</td>\n",
       "      <td>NaN</td>\n",
       "      <td>b.Retail</td>\n",
       "      <td>b3.Next</td>\n",
       "      <td>...</td>\n",
       "      <td>0.0</td>\n",
       "      <td>172898.642595</td>\n",
       "      <td>298.55</td>\n",
       "      <td>CAINTA FELIX AVE.</td>\n",
       "      <td>NORTHERN METRO MANILA</td>\n",
       "      <td>RIZAL</td>\n",
       "      <td>1.0</td>\n",
       "      <td>0.0</td>\n",
       "      <td>NaT</td>\n",
       "      <td>NaT</td>\n",
       "    </tr>\n",
       "    <tr>\n",
       "      <th>2</th>\n",
       "      <td>1110.0</td>\n",
       "      <td>MALE</td>\n",
       "      <td>13.0</td>\n",
       "      <td>46.0</td>\n",
       "      <td>NaN</td>\n",
       "      <td>NaN</td>\n",
       "      <td>NaN</td>\n",
       "      <td>NaN</td>\n",
       "      <td>b.Retail</td>\n",
       "      <td>d1.Core Mass</td>\n",
       "      <td>...</td>\n",
       "      <td>0.0</td>\n",
       "      <td>NaN</td>\n",
       "      <td>NaN</td>\n",
       "      <td>MALAYBALAY</td>\n",
       "      <td>VISMIN</td>\n",
       "      <td>CDO NORTHERN MINDANAO</td>\n",
       "      <td>0.0</td>\n",
       "      <td>0.0</td>\n",
       "      <td>NaT</td>\n",
       "      <td>NaT</td>\n",
       "    </tr>\n",
       "    <tr>\n",
       "      <th>3</th>\n",
       "      <td>1220.0</td>\n",
       "      <td>FEMALE</td>\n",
       "      <td>4.0</td>\n",
       "      <td>26.0</td>\n",
       "      <td>NaN</td>\n",
       "      <td>NaN</td>\n",
       "      <td>NaN</td>\n",
       "      <td>NaN</td>\n",
       "      <td>b.Retail</td>\n",
       "      <td>d1.Core Mass</td>\n",
       "      <td>...</td>\n",
       "      <td>0.0</td>\n",
       "      <td>7541.108499</td>\n",
       "      <td>13608.69</td>\n",
       "      <td>ANGELES FRIENDSHIP</td>\n",
       "      <td>NORTH LUZON</td>\n",
       "      <td>PAMPANGA NORTH</td>\n",
       "      <td>1.0</td>\n",
       "      <td>0.0</td>\n",
       "      <td>NaT</td>\n",
       "      <td>NaT</td>\n",
       "    </tr>\n",
       "    <tr>\n",
       "      <th>4</th>\n",
       "      <td>1300.0</td>\n",
       "      <td>FEMALE</td>\n",
       "      <td>24.0</td>\n",
       "      <td>58.0</td>\n",
       "      <td>NaN</td>\n",
       "      <td>NaN</td>\n",
       "      <td>NaN</td>\n",
       "      <td>NaN</td>\n",
       "      <td>b.Retail</td>\n",
       "      <td>d1.Core Mass</td>\n",
       "      <td>...</td>\n",
       "      <td>0.0</td>\n",
       "      <td>8929.407051</td>\n",
       "      <td>1139.07</td>\n",
       "      <td>CALAPAN</td>\n",
       "      <td>SOUTH LUZON</td>\n",
       "      <td>BATANGAS</td>\n",
       "      <td>1.0</td>\n",
       "      <td>0.0</td>\n",
       "      <td>NaT</td>\n",
       "      <td>NaT</td>\n",
       "    </tr>\n",
       "  </tbody>\n",
       "</table>\n",
       "<p>5 rows × 22 columns</p>\n",
       "</div>"
      ],
      "text/plain": [
       "   CST_ID  GENDER  TENURE   AGE  PAYROLL_NG_PROXY_FLAG  INVOICE_NG_PROXY_FLAG  \\\n",
       "0   320.0  FEMALE     2.0  68.0                    1.0                    0.0   \n",
       "1   610.0  FEMALE     9.0  26.0                    NaN                    NaN   \n",
       "2  1110.0    MALE    13.0  46.0                    NaN                    NaN   \n",
       "3  1220.0  FEMALE     4.0  26.0                    NaN                    NaN   \n",
       "4  1300.0  FEMALE    24.0  58.0                    NaN                    NaN   \n",
       "\n",
       "   BR_DEPOSIT_PROXY_FLAG  BR_INVOICE_PROXY_FLAG SEGMENT_GRP       SEGMENT  \\\n",
       "0                    0.0                    0.0    b.Retail  d1.Core Mass   \n",
       "1                    NaN                    NaN    b.Retail       b3.Next   \n",
       "2                    NaN                    NaN    b.Retail  d1.Core Mass   \n",
       "3                    NaN                    NaN    b.Retail  d1.Core Mass   \n",
       "4                    NaN                    NaN    b.Retail  d1.Core Mass   \n",
       "\n",
       "   ...  DBA AVE12_ADB_MAR23_FEB24   MTD_ADB                 BOA  \\\n",
       "0  ...  0.0           2847.617086   2565.25       QUIAPO CHURCH   \n",
       "1  ...  0.0         172898.642595    298.55   CAINTA FELIX AVE.   \n",
       "2  ...  0.0                   NaN       NaN          MALAYBALAY   \n",
       "3  ...  0.0           7541.108499  13608.69  ANGELES FRIENDSHIP   \n",
       "4  ...  0.0           8929.407051   1139.07             CALAPAN   \n",
       "\n",
       "                DIVISION                   AREA EOL_FLAG BIZKO_ENROLLED  \\\n",
       "0  SOUTHERN METRO MANILA         MANILA CENTRAL      1.0            0.0   \n",
       "1  NORTHERN METRO MANILA                  RIZAL      1.0            0.0   \n",
       "2                 VISMIN  CDO NORTHERN MINDANAO      0.0            0.0   \n",
       "3            NORTH LUZON         PAMPANGA NORTH      1.0            0.0   \n",
       "4            SOUTH LUZON               BATANGAS      1.0            0.0   \n",
       "\n",
       "   ENROLMENT_DATE  EXPIRY_DATE  \n",
       "0             NaT          NaT  \n",
       "1             NaT          NaT  \n",
       "2             NaT          NaT  \n",
       "3             NaT          NaT  \n",
       "4             NaT          NaT  \n",
       "\n",
       "[5 rows x 22 columns]"
      ]
     },
     "execution_count": 33,
     "metadata": {},
     "output_type": "execute_result"
    }
   ],
   "source": [
    "# merge with output\n",
    "out = out.merge(bizko, on='CST_ID', how='outer')\\\n",
    "            .drop(columns=['IDV_OCP_TYP_ID','TARGET_FLAG_LENIENT']).dropna(subset=['EMPLOYMENT_FLAG'])\n",
    "out['BIZKO_ENROLLED'] = out.BIZKO_ENROLLED.fillna(0)\n",
    "out.shape\n",
    "out.CST_ID.duplicated().sum()\n",
    "out.head()\n"
   ]
  },
  {
   "cell_type": "code",
   "execution_count": 34,
   "metadata": {},
   "outputs": [
    {
     "name": "stdout",
     "output_type": "stream",
     "text": [
      "Procesing SIDE_HUSTLER....\n"
     ]
    },
    {
     "data": {
      "text/plain": [
       "0"
      ]
     },
     "execution_count": 34,
     "metadata": {},
     "output_type": "execute_result"
    },
    {
     "name": "stdout",
     "output_type": "stream",
     "text": [
      "Procesing SELF_EMPLOYED....\n"
     ]
    },
    {
     "data": {
      "text/plain": [
       "0"
      ]
     },
     "execution_count": 34,
     "metadata": {},
     "output_type": "execute_result"
    },
    {
     "name": "stdout",
     "output_type": "stream",
     "text": [
      "Successfully saved: bizko_profiles_202403.xlsx\n"
     ]
    }
   ],
   "source": [
    "# write separate sheets for self employed and side hustlers\n",
    "os.chdir(out_path)\n",
    "with pd.ExcelWriter(final_savename, engine='xlsxwriter') as writer:\n",
    "    # for every bin \n",
    "    for bin in out.EMPLOYMENT_FLAG.unique():\n",
    "        # verbose\n",
    "        print(f\"Procesing {bin}....\")\n",
    "\n",
    "        # query\n",
    "        temp = out.query(\"EMPLOYMENT_FLAG==@bin\")\\\n",
    "                    .drop(columns=['EMPLOYMENT_FLAG'])\n",
    "        \n",
    "        # remove proxy flags if self empoloyed\n",
    "        if bin == 'SELF_EMPLOYED':\n",
    "            temp = temp.drop(columns=temp.filter(regex='PROXY_FLAG').columns)\n",
    "\n",
    "        # write\n",
    "        temp.to_excel(writer, sheet_name=bin)\n",
    "        del temp\n",
    "        gc.collect()\n",
    "\n",
    "# verbose\n",
    "print(f\"Successfully saved: {final_savename}\")"
   ]
  },
  {
   "cell_type": "code",
   "execution_count": 35,
   "metadata": {},
   "outputs": [
    {
     "ename": "NameError",
     "evalue": "name 'asdjajsiodjasd' is not defined",
     "output_type": "error",
     "traceback": [
      "\u001b[1;31m---------------------------------------------------------------------------\u001b[0m",
      "\u001b[1;31mNameError\u001b[0m                                 Traceback (most recent call last)",
      "\u001b[1;32m~\\AppData\\Local\\Temp\\ipykernel_11164\\3197568268.py\u001b[0m in \u001b[0;36m<module>\u001b[1;34m\u001b[0m\n\u001b[0;32m      1\u001b[0m \u001b[1;31m### FORCE ERROR TO STOP RUN HERE\u001b[0m\u001b[1;33m\u001b[0m\u001b[1;33m\u001b[0m\u001b[1;33m\u001b[0m\u001b[0m\n\u001b[1;32m----> 2\u001b[1;33m \u001b[0masdjajsiodjasd\u001b[0m\u001b[1;33m\u001b[0m\u001b[1;33m\u001b[0m\u001b[0m\n\u001b[0m",
      "\u001b[1;31mNameError\u001b[0m: name 'asdjajsiodjasd' is not defined"
     ]
    }
   ],
   "source": [
    "### FORCE ERROR TO STOP RUN HERE\n",
    "asdjajsiodjasd"
   ]
  },
  {
   "cell_type": "markdown",
   "metadata": {},
   "source": [
    "## For sir Joenil Afflu Ask (8/18/2023)"
   ]
  },
  {
   "cell_type": "code",
   "execution_count": null,
   "metadata": {},
   "outputs": [
    {
     "data": {
      "text/html": [
       "<div>\n",
       "<style scoped>\n",
       "    .dataframe tbody tr th:only-of-type {\n",
       "        vertical-align: middle;\n",
       "    }\n",
       "\n",
       "    .dataframe tbody tr th {\n",
       "        vertical-align: top;\n",
       "    }\n",
       "\n",
       "    .dataframe thead th {\n",
       "        text-align: right;\n",
       "    }\n",
       "</style>\n",
       "<table border=\"1\" class=\"dataframe\">\n",
       "  <thead>\n",
       "    <tr style=\"text-align: right;\">\n",
       "      <th></th>\n",
       "      <th>PAYROLL_NG_PROXY_FLAG</th>\n",
       "      <th>INVOICE_NG_PROXY_FLAG</th>\n",
       "      <th>BR_DEPOSIT_PROXY_FLAG</th>\n",
       "      <th>BR_INVOICE_PROXY_FLAG</th>\n",
       "      <th>TARGET_FLAG_LENIENT</th>\n",
       "    </tr>\n",
       "    <tr>\n",
       "      <th>CST_ID</th>\n",
       "      <th></th>\n",
       "      <th></th>\n",
       "      <th></th>\n",
       "      <th></th>\n",
       "      <th></th>\n",
       "    </tr>\n",
       "  </thead>\n",
       "  <tbody>\n",
       "    <tr>\n",
       "      <th>243655000.0</th>\n",
       "      <td>1.0</td>\n",
       "      <td>0.0</td>\n",
       "      <td>0.0</td>\n",
       "      <td>1.0</td>\n",
       "      <td>1</td>\n",
       "    </tr>\n",
       "    <tr>\n",
       "      <th>766765000.0</th>\n",
       "      <td>1.0</td>\n",
       "      <td>0.0</td>\n",
       "      <td>0.0</td>\n",
       "      <td>0.0</td>\n",
       "      <td>1</td>\n",
       "    </tr>\n",
       "    <tr>\n",
       "      <th>172310000.0</th>\n",
       "      <td>1.0</td>\n",
       "      <td>1.0</td>\n",
       "      <td>0.0</td>\n",
       "      <td>0.0</td>\n",
       "      <td>1</td>\n",
       "    </tr>\n",
       "    <tr>\n",
       "      <th>479120000.0</th>\n",
       "      <td>1.0</td>\n",
       "      <td>0.0</td>\n",
       "      <td>1.0</td>\n",
       "      <td>1.0</td>\n",
       "      <td>1</td>\n",
       "    </tr>\n",
       "    <tr>\n",
       "      <th>191385000.0</th>\n",
       "      <td>1.0</td>\n",
       "      <td>0.0</td>\n",
       "      <td>0.0</td>\n",
       "      <td>0.0</td>\n",
       "      <td>1</td>\n",
       "    </tr>\n",
       "    <tr>\n",
       "      <th>...</th>\n",
       "      <td>...</td>\n",
       "      <td>...</td>\n",
       "      <td>...</td>\n",
       "      <td>...</td>\n",
       "      <td>...</td>\n",
       "    </tr>\n",
       "    <tr>\n",
       "      <th>413583300.0</th>\n",
       "      <td>0.0</td>\n",
       "      <td>0.0</td>\n",
       "      <td>0.0</td>\n",
       "      <td>0.0</td>\n",
       "      <td>0</td>\n",
       "    </tr>\n",
       "    <tr>\n",
       "      <th>413579220.0</th>\n",
       "      <td>0.0</td>\n",
       "      <td>0.0</td>\n",
       "      <td>0.0</td>\n",
       "      <td>0.0</td>\n",
       "      <td>0</td>\n",
       "    </tr>\n",
       "    <tr>\n",
       "      <th>413580220.0</th>\n",
       "      <td>0.0</td>\n",
       "      <td>0.0</td>\n",
       "      <td>0.0</td>\n",
       "      <td>0.0</td>\n",
       "      <td>0</td>\n",
       "    </tr>\n",
       "    <tr>\n",
       "      <th>413579320.0</th>\n",
       "      <td>0.0</td>\n",
       "      <td>0.0</td>\n",
       "      <td>0.0</td>\n",
       "      <td>0.0</td>\n",
       "      <td>0</td>\n",
       "    </tr>\n",
       "    <tr>\n",
       "      <th>999999420.0</th>\n",
       "      <td>0.0</td>\n",
       "      <td>0.0</td>\n",
       "      <td>0.0</td>\n",
       "      <td>0.0</td>\n",
       "      <td>0</td>\n",
       "    </tr>\n",
       "  </tbody>\n",
       "</table>\n",
       "<p>2289851 rows × 5 columns</p>\n",
       "</div>"
      ],
      "text/plain": [
       "             PAYROLL_NG_PROXY_FLAG  INVOICE_NG_PROXY_FLAG  \\\n",
       "CST_ID                                                      \n",
       "243655000.0                    1.0                    0.0   \n",
       "766765000.0                    1.0                    0.0   \n",
       "172310000.0                    1.0                    1.0   \n",
       "479120000.0                    1.0                    0.0   \n",
       "191385000.0                    1.0                    0.0   \n",
       "...                            ...                    ...   \n",
       "413583300.0                    0.0                    0.0   \n",
       "413579220.0                    0.0                    0.0   \n",
       "413580220.0                    0.0                    0.0   \n",
       "413579320.0                    0.0                    0.0   \n",
       "999999420.0                    0.0                    0.0   \n",
       "\n",
       "             BR_DEPOSIT_PROXY_FLAG  BR_INVOICE_PROXY_FLAG  TARGET_FLAG_LENIENT  \n",
       "CST_ID                                                                          \n",
       "243655000.0                    0.0                    1.0                    1  \n",
       "766765000.0                    0.0                    0.0                    1  \n",
       "172310000.0                    0.0                    0.0                    1  \n",
       "479120000.0                    1.0                    1.0                    1  \n",
       "191385000.0                    0.0                    0.0                    1  \n",
       "...                            ...                    ...                  ...  \n",
       "413583300.0                    0.0                    0.0                    0  \n",
       "413579220.0                    0.0                    0.0                    0  \n",
       "413580220.0                    0.0                    0.0                    0  \n",
       "413579320.0                    0.0                    0.0                    0  \n",
       "999999420.0                    0.0                    0.0                    0  \n",
       "\n",
       "[2289851 rows x 5 columns]"
      ]
     },
     "execution_count": 63,
     "metadata": {},
     "output_type": "execute_result"
    }
   ],
   "source": [
    "# get final table\n",
    "final_deets = final[['TARGET_FLAG_LENIENT']].merge(sc[['CST_ID','cl_id4']], on='CST_ID', how='left').merge(cs[['CST_ID','IDV_OCP_TYP_ID']])\n",
    "final"
   ]
  },
  {
   "cell_type": "code",
   "execution_count": null,
   "metadata": {},
   "outputs": [
    {
     "data": {
      "text/html": [
       "<div>\n",
       "<style scoped>\n",
       "    .dataframe tbody tr th:only-of-type {\n",
       "        vertical-align: middle;\n",
       "    }\n",
       "\n",
       "    .dataframe tbody tr th {\n",
       "        vertical-align: top;\n",
       "    }\n",
       "\n",
       "    .dataframe thead th {\n",
       "        text-align: right;\n",
       "    }\n",
       "</style>\n",
       "<table border=\"1\" class=\"dataframe\">\n",
       "  <thead>\n",
       "    <tr style=\"text-align: right;\">\n",
       "      <th></th>\n",
       "      <th>CST_ID</th>\n",
       "      <th>TARGET_FLAG_LENIENT</th>\n",
       "      <th>cl_id4</th>\n",
       "      <th>IDV_OCP_TYP_ID</th>\n",
       "      <th>SELF_EMPLOYED</th>\n",
       "    </tr>\n",
       "  </thead>\n",
       "  <tbody>\n",
       "  </tbody>\n",
       "</table>\n",
       "</div>"
      ],
      "text/plain": [
       "Empty DataFrame\n",
       "Columns: [CST_ID, TARGET_FLAG_LENIENT, cl_id4, IDV_OCP_TYP_ID, SELF_EMPLOYED]\n",
       "Index: []"
      ]
     },
     "execution_count": 64,
     "metadata": {},
     "output_type": "execute_result"
    }
   ],
   "source": [
    "# check final_deets\n",
    "final_afflu = final_deets.loc[final_deets.cl_id4.isin(['Next','Top Personal', 'Preferred','Gold'])].query(\"TARGET_FLAG_LENIENT==1\")\n",
    "final_afflu['SELF_EMPLOYED'] = np.where(final_afflu.IDV_OCP_TYP_ID=='SELFEMPLOYED',1,0)\n",
    "\n",
    "final_afflu"
   ]
  },
  {
   "cell_type": "code",
   "execution_count": null,
   "metadata": {},
   "outputs": [
    {
     "data": {
      "text/html": [
       "<div>\n",
       "<style scoped>\n",
       "    .dataframe tbody tr th:only-of-type {\n",
       "        vertical-align: middle;\n",
       "    }\n",
       "\n",
       "    .dataframe tbody tr th {\n",
       "        vertical-align: top;\n",
       "    }\n",
       "\n",
       "    .dataframe thead th {\n",
       "        text-align: right;\n",
       "    }\n",
       "</style>\n",
       "<table border=\"1\" class=\"dataframe\">\n",
       "  <thead>\n",
       "    <tr style=\"text-align: right;\">\n",
       "      <th></th>\n",
       "      <th></th>\n",
       "      <th>0</th>\n",
       "    </tr>\n",
       "    <tr>\n",
       "      <th>SELF_EMPLOYED</th>\n",
       "      <th>SEGMENT</th>\n",
       "      <th></th>\n",
       "    </tr>\n",
       "  </thead>\n",
       "  <tbody>\n",
       "  </tbody>\n",
       "</table>\n",
       "</div>"
      ],
      "text/plain": [
       "Empty DataFrame\n",
       "Columns: [0]\n",
       "Index: []"
      ]
     },
     "execution_count": 65,
     "metadata": {},
     "output_type": "execute_result"
    }
   ],
   "source": [
    "# size the whole bnase\n",
    "final_afflu.rename(columns={'cl_id4':'SEGMENT'}).groupby(['SELF_EMPLOYED','SEGMENT']).size().to_frame().applymap(fmt)"
   ]
  },
  {
   "cell_type": "code",
   "execution_count": null,
   "metadata": {},
   "outputs": [
    {
     "data": {
      "text/plain": [
       "0"
      ]
     },
     "execution_count": 66,
     "metadata": {},
     "output_type": "execute_result"
    }
   ],
   "source": [
    "final_afflu.rename(columns={'cl_id4':'SEGMENT'}).groupby(['SELF_EMPLOYED','SEGMENT']).size().sum()"
   ]
  },
  {
   "cell_type": "code",
   "execution_count": null,
   "metadata": {},
   "outputs": [],
   "source": []
  }
 ],
 "metadata": {
  "kernelspec": {
   "display_name": "ds_2023",
   "language": "python",
   "name": "python3"
  },
  "language_info": {
   "codemirror_mode": {
    "name": "ipython",
    "version": 3
   },
   "file_extension": ".py",
   "mimetype": "text/x-python",
   "name": "python",
   "nbconvert_exporter": "python",
   "pygments_lexer": "ipython3",
   "version": "3.7.16"
  }
 },
 "nbformat": 4,
 "nbformat_minor": 4
}
